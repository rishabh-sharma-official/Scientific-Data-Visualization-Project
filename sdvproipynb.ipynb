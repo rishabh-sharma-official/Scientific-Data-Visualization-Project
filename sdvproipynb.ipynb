{
  "cells": [
    {
      "cell_type": "code",
      "execution_count": 18,
      "metadata": {},
      "outputs": [
        {
          "data": {
            "application/vnd.plotly.v1+json": {
              "config": {
                "plotlyServerURL": "https://plot.ly"
              },
              "data": [
                {
                  "alignmentgroup": "True",
                  "bingroup": "x",
                  "hovertemplate": "Log GDP (base 10)=%{x}<br>count=%{y}<extra></extra>",
                  "legendgroup": "",
                  "marker": {
                    "color": "#636efa",
                    "pattern": {
                      "shape": ""
                    }
                  },
                  "name": "",
                  "nbinsx": 20,
                  "offsetgroup": "",
                  "orientation": "v",
                  "showlegend": false,
                  "type": "histogram",
                  "x": [
                    10.281064149518123,
                    10.184068707204915,
                    11.230418868177068,
                    10.976053694948476,
                    11.65288758529668,
                    10.135857529713677,
                    10.593363612682998,
                    11.480827665374886,
                    9.716754357432697,
                    11.723953479224404,
                    9.274068578712898,
                    10.158082194107442,
                    10.263411426740493,
                    10.934498451243568,
                    10.197165013117116,
                    10.769319753439316,
                    9.297069847707439,
                    12.239656187369937,
                    11.450738814467822,
                    13.299071260027409,
                    10.781148755334824,
                    11.391797975442591,
                    10.675041286953839,
                    10.949103464467205,
                    10.496749115292955,
                    9.743160697245067,
                    12.43385272974667,
                    10.221621820842753,
                    9.246454028366049,
                    10.249031844372789,
                    12.58496750057322,
                    10.825968706664764,
                    11.32191468850037,
                    10.884854167404232,
                    10.39959404406099,
                    11.206737274977352,
                    12.416806871822944,
                    12.048904124031493,
                    11.64869685586852,
                    11.3693903622159,
                    11.596705563478377,
                    10.216378933329867,
                    10.640915136901482,
                    11.255662570447074,
                    10.980017416749412,
                    11.129564866165683,
                    9.92709407250586,
                    10.259446679426244,
                    10.532973413915938,
                    10.727273133840791,
                    10.73415403126329,
                    10.85189964668703,
                    10.148723128811284,
                    9.88460872030628,
                    11.56193757073243,
                    10.243289647484882,
                    10.16985530040654,
                    10.151689846194412,
                    10.141539139783239,
                    11.074543201011327,
                    10.174180797762789,
                    10.88130391167788,
                    10.48630832934147,
                    11.315820866928036,
                    10.097636077380901,
                    10.111536218466208,
                    11.651394742927774,
                    10.886395366918789,
                    11.483444648098535,
                    10.39741178412354,
                    11.35573505196547,
                    11.576105717456516,
                    11.77244229523586,
                    11.37600374019678,
                    11.398074521875586,
                    12.230417390165858,
                    11.899255025521393,
                    10.37250851155421,
                    10.711040569869864,
                    9.59565870034523,
                    11.022932507490912,
                    10.73031511366904,
                    12.307282047033347,
                    12.144299008351629,
                    10.924324697220506,
                    10.276514294933303,
                    10.60643517566831,
                    9.909375577378633,
                    10.800559467960978,
                    11.73531937332808,
                    9.223636174929164,
                    10.38202069773322,
                    10.588806091658071,
                    11.877608419878396,
                    10.536397186947006,
                    11.186902875884014,
                    12.451343196004522,
                    10.748543947937044,
                    11.41817072616057,
                    10.36294823280529
                  ],
                  "xaxis": "x",
                  "yaxis": "y"
                }
              ],
              "layout": {
                "bargap": 0.05,
                "barmode": "relative",
                "legend": {
                  "tracegroupgap": 0
                },
                "template": {
                  "data": {
                    "bar": [
                      {
                        "error_x": {
                          "color": "#2a3f5f"
                        },
                        "error_y": {
                          "color": "#2a3f5f"
                        },
                        "marker": {
                          "line": {
                            "color": "#E5ECF6",
                            "width": 0.5
                          },
                          "pattern": {
                            "fillmode": "overlay",
                            "size": 10,
                            "solidity": 0.2
                          }
                        },
                        "type": "bar"
                      }
                    ],
                    "barpolar": [
                      {
                        "marker": {
                          "line": {
                            "color": "#E5ECF6",
                            "width": 0.5
                          },
                          "pattern": {
                            "fillmode": "overlay",
                            "size": 10,
                            "solidity": 0.2
                          }
                        },
                        "type": "barpolar"
                      }
                    ],
                    "carpet": [
                      {
                        "aaxis": {
                          "endlinecolor": "#2a3f5f",
                          "gridcolor": "white",
                          "linecolor": "white",
                          "minorgridcolor": "white",
                          "startlinecolor": "#2a3f5f"
                        },
                        "baxis": {
                          "endlinecolor": "#2a3f5f",
                          "gridcolor": "white",
                          "linecolor": "white",
                          "minorgridcolor": "white",
                          "startlinecolor": "#2a3f5f"
                        },
                        "type": "carpet"
                      }
                    ],
                    "choropleth": [
                      {
                        "colorbar": {
                          "outlinewidth": 0,
                          "ticks": ""
                        },
                        "type": "choropleth"
                      }
                    ],
                    "contour": [
                      {
                        "colorbar": {
                          "outlinewidth": 0,
                          "ticks": ""
                        },
                        "colorscale": [
                          [
                            0,
                            "#0d0887"
                          ],
                          [
                            0.1111111111111111,
                            "#46039f"
                          ],
                          [
                            0.2222222222222222,
                            "#7201a8"
                          ],
                          [
                            0.3333333333333333,
                            "#9c179e"
                          ],
                          [
                            0.4444444444444444,
                            "#bd3786"
                          ],
                          [
                            0.5555555555555556,
                            "#d8576b"
                          ],
                          [
                            0.6666666666666666,
                            "#ed7953"
                          ],
                          [
                            0.7777777777777778,
                            "#fb9f3a"
                          ],
                          [
                            0.8888888888888888,
                            "#fdca26"
                          ],
                          [
                            1,
                            "#f0f921"
                          ]
                        ],
                        "type": "contour"
                      }
                    ],
                    "contourcarpet": [
                      {
                        "colorbar": {
                          "outlinewidth": 0,
                          "ticks": ""
                        },
                        "type": "contourcarpet"
                      }
                    ],
                    "heatmap": [
                      {
                        "colorbar": {
                          "outlinewidth": 0,
                          "ticks": ""
                        },
                        "colorscale": [
                          [
                            0,
                            "#0d0887"
                          ],
                          [
                            0.1111111111111111,
                            "#46039f"
                          ],
                          [
                            0.2222222222222222,
                            "#7201a8"
                          ],
                          [
                            0.3333333333333333,
                            "#9c179e"
                          ],
                          [
                            0.4444444444444444,
                            "#bd3786"
                          ],
                          [
                            0.5555555555555556,
                            "#d8576b"
                          ],
                          [
                            0.6666666666666666,
                            "#ed7953"
                          ],
                          [
                            0.7777777777777778,
                            "#fb9f3a"
                          ],
                          [
                            0.8888888888888888,
                            "#fdca26"
                          ],
                          [
                            1,
                            "#f0f921"
                          ]
                        ],
                        "type": "heatmap"
                      }
                    ],
                    "heatmapgl": [
                      {
                        "colorbar": {
                          "outlinewidth": 0,
                          "ticks": ""
                        },
                        "colorscale": [
                          [
                            0,
                            "#0d0887"
                          ],
                          [
                            0.1111111111111111,
                            "#46039f"
                          ],
                          [
                            0.2222222222222222,
                            "#7201a8"
                          ],
                          [
                            0.3333333333333333,
                            "#9c179e"
                          ],
                          [
                            0.4444444444444444,
                            "#bd3786"
                          ],
                          [
                            0.5555555555555556,
                            "#d8576b"
                          ],
                          [
                            0.6666666666666666,
                            "#ed7953"
                          ],
                          [
                            0.7777777777777778,
                            "#fb9f3a"
                          ],
                          [
                            0.8888888888888888,
                            "#fdca26"
                          ],
                          [
                            1,
                            "#f0f921"
                          ]
                        ],
                        "type": "heatmapgl"
                      }
                    ],
                    "histogram": [
                      {
                        "marker": {
                          "pattern": {
                            "fillmode": "overlay",
                            "size": 10,
                            "solidity": 0.2
                          }
                        },
                        "type": "histogram"
                      }
                    ],
                    "histogram2d": [
                      {
                        "colorbar": {
                          "outlinewidth": 0,
                          "ticks": ""
                        },
                        "colorscale": [
                          [
                            0,
                            "#0d0887"
                          ],
                          [
                            0.1111111111111111,
                            "#46039f"
                          ],
                          [
                            0.2222222222222222,
                            "#7201a8"
                          ],
                          [
                            0.3333333333333333,
                            "#9c179e"
                          ],
                          [
                            0.4444444444444444,
                            "#bd3786"
                          ],
                          [
                            0.5555555555555556,
                            "#d8576b"
                          ],
                          [
                            0.6666666666666666,
                            "#ed7953"
                          ],
                          [
                            0.7777777777777778,
                            "#fb9f3a"
                          ],
                          [
                            0.8888888888888888,
                            "#fdca26"
                          ],
                          [
                            1,
                            "#f0f921"
                          ]
                        ],
                        "type": "histogram2d"
                      }
                    ],
                    "histogram2dcontour": [
                      {
                        "colorbar": {
                          "outlinewidth": 0,
                          "ticks": ""
                        },
                        "colorscale": [
                          [
                            0,
                            "#0d0887"
                          ],
                          [
                            0.1111111111111111,
                            "#46039f"
                          ],
                          [
                            0.2222222222222222,
                            "#7201a8"
                          ],
                          [
                            0.3333333333333333,
                            "#9c179e"
                          ],
                          [
                            0.4444444444444444,
                            "#bd3786"
                          ],
                          [
                            0.5555555555555556,
                            "#d8576b"
                          ],
                          [
                            0.6666666666666666,
                            "#ed7953"
                          ],
                          [
                            0.7777777777777778,
                            "#fb9f3a"
                          ],
                          [
                            0.8888888888888888,
                            "#fdca26"
                          ],
                          [
                            1,
                            "#f0f921"
                          ]
                        ],
                        "type": "histogram2dcontour"
                      }
                    ],
                    "mesh3d": [
                      {
                        "colorbar": {
                          "outlinewidth": 0,
                          "ticks": ""
                        },
                        "type": "mesh3d"
                      }
                    ],
                    "parcoords": [
                      {
                        "line": {
                          "colorbar": {
                            "outlinewidth": 0,
                            "ticks": ""
                          }
                        },
                        "type": "parcoords"
                      }
                    ],
                    "pie": [
                      {
                        "automargin": true,
                        "type": "pie"
                      }
                    ],
                    "scatter": [
                      {
                        "fillpattern": {
                          "fillmode": "overlay",
                          "size": 10,
                          "solidity": 0.2
                        },
                        "type": "scatter"
                      }
                    ],
                    "scatter3d": [
                      {
                        "line": {
                          "colorbar": {
                            "outlinewidth": 0,
                            "ticks": ""
                          }
                        },
                        "marker": {
                          "colorbar": {
                            "outlinewidth": 0,
                            "ticks": ""
                          }
                        },
                        "type": "scatter3d"
                      }
                    ],
                    "scattercarpet": [
                      {
                        "marker": {
                          "colorbar": {
                            "outlinewidth": 0,
                            "ticks": ""
                          }
                        },
                        "type": "scattercarpet"
                      }
                    ],
                    "scattergeo": [
                      {
                        "marker": {
                          "colorbar": {
                            "outlinewidth": 0,
                            "ticks": ""
                          }
                        },
                        "type": "scattergeo"
                      }
                    ],
                    "scattergl": [
                      {
                        "marker": {
                          "colorbar": {
                            "outlinewidth": 0,
                            "ticks": ""
                          }
                        },
                        "type": "scattergl"
                      }
                    ],
                    "scattermapbox": [
                      {
                        "marker": {
                          "colorbar": {
                            "outlinewidth": 0,
                            "ticks": ""
                          }
                        },
                        "type": "scattermapbox"
                      }
                    ],
                    "scatterpolar": [
                      {
                        "marker": {
                          "colorbar": {
                            "outlinewidth": 0,
                            "ticks": ""
                          }
                        },
                        "type": "scatterpolar"
                      }
                    ],
                    "scatterpolargl": [
                      {
                        "marker": {
                          "colorbar": {
                            "outlinewidth": 0,
                            "ticks": ""
                          }
                        },
                        "type": "scatterpolargl"
                      }
                    ],
                    "scatterternary": [
                      {
                        "marker": {
                          "colorbar": {
                            "outlinewidth": 0,
                            "ticks": ""
                          }
                        },
                        "type": "scatterternary"
                      }
                    ],
                    "surface": [
                      {
                        "colorbar": {
                          "outlinewidth": 0,
                          "ticks": ""
                        },
                        "colorscale": [
                          [
                            0,
                            "#0d0887"
                          ],
                          [
                            0.1111111111111111,
                            "#46039f"
                          ],
                          [
                            0.2222222222222222,
                            "#7201a8"
                          ],
                          [
                            0.3333333333333333,
                            "#9c179e"
                          ],
                          [
                            0.4444444444444444,
                            "#bd3786"
                          ],
                          [
                            0.5555555555555556,
                            "#d8576b"
                          ],
                          [
                            0.6666666666666666,
                            "#ed7953"
                          ],
                          [
                            0.7777777777777778,
                            "#fb9f3a"
                          ],
                          [
                            0.8888888888888888,
                            "#fdca26"
                          ],
                          [
                            1,
                            "#f0f921"
                          ]
                        ],
                        "type": "surface"
                      }
                    ],
                    "table": [
                      {
                        "cells": {
                          "fill": {
                            "color": "#EBF0F8"
                          },
                          "line": {
                            "color": "white"
                          }
                        },
                        "header": {
                          "fill": {
                            "color": "#C8D4E3"
                          },
                          "line": {
                            "color": "white"
                          }
                        },
                        "type": "table"
                      }
                    ]
                  },
                  "layout": {
                    "annotationdefaults": {
                      "arrowcolor": "#2a3f5f",
                      "arrowhead": 0,
                      "arrowwidth": 1
                    },
                    "autotypenumbers": "strict",
                    "coloraxis": {
                      "colorbar": {
                        "outlinewidth": 0,
                        "ticks": ""
                      }
                    },
                    "colorscale": {
                      "diverging": [
                        [
                          0,
                          "#8e0152"
                        ],
                        [
                          0.1,
                          "#c51b7d"
                        ],
                        [
                          0.2,
                          "#de77ae"
                        ],
                        [
                          0.3,
                          "#f1b6da"
                        ],
                        [
                          0.4,
                          "#fde0ef"
                        ],
                        [
                          0.5,
                          "#f7f7f7"
                        ],
                        [
                          0.6,
                          "#e6f5d0"
                        ],
                        [
                          0.7,
                          "#b8e186"
                        ],
                        [
                          0.8,
                          "#7fbc41"
                        ],
                        [
                          0.9,
                          "#4d9221"
                        ],
                        [
                          1,
                          "#276419"
                        ]
                      ],
                      "sequential": [
                        [
                          0,
                          "#0d0887"
                        ],
                        [
                          0.1111111111111111,
                          "#46039f"
                        ],
                        [
                          0.2222222222222222,
                          "#7201a8"
                        ],
                        [
                          0.3333333333333333,
                          "#9c179e"
                        ],
                        [
                          0.4444444444444444,
                          "#bd3786"
                        ],
                        [
                          0.5555555555555556,
                          "#d8576b"
                        ],
                        [
                          0.6666666666666666,
                          "#ed7953"
                        ],
                        [
                          0.7777777777777778,
                          "#fb9f3a"
                        ],
                        [
                          0.8888888888888888,
                          "#fdca26"
                        ],
                        [
                          1,
                          "#f0f921"
                        ]
                      ],
                      "sequentialminus": [
                        [
                          0,
                          "#0d0887"
                        ],
                        [
                          0.1111111111111111,
                          "#46039f"
                        ],
                        [
                          0.2222222222222222,
                          "#7201a8"
                        ],
                        [
                          0.3333333333333333,
                          "#9c179e"
                        ],
                        [
                          0.4444444444444444,
                          "#bd3786"
                        ],
                        [
                          0.5555555555555556,
                          "#d8576b"
                        ],
                        [
                          0.6666666666666666,
                          "#ed7953"
                        ],
                        [
                          0.7777777777777778,
                          "#fb9f3a"
                        ],
                        [
                          0.8888888888888888,
                          "#fdca26"
                        ],
                        [
                          1,
                          "#f0f921"
                        ]
                      ]
                    },
                    "colorway": [
                      "#636efa",
                      "#EF553B",
                      "#00cc96",
                      "#ab63fa",
                      "#FFA15A",
                      "#19d3f3",
                      "#FF6692",
                      "#B6E880",
                      "#FF97FF",
                      "#FECB52"
                    ],
                    "font": {
                      "color": "#2a3f5f"
                    },
                    "geo": {
                      "bgcolor": "white",
                      "lakecolor": "white",
                      "landcolor": "#E5ECF6",
                      "showlakes": true,
                      "showland": true,
                      "subunitcolor": "white"
                    },
                    "hoverlabel": {
                      "align": "left"
                    },
                    "hovermode": "closest",
                    "mapbox": {
                      "style": "light"
                    },
                    "paper_bgcolor": "white",
                    "plot_bgcolor": "#E5ECF6",
                    "polar": {
                      "angularaxis": {
                        "gridcolor": "white",
                        "linecolor": "white",
                        "ticks": ""
                      },
                      "bgcolor": "#E5ECF6",
                      "radialaxis": {
                        "gridcolor": "white",
                        "linecolor": "white",
                        "ticks": ""
                      }
                    },
                    "scene": {
                      "xaxis": {
                        "backgroundcolor": "#E5ECF6",
                        "gridcolor": "white",
                        "gridwidth": 2,
                        "linecolor": "white",
                        "showbackground": true,
                        "ticks": "",
                        "zerolinecolor": "white"
                      },
                      "yaxis": {
                        "backgroundcolor": "#E5ECF6",
                        "gridcolor": "white",
                        "gridwidth": 2,
                        "linecolor": "white",
                        "showbackground": true,
                        "ticks": "",
                        "zerolinecolor": "white"
                      },
                      "zaxis": {
                        "backgroundcolor": "#E5ECF6",
                        "gridcolor": "white",
                        "gridwidth": 2,
                        "linecolor": "white",
                        "showbackground": true,
                        "ticks": "",
                        "zerolinecolor": "white"
                      }
                    },
                    "shapedefaults": {
                      "line": {
                        "color": "#2a3f5f"
                      }
                    },
                    "ternary": {
                      "aaxis": {
                        "gridcolor": "white",
                        "linecolor": "white",
                        "ticks": ""
                      },
                      "baxis": {
                        "gridcolor": "white",
                        "linecolor": "white",
                        "ticks": ""
                      },
                      "bgcolor": "#E5ECF6",
                      "caxis": {
                        "gridcolor": "white",
                        "linecolor": "white",
                        "ticks": ""
                      }
                    },
                    "title": {
                      "x": 0.05
                    },
                    "xaxis": {
                      "automargin": true,
                      "gridcolor": "white",
                      "linecolor": "white",
                      "ticks": "",
                      "title": {
                        "standoff": 15
                      },
                      "zerolinecolor": "white",
                      "zerolinewidth": 2
                    },
                    "yaxis": {
                      "automargin": true,
                      "gridcolor": "white",
                      "linecolor": "white",
                      "ticks": "",
                      "title": {
                        "standoff": 15
                      },
                      "zerolinecolor": "white",
                      "zerolinewidth": 2
                    }
                  }
                },
                "title": {
                  "text": "Distribution of Logarithmic GDP"
                },
                "xaxis": {
                  "anchor": "y",
                  "domain": [
                    0,
                    1
                  ],
                  "title": {
                    "text": "Log GDP (base 10)"
                  }
                },
                "yaxis": {
                  "anchor": "x",
                  "domain": [
                    0,
                    1
                  ],
                  "title": {
                    "text": "Frequency"
                  }
                }
              }
            }
          },
          "metadata": {},
          "output_type": "display_data"
        }
      ],
      "source": [
        "import pandas as pd\n",
        "import numpy as np\n",
        "import plotly.express as px\n",
        "\n",
        "# Read the CSV file into a pandas DataFrame\n",
        "df = pd.read_csv('world-data-2023.csv')\n",
        "\n",
        "# Convert non-string columns to string type\n",
        "if 'non_string_column' in df.columns:\n",
        "    df['non_string_column'] = df['non_string_column'].astype(str)\n",
        "\n",
        "\n",
        "def is_string_column(column):\n",
        "    return column.dtype == 'object'\n",
        "\n",
        "# Check if each column is a string column\n",
        "string_columns = df.columns[df.apply(is_string_column)]\n",
        "\n",
        "# Apply the str accessor only to string columns\n",
        "mask = df[string_columns].apply(lambda x: x.str.contains('¿½')).any(axis=1)\n",
        "\n",
        "# Filter out rows where the character \"¿½\" is present\n",
        "df = df[~mask]\n",
        "\n",
        "# Remove rows with NaN values from all columns\n",
        "df = df.dropna()\n",
        "\n",
        "\n",
        "# Convert the 'GDP' column to string\n",
        "df['GDP'] = df['GDP'].astype(str)\n",
        "\n",
        "# Remove commas from 'GDP' column and convert to numeric\n",
        "df['GDP'] = df['GDP'].str.replace('$', '', regex=False)\n",
        "df['GDP'] = df['GDP'].str.replace(',', '', regex=False)\n",
        "df['GDP'] = pd.to_numeric(df['GDP'])\n",
        "\n",
        "# Logarithmic transformation for GDP\n",
        "df['Log_GDP'] = np.log10(df['GDP'])\n",
        "\n",
        "# Remove commas from 'Density' column and convert to numeric\n",
        "df['Density'] = df['Density'].str.replace(',', '', regex=False)\n",
        "df['Density'] = pd.to_numeric(df['Density'])\n",
        "\n",
        "# Create histogram using Plotly\n",
        "fig = px.histogram(df, x='Log_GDP', nbins=20, title='Distribution of Logarithmic GDP', \n",
        "                   labels={'Log_GDP': 'Log GDP (base 10)', 'count': 'Frequency'})\n",
        "fig.update_layout(\n",
        "    xaxis=dict(title='Log GDP (base 10)'),\n",
        "    yaxis=dict(title='Frequency'),\n",
        "    bargap=0.05,  # gap between bars of adjacent location coordinates\n",
        ")\n",
        "\n",
        "# Save plot as SVG file\n",
        "fig.write_image(\"heap.svg\")\n",
        "\n",
        "\n",
        "fig.show()\n"
      ]
    },
    {
      "cell_type": "code",
      "execution_count": 17,
      "metadata": {},
      "outputs": [
        {
          "data": {
            "application/vnd.plotly.v1+json": {
              "config": {
                "plotlyServerURL": "https://plot.ly"
              },
              "data": [
                {
                  "customdata": [
                    [
                      "Afghanistan",
                      19101353833
                    ],
                    [
                      "Afghanistan",
                      19101353833
                    ],
                    [
                      "Afghanistan",
                      19101353833
                    ],
                    [
                      "Afghanistan",
                      19101353833
                    ],
                    [
                      "Afghanistan",
                      19101353833
                    ],
                    [
                      "Afghanistan",
                      19101353833
                    ],
                    [
                      "Afghanistan",
                      19101353833
                    ],
                    [
                      "Afghanistan",
                      19101353833
                    ],
                    [
                      "Afghanistan",
                      19101353833
                    ],
                    [
                      "Afghanistan",
                      19101353833
                    ],
                    [
                      "Afghanistan",
                      19101353833
                    ],
                    [
                      "Afghanistan",
                      19101353833
                    ],
                    [
                      "Afghanistan",
                      19101353833
                    ],
                    [
                      "Afghanistan",
                      19101353833
                    ],
                    [
                      "Afghanistan",
                      19101353833
                    ],
                    [
                      "Afghanistan",
                      19101353833
                    ],
                    [
                      "Afghanistan",
                      19101353833
                    ],
                    [
                      "Afghanistan",
                      19101353833
                    ],
                    [
                      "Afghanistan",
                      19101353833
                    ],
                    [
                      "Afghanistan",
                      19101353833
                    ]
                  ],
                  "hovertemplate": "Country=%{customdata[0]}<br>Population Density=%{x}<br>Logarithmic GDP (base 10)=%{y}<br>GDP=%{customdata[1]}<extra></extra>",
                  "legendgroup": "Afghanistan",
                  "marker": {
                    "color": "#636efa",
                    "opacity": 0.7,
                    "size": 10,
                    "symbol": "circle"
                  },
                  "mode": "markers",
                  "name": "Afghanistan",
                  "showlegend": true,
                  "type": "scattergl",
                  "x": [
                    60,
                    60,
                    60,
                    60,
                    60,
                    60,
                    60,
                    60,
                    60,
                    60,
                    60,
                    60,
                    60,
                    60,
                    60,
                    60,
                    60,
                    60,
                    60,
                    60
                  ],
                  "xaxis": "x",
                  "y": [
                    10.281064149518123,
                    10.281064149518123,
                    10.281064149518123,
                    10.281064149518123,
                    10.281064149518123,
                    10.281064149518123,
                    10.281064149518123,
                    10.281064149518123,
                    10.281064149518123,
                    10.281064149518123,
                    10.281064149518123,
                    10.281064149518123,
                    10.281064149518123,
                    10.281064149518123,
                    10.281064149518123,
                    10.281064149518123,
                    10.281064149518123,
                    10.281064149518123,
                    10.281064149518123,
                    10.281064149518123
                  ],
                  "yaxis": "y"
                },
                {
                  "customdata": [
                    [
                      "Albania",
                      15278077447
                    ],
                    [
                      "Albania",
                      15278077447
                    ],
                    [
                      "Albania",
                      15278077447
                    ],
                    [
                      "Albania",
                      15278077447
                    ],
                    [
                      "Albania",
                      15278077447
                    ],
                    [
                      "Albania",
                      15278077447
                    ],
                    [
                      "Albania",
                      15278077447
                    ],
                    [
                      "Albania",
                      15278077447
                    ],
                    [
                      "Albania",
                      15278077447
                    ],
                    [
                      "Albania",
                      15278077447
                    ],
                    [
                      "Albania",
                      15278077447
                    ],
                    [
                      "Albania",
                      15278077447
                    ],
                    [
                      "Albania",
                      15278077447
                    ],
                    [
                      "Albania",
                      15278077447
                    ],
                    [
                      "Albania",
                      15278077447
                    ],
                    [
                      "Albania",
                      15278077447
                    ],
                    [
                      "Albania",
                      15278077447
                    ],
                    [
                      "Albania",
                      15278077447
                    ],
                    [
                      "Albania",
                      15278077447
                    ],
                    [
                      "Albania",
                      15278077447
                    ]
                  ],
                  "hovertemplate": "Country=%{customdata[0]}<br>Population Density=%{x}<br>Logarithmic GDP (base 10)=%{y}<br>GDP=%{customdata[1]}<extra></extra>",
                  "legendgroup": "Albania",
                  "marker": {
                    "color": "#EF553B",
                    "opacity": 0.7,
                    "size": 10,
                    "symbol": "circle"
                  },
                  "mode": "markers",
                  "name": "Albania",
                  "showlegend": true,
                  "type": "scattergl",
                  "x": [
                    105,
                    105,
                    105,
                    105,
                    105,
                    105,
                    105,
                    105,
                    105,
                    105,
                    105,
                    105,
                    105,
                    105,
                    105,
                    105,
                    105,
                    105,
                    105,
                    105
                  ],
                  "xaxis": "x",
                  "y": [
                    10.184068707204915,
                    10.184068707204915,
                    10.184068707204915,
                    10.184068707204915,
                    10.184068707204915,
                    10.184068707204915,
                    10.184068707204915,
                    10.184068707204915,
                    10.184068707204915,
                    10.184068707204915,
                    10.184068707204915,
                    10.184068707204915,
                    10.184068707204915,
                    10.184068707204915,
                    10.184068707204915,
                    10.184068707204915,
                    10.184068707204915,
                    10.184068707204915,
                    10.184068707204915,
                    10.184068707204915
                  ],
                  "yaxis": "y"
                },
                {
                  "customdata": [
                    [
                      "Algeria",
                      169988236398
                    ],
                    [
                      "Algeria",
                      169988236398
                    ],
                    [
                      "Algeria",
                      169988236398
                    ],
                    [
                      "Algeria",
                      169988236398
                    ],
                    [
                      "Algeria",
                      169988236398
                    ],
                    [
                      "Algeria",
                      169988236398
                    ],
                    [
                      "Algeria",
                      169988236398
                    ],
                    [
                      "Algeria",
                      169988236398
                    ],
                    [
                      "Algeria",
                      169988236398
                    ],
                    [
                      "Algeria",
                      169988236398
                    ],
                    [
                      "Algeria",
                      169988236398
                    ],
                    [
                      "Algeria",
                      169988236398
                    ],
                    [
                      "Algeria",
                      169988236398
                    ],
                    [
                      "Algeria",
                      169988236398
                    ],
                    [
                      "Algeria",
                      169988236398
                    ],
                    [
                      "Algeria",
                      169988236398
                    ],
                    [
                      "Algeria",
                      169988236398
                    ],
                    [
                      "Algeria",
                      169988236398
                    ],
                    [
                      "Algeria",
                      169988236398
                    ],
                    [
                      "Algeria",
                      169988236398
                    ]
                  ],
                  "hovertemplate": "Country=%{customdata[0]}<br>Population Density=%{x}<br>Logarithmic GDP (base 10)=%{y}<br>GDP=%{customdata[1]}<extra></extra>",
                  "legendgroup": "Algeria",
                  "marker": {
                    "color": "#00cc96",
                    "opacity": 0.7,
                    "size": 10,
                    "symbol": "circle"
                  },
                  "mode": "markers",
                  "name": "Algeria",
                  "showlegend": true,
                  "type": "scattergl",
                  "x": [
                    18,
                    18,
                    18,
                    18,
                    18,
                    18,
                    18,
                    18,
                    18,
                    18,
                    18,
                    18,
                    18,
                    18,
                    18,
                    18,
                    18,
                    18,
                    18,
                    18
                  ],
                  "xaxis": "x",
                  "y": [
                    11.230418868177068,
                    11.230418868177068,
                    11.230418868177068,
                    11.230418868177068,
                    11.230418868177068,
                    11.230418868177068,
                    11.230418868177068,
                    11.230418868177068,
                    11.230418868177068,
                    11.230418868177068,
                    11.230418868177068,
                    11.230418868177068,
                    11.230418868177068,
                    11.230418868177068,
                    11.230418868177068,
                    11.230418868177068,
                    11.230418868177068,
                    11.230418868177068,
                    11.230418868177068,
                    11.230418868177068
                  ],
                  "yaxis": "y"
                },
                {
                  "customdata": [
                    [
                      "Angola",
                      94635415870
                    ],
                    [
                      "Angola",
                      94635415870
                    ],
                    [
                      "Angola",
                      94635415870
                    ],
                    [
                      "Angola",
                      94635415870
                    ],
                    [
                      "Angola",
                      94635415870
                    ],
                    [
                      "Angola",
                      94635415870
                    ],
                    [
                      "Angola",
                      94635415870
                    ],
                    [
                      "Angola",
                      94635415870
                    ],
                    [
                      "Angola",
                      94635415870
                    ],
                    [
                      "Angola",
                      94635415870
                    ],
                    [
                      "Angola",
                      94635415870
                    ],
                    [
                      "Angola",
                      94635415870
                    ],
                    [
                      "Angola",
                      94635415870
                    ],
                    [
                      "Angola",
                      94635415870
                    ],
                    [
                      "Angola",
                      94635415870
                    ],
                    [
                      "Angola",
                      94635415870
                    ],
                    [
                      "Angola",
                      94635415870
                    ],
                    [
                      "Angola",
                      94635415870
                    ],
                    [
                      "Angola",
                      94635415870
                    ],
                    [
                      "Angola",
                      94635415870
                    ]
                  ],
                  "hovertemplate": "Country=%{customdata[0]}<br>Population Density=%{x}<br>Logarithmic GDP (base 10)=%{y}<br>GDP=%{customdata[1]}<extra></extra>",
                  "legendgroup": "Angola",
                  "marker": {
                    "color": "#ab63fa",
                    "opacity": 0.7,
                    "size": 10,
                    "symbol": "circle"
                  },
                  "mode": "markers",
                  "name": "Angola",
                  "showlegend": true,
                  "type": "scattergl",
                  "x": [
                    26,
                    26,
                    26,
                    26,
                    26,
                    26,
                    26,
                    26,
                    26,
                    26,
                    26,
                    26,
                    26,
                    26,
                    26,
                    26,
                    26,
                    26,
                    26,
                    26
                  ],
                  "xaxis": "x",
                  "y": [
                    10.976053694948476,
                    10.976053694948476,
                    10.976053694948476,
                    10.976053694948476,
                    10.976053694948476,
                    10.976053694948476,
                    10.976053694948476,
                    10.976053694948476,
                    10.976053694948476,
                    10.976053694948476,
                    10.976053694948476,
                    10.976053694948476,
                    10.976053694948476,
                    10.976053694948476,
                    10.976053694948476,
                    10.976053694948476,
                    10.976053694948476,
                    10.976053694948476,
                    10.976053694948476,
                    10.976053694948476
                  ],
                  "yaxis": "y"
                },
                {
                  "customdata": [
                    [
                      "Argentina",
                      449663446954
                    ],
                    [
                      "Argentina",
                      449663446954
                    ],
                    [
                      "Argentina",
                      449663446954
                    ],
                    [
                      "Argentina",
                      449663446954
                    ],
                    [
                      "Argentina",
                      449663446954
                    ],
                    [
                      "Argentina",
                      449663446954
                    ],
                    [
                      "Argentina",
                      449663446954
                    ],
                    [
                      "Argentina",
                      449663446954
                    ],
                    [
                      "Argentina",
                      449663446954
                    ],
                    [
                      "Argentina",
                      449663446954
                    ],
                    [
                      "Argentina",
                      449663446954
                    ],
                    [
                      "Argentina",
                      449663446954
                    ],
                    [
                      "Argentina",
                      449663446954
                    ],
                    [
                      "Argentina",
                      449663446954
                    ],
                    [
                      "Argentina",
                      449663446954
                    ],
                    [
                      "Argentina",
                      449663446954
                    ],
                    [
                      "Argentina",
                      449663446954
                    ],
                    [
                      "Argentina",
                      449663446954
                    ],
                    [
                      "Argentina",
                      449663446954
                    ],
                    [
                      "Argentina",
                      449663446954
                    ]
                  ],
                  "hovertemplate": "Country=%{customdata[0]}<br>Population Density=%{x}<br>Logarithmic GDP (base 10)=%{y}<br>GDP=%{customdata[1]}<extra></extra>",
                  "legendgroup": "Argentina",
                  "marker": {
                    "color": "#FFA15A",
                    "opacity": 0.7,
                    "size": 10,
                    "symbol": "circle"
                  },
                  "mode": "markers",
                  "name": "Argentina",
                  "showlegend": true,
                  "type": "scattergl",
                  "x": [
                    17,
                    17,
                    17,
                    17,
                    17,
                    17,
                    17,
                    17,
                    17,
                    17,
                    17,
                    17,
                    17,
                    17,
                    17,
                    17,
                    17,
                    17,
                    17,
                    17
                  ],
                  "xaxis": "x",
                  "y": [
                    11.65288758529668,
                    11.65288758529668,
                    11.65288758529668,
                    11.65288758529668,
                    11.65288758529668,
                    11.65288758529668,
                    11.65288758529668,
                    11.65288758529668,
                    11.65288758529668,
                    11.65288758529668,
                    11.65288758529668,
                    11.65288758529668,
                    11.65288758529668,
                    11.65288758529668,
                    11.65288758529668,
                    11.65288758529668,
                    11.65288758529668,
                    11.65288758529668,
                    11.65288758529668,
                    11.65288758529668
                  ],
                  "yaxis": "y"
                },
                {
                  "customdata": [
                    [
                      "Armenia",
                      13672802158
                    ],
                    [
                      "Armenia",
                      13672802158
                    ],
                    [
                      "Armenia",
                      13672802158
                    ],
                    [
                      "Armenia",
                      13672802158
                    ],
                    [
                      "Armenia",
                      13672802158
                    ],
                    [
                      "Armenia",
                      13672802158
                    ],
                    [
                      "Armenia",
                      13672802158
                    ],
                    [
                      "Armenia",
                      13672802158
                    ],
                    [
                      "Armenia",
                      13672802158
                    ],
                    [
                      "Armenia",
                      13672802158
                    ],
                    [
                      "Armenia",
                      13672802158
                    ],
                    [
                      "Armenia",
                      13672802158
                    ],
                    [
                      "Armenia",
                      13672802158
                    ],
                    [
                      "Armenia",
                      13672802158
                    ],
                    [
                      "Armenia",
                      13672802158
                    ],
                    [
                      "Armenia",
                      13672802158
                    ],
                    [
                      "Armenia",
                      13672802158
                    ],
                    [
                      "Armenia",
                      13672802158
                    ],
                    [
                      "Armenia",
                      13672802158
                    ],
                    [
                      "Armenia",
                      13672802158
                    ]
                  ],
                  "hovertemplate": "Country=%{customdata[0]}<br>Population Density=%{x}<br>Logarithmic GDP (base 10)=%{y}<br>GDP=%{customdata[1]}<extra></extra>",
                  "legendgroup": "Armenia",
                  "marker": {
                    "color": "#19d3f3",
                    "opacity": 0.7,
                    "size": 10,
                    "symbol": "circle"
                  },
                  "mode": "markers",
                  "name": "Armenia",
                  "showlegend": true,
                  "type": "scattergl",
                  "x": [
                    104,
                    104,
                    104,
                    104,
                    104,
                    104,
                    104,
                    104,
                    104,
                    104,
                    104,
                    104,
                    104,
                    104,
                    104,
                    104,
                    104,
                    104,
                    104,
                    104
                  ],
                  "xaxis": "x",
                  "y": [
                    10.135857529713677,
                    10.135857529713677,
                    10.135857529713677,
                    10.135857529713677,
                    10.135857529713677,
                    10.135857529713677,
                    10.135857529713677,
                    10.135857529713677,
                    10.135857529713677,
                    10.135857529713677,
                    10.135857529713677,
                    10.135857529713677,
                    10.135857529713677,
                    10.135857529713677,
                    10.135857529713677,
                    10.135857529713677,
                    10.135857529713677,
                    10.135857529713677,
                    10.135857529713677,
                    10.135857529713677
                  ],
                  "yaxis": "y"
                },
                {
                  "customdata": [
                    [
                      "Azerbaijan",
                      39207000000
                    ],
                    [
                      "Azerbaijan",
                      39207000000
                    ],
                    [
                      "Azerbaijan",
                      39207000000
                    ],
                    [
                      "Azerbaijan",
                      39207000000
                    ],
                    [
                      "Azerbaijan",
                      39207000000
                    ],
                    [
                      "Azerbaijan",
                      39207000000
                    ],
                    [
                      "Azerbaijan",
                      39207000000
                    ],
                    [
                      "Azerbaijan",
                      39207000000
                    ],
                    [
                      "Azerbaijan",
                      39207000000
                    ],
                    [
                      "Azerbaijan",
                      39207000000
                    ],
                    [
                      "Azerbaijan",
                      39207000000
                    ],
                    [
                      "Azerbaijan",
                      39207000000
                    ],
                    [
                      "Azerbaijan",
                      39207000000
                    ],
                    [
                      "Azerbaijan",
                      39207000000
                    ],
                    [
                      "Azerbaijan",
                      39207000000
                    ],
                    [
                      "Azerbaijan",
                      39207000000
                    ],
                    [
                      "Azerbaijan",
                      39207000000
                    ],
                    [
                      "Azerbaijan",
                      39207000000
                    ],
                    [
                      "Azerbaijan",
                      39207000000
                    ],
                    [
                      "Azerbaijan",
                      39207000000
                    ]
                  ],
                  "hovertemplate": "Country=%{customdata[0]}<br>Population Density=%{x}<br>Logarithmic GDP (base 10)=%{y}<br>GDP=%{customdata[1]}<extra></extra>",
                  "legendgroup": "Azerbaijan",
                  "marker": {
                    "color": "#FF6692",
                    "opacity": 0.7,
                    "size": 10,
                    "symbol": "circle"
                  },
                  "mode": "markers",
                  "name": "Azerbaijan",
                  "showlegend": true,
                  "type": "scattergl",
                  "x": [
                    123,
                    123,
                    123,
                    123,
                    123,
                    123,
                    123,
                    123,
                    123,
                    123,
                    123,
                    123,
                    123,
                    123,
                    123,
                    123,
                    123,
                    123,
                    123,
                    123
                  ],
                  "xaxis": "x",
                  "y": [
                    10.593363612682998,
                    10.593363612682998,
                    10.593363612682998,
                    10.593363612682998,
                    10.593363612682998,
                    10.593363612682998,
                    10.593363612682998,
                    10.593363612682998,
                    10.593363612682998,
                    10.593363612682998,
                    10.593363612682998,
                    10.593363612682998,
                    10.593363612682998,
                    10.593363612682998,
                    10.593363612682998,
                    10.593363612682998,
                    10.593363612682998,
                    10.593363612682998,
                    10.593363612682998,
                    10.593363612682998
                  ],
                  "yaxis": "y"
                },
                {
                  "customdata": [
                    [
                      "Bangladesh",
                      302571254131
                    ],
                    [
                      "Bangladesh",
                      302571254131
                    ],
                    [
                      "Bangladesh",
                      302571254131
                    ],
                    [
                      "Bangladesh",
                      302571254131
                    ],
                    [
                      "Bangladesh",
                      302571254131
                    ],
                    [
                      "Bangladesh",
                      302571254131
                    ],
                    [
                      "Bangladesh",
                      302571254131
                    ],
                    [
                      "Bangladesh",
                      302571254131
                    ],
                    [
                      "Bangladesh",
                      302571254131
                    ],
                    [
                      "Bangladesh",
                      302571254131
                    ],
                    [
                      "Bangladesh",
                      302571254131
                    ],
                    [
                      "Bangladesh",
                      302571254131
                    ],
                    [
                      "Bangladesh",
                      302571254131
                    ],
                    [
                      "Bangladesh",
                      302571254131
                    ],
                    [
                      "Bangladesh",
                      302571254131
                    ],
                    [
                      "Bangladesh",
                      302571254131
                    ],
                    [
                      "Bangladesh",
                      302571254131
                    ],
                    [
                      "Bangladesh",
                      302571254131
                    ],
                    [
                      "Bangladesh",
                      302571254131
                    ],
                    [
                      "Bangladesh",
                      302571254131
                    ]
                  ],
                  "hovertemplate": "Country=%{customdata[0]}<br>Population Density=%{x}<br>Logarithmic GDP (base 10)=%{y}<br>GDP=%{customdata[1]}<extra></extra>",
                  "legendgroup": "Bangladesh",
                  "marker": {
                    "color": "#B6E880",
                    "opacity": 0.7,
                    "size": 10,
                    "symbol": "circle"
                  },
                  "mode": "markers",
                  "name": "Bangladesh",
                  "showlegend": true,
                  "type": "scattergl",
                  "x": [
                    1265,
                    1265,
                    1265,
                    1265,
                    1265,
                    1265,
                    1265,
                    1265,
                    1265,
                    1265,
                    1265,
                    1265,
                    1265,
                    1265,
                    1265,
                    1265,
                    1265,
                    1265,
                    1265,
                    1265
                  ],
                  "xaxis": "x",
                  "y": [
                    11.480827665374886,
                    11.480827665374886,
                    11.480827665374886,
                    11.480827665374886,
                    11.480827665374886,
                    11.480827665374886,
                    11.480827665374886,
                    11.480827665374886,
                    11.480827665374886,
                    11.480827665374886,
                    11.480827665374886,
                    11.480827665374886,
                    11.480827665374886,
                    11.480827665374886,
                    11.480827665374886,
                    11.480827665374886,
                    11.480827665374886,
                    11.480827665374886,
                    11.480827665374886,
                    11.480827665374886
                  ],
                  "yaxis": "y"
                },
                {
                  "customdata": [
                    [
                      "Barbados",
                      5209000000
                    ],
                    [
                      "Barbados",
                      5209000000
                    ],
                    [
                      "Barbados",
                      5209000000
                    ],
                    [
                      "Barbados",
                      5209000000
                    ],
                    [
                      "Barbados",
                      5209000000
                    ],
                    [
                      "Barbados",
                      5209000000
                    ],
                    [
                      "Barbados",
                      5209000000
                    ],
                    [
                      "Barbados",
                      5209000000
                    ],
                    [
                      "Barbados",
                      5209000000
                    ],
                    [
                      "Barbados",
                      5209000000
                    ],
                    [
                      "Barbados",
                      5209000000
                    ],
                    [
                      "Barbados",
                      5209000000
                    ],
                    [
                      "Barbados",
                      5209000000
                    ],
                    [
                      "Barbados",
                      5209000000
                    ],
                    [
                      "Barbados",
                      5209000000
                    ],
                    [
                      "Barbados",
                      5209000000
                    ],
                    [
                      "Barbados",
                      5209000000
                    ],
                    [
                      "Barbados",
                      5209000000
                    ],
                    [
                      "Barbados",
                      5209000000
                    ],
                    [
                      "Barbados",
                      5209000000
                    ]
                  ],
                  "hovertemplate": "Country=%{customdata[0]}<br>Population Density=%{x}<br>Logarithmic GDP (base 10)=%{y}<br>GDP=%{customdata[1]}<extra></extra>",
                  "legendgroup": "Barbados",
                  "marker": {
                    "color": "#FF97FF",
                    "opacity": 0.7,
                    "size": 10,
                    "symbol": "circle"
                  },
                  "mode": "markers",
                  "name": "Barbados",
                  "showlegend": true,
                  "type": "scattergl",
                  "x": [
                    668,
                    668,
                    668,
                    668,
                    668,
                    668,
                    668,
                    668,
                    668,
                    668,
                    668,
                    668,
                    668,
                    668,
                    668,
                    668,
                    668,
                    668,
                    668,
                    668
                  ],
                  "xaxis": "x",
                  "y": [
                    9.716754357432697,
                    9.716754357432697,
                    9.716754357432697,
                    9.716754357432697,
                    9.716754357432697,
                    9.716754357432697,
                    9.716754357432697,
                    9.716754357432697,
                    9.716754357432697,
                    9.716754357432697,
                    9.716754357432697,
                    9.716754357432697,
                    9.716754357432697,
                    9.716754357432697,
                    9.716754357432697,
                    9.716754357432697,
                    9.716754357432697,
                    9.716754357432697,
                    9.716754357432697,
                    9.716754357432697
                  ],
                  "yaxis": "y"
                },
                {
                  "customdata": [
                    [
                      "Belgium",
                      529606710418
                    ],
                    [
                      "Belgium",
                      529606710418
                    ],
                    [
                      "Belgium",
                      529606710418
                    ],
                    [
                      "Belgium",
                      529606710418
                    ],
                    [
                      "Belgium",
                      529606710418
                    ],
                    [
                      "Belgium",
                      529606710418
                    ],
                    [
                      "Belgium",
                      529606710418
                    ],
                    [
                      "Belgium",
                      529606710418
                    ],
                    [
                      "Belgium",
                      529606710418
                    ],
                    [
                      "Belgium",
                      529606710418
                    ],
                    [
                      "Belgium",
                      529606710418
                    ],
                    [
                      "Belgium",
                      529606710418
                    ],
                    [
                      "Belgium",
                      529606710418
                    ],
                    [
                      "Belgium",
                      529606710418
                    ],
                    [
                      "Belgium",
                      529606710418
                    ],
                    [
                      "Belgium",
                      529606710418
                    ],
                    [
                      "Belgium",
                      529606710418
                    ],
                    [
                      "Belgium",
                      529606710418
                    ],
                    [
                      "Belgium",
                      529606710418
                    ],
                    [
                      "Belgium",
                      529606710418
                    ]
                  ],
                  "hovertemplate": "Country=%{customdata[0]}<br>Population Density=%{x}<br>Logarithmic GDP (base 10)=%{y}<br>GDP=%{customdata[1]}<extra></extra>",
                  "legendgroup": "Belgium",
                  "marker": {
                    "color": "#FECB52",
                    "opacity": 0.7,
                    "size": 10,
                    "symbol": "circle"
                  },
                  "mode": "markers",
                  "name": "Belgium",
                  "showlegend": true,
                  "type": "scattergl",
                  "x": [
                    383,
                    383,
                    383,
                    383,
                    383,
                    383,
                    383,
                    383,
                    383,
                    383,
                    383,
                    383,
                    383,
                    383,
                    383,
                    383,
                    383,
                    383,
                    383,
                    383
                  ],
                  "xaxis": "x",
                  "y": [
                    11.723953479224404,
                    11.723953479224404,
                    11.723953479224404,
                    11.723953479224404,
                    11.723953479224404,
                    11.723953479224404,
                    11.723953479224404,
                    11.723953479224404,
                    11.723953479224404,
                    11.723953479224404,
                    11.723953479224404,
                    11.723953479224404,
                    11.723953479224404,
                    11.723953479224404,
                    11.723953479224404,
                    11.723953479224404,
                    11.723953479224404,
                    11.723953479224404,
                    11.723953479224404,
                    11.723953479224404
                  ],
                  "yaxis": "y"
                },
                {
                  "customdata": [
                    [
                      "Belize",
                      1879613600
                    ],
                    [
                      "Belize",
                      1879613600
                    ],
                    [
                      "Belize",
                      1879613600
                    ],
                    [
                      "Belize",
                      1879613600
                    ],
                    [
                      "Belize",
                      1879613600
                    ],
                    [
                      "Belize",
                      1879613600
                    ],
                    [
                      "Belize",
                      1879613600
                    ],
                    [
                      "Belize",
                      1879613600
                    ],
                    [
                      "Belize",
                      1879613600
                    ],
                    [
                      "Belize",
                      1879613600
                    ],
                    [
                      "Belize",
                      1879613600
                    ],
                    [
                      "Belize",
                      1879613600
                    ],
                    [
                      "Belize",
                      1879613600
                    ],
                    [
                      "Belize",
                      1879613600
                    ],
                    [
                      "Belize",
                      1879613600
                    ],
                    [
                      "Belize",
                      1879613600
                    ],
                    [
                      "Belize",
                      1879613600
                    ],
                    [
                      "Belize",
                      1879613600
                    ],
                    [
                      "Belize",
                      1879613600
                    ],
                    [
                      "Belize",
                      1879613600
                    ]
                  ],
                  "hovertemplate": "Country=%{customdata[0]}<br>Population Density=%{x}<br>Logarithmic GDP (base 10)=%{y}<br>GDP=%{customdata[1]}<extra></extra>",
                  "legendgroup": "Belize",
                  "marker": {
                    "color": "#636efa",
                    "opacity": 0.7,
                    "size": 10,
                    "symbol": "circle"
                  },
                  "mode": "markers",
                  "name": "Belize",
                  "showlegend": true,
                  "type": "scattergl",
                  "x": [
                    17,
                    17,
                    17,
                    17,
                    17,
                    17,
                    17,
                    17,
                    17,
                    17,
                    17,
                    17,
                    17,
                    17,
                    17,
                    17,
                    17,
                    17,
                    17,
                    17
                  ],
                  "xaxis": "x",
                  "y": [
                    9.274068578712898,
                    9.274068578712898,
                    9.274068578712898,
                    9.274068578712898,
                    9.274068578712898,
                    9.274068578712898,
                    9.274068578712898,
                    9.274068578712898,
                    9.274068578712898,
                    9.274068578712898,
                    9.274068578712898,
                    9.274068578712898,
                    9.274068578712898,
                    9.274068578712898,
                    9.274068578712898,
                    9.274068578712898,
                    9.274068578712898,
                    9.274068578712898,
                    9.274068578712898,
                    9.274068578712898
                  ],
                  "yaxis": "y"
                },
                {
                  "customdata": [
                    [
                      "Benin",
                      14390709095
                    ],
                    [
                      "Benin",
                      14390709095
                    ],
                    [
                      "Benin",
                      14390709095
                    ],
                    [
                      "Benin",
                      14390709095
                    ],
                    [
                      "Benin",
                      14390709095
                    ],
                    [
                      "Benin",
                      14390709095
                    ],
                    [
                      "Benin",
                      14390709095
                    ],
                    [
                      "Benin",
                      14390709095
                    ],
                    [
                      "Benin",
                      14390709095
                    ],
                    [
                      "Benin",
                      14390709095
                    ],
                    [
                      "Benin",
                      14390709095
                    ],
                    [
                      "Benin",
                      14390709095
                    ],
                    [
                      "Benin",
                      14390709095
                    ],
                    [
                      "Benin",
                      14390709095
                    ],
                    [
                      "Benin",
                      14390709095
                    ],
                    [
                      "Benin",
                      14390709095
                    ],
                    [
                      "Benin",
                      14390709095
                    ],
                    [
                      "Benin",
                      14390709095
                    ],
                    [
                      "Benin",
                      14390709095
                    ],
                    [
                      "Benin",
                      14390709095
                    ]
                  ],
                  "hovertemplate": "Country=%{customdata[0]}<br>Population Density=%{x}<br>Logarithmic GDP (base 10)=%{y}<br>GDP=%{customdata[1]}<extra></extra>",
                  "legendgroup": "Benin",
                  "marker": {
                    "color": "#EF553B",
                    "opacity": 0.7,
                    "size": 10,
                    "symbol": "circle"
                  },
                  "mode": "markers",
                  "name": "Benin",
                  "showlegend": true,
                  "type": "scattergl",
                  "x": [
                    108,
                    108,
                    108,
                    108,
                    108,
                    108,
                    108,
                    108,
                    108,
                    108,
                    108,
                    108,
                    108,
                    108,
                    108,
                    108,
                    108,
                    108,
                    108,
                    108
                  ],
                  "xaxis": "x",
                  "y": [
                    10.158082194107442,
                    10.158082194107442,
                    10.158082194107442,
                    10.158082194107442,
                    10.158082194107442,
                    10.158082194107442,
                    10.158082194107442,
                    10.158082194107442,
                    10.158082194107442,
                    10.158082194107442,
                    10.158082194107442,
                    10.158082194107442,
                    10.158082194107442,
                    10.158082194107442,
                    10.158082194107442,
                    10.158082194107442,
                    10.158082194107442,
                    10.158082194107442,
                    10.158082194107442,
                    10.158082194107442
                  ],
                  "yaxis": "y"
                },
                {
                  "customdata": [
                    [
                      "Botswana",
                      18340510789
                    ],
                    [
                      "Botswana",
                      18340510789
                    ],
                    [
                      "Botswana",
                      18340510789
                    ],
                    [
                      "Botswana",
                      18340510789
                    ],
                    [
                      "Botswana",
                      18340510789
                    ],
                    [
                      "Botswana",
                      18340510789
                    ],
                    [
                      "Botswana",
                      18340510789
                    ],
                    [
                      "Botswana",
                      18340510789
                    ],
                    [
                      "Botswana",
                      18340510789
                    ],
                    [
                      "Botswana",
                      18340510789
                    ],
                    [
                      "Botswana",
                      18340510789
                    ],
                    [
                      "Botswana",
                      18340510789
                    ],
                    [
                      "Botswana",
                      18340510789
                    ],
                    [
                      "Botswana",
                      18340510789
                    ],
                    [
                      "Botswana",
                      18340510789
                    ],
                    [
                      "Botswana",
                      18340510789
                    ],
                    [
                      "Botswana",
                      18340510789
                    ],
                    [
                      "Botswana",
                      18340510789
                    ],
                    [
                      "Botswana",
                      18340510789
                    ],
                    [
                      "Botswana",
                      18340510789
                    ]
                  ],
                  "hovertemplate": "Country=%{customdata[0]}<br>Population Density=%{x}<br>Logarithmic GDP (base 10)=%{y}<br>GDP=%{customdata[1]}<extra></extra>",
                  "legendgroup": "Botswana",
                  "marker": {
                    "color": "#00cc96",
                    "opacity": 0.7,
                    "size": 10,
                    "symbol": "circle"
                  },
                  "mode": "markers",
                  "name": "Botswana",
                  "showlegend": true,
                  "type": "scattergl",
                  "x": [
                    4,
                    4,
                    4,
                    4,
                    4,
                    4,
                    4,
                    4,
                    4,
                    4,
                    4,
                    4,
                    4,
                    4,
                    4,
                    4,
                    4,
                    4,
                    4,
                    4
                  ],
                  "xaxis": "x",
                  "y": [
                    10.263411426740493,
                    10.263411426740493,
                    10.263411426740493,
                    10.263411426740493,
                    10.263411426740493,
                    10.263411426740493,
                    10.263411426740493,
                    10.263411426740493,
                    10.263411426740493,
                    10.263411426740493,
                    10.263411426740493,
                    10.263411426740493,
                    10.263411426740493,
                    10.263411426740493,
                    10.263411426740493,
                    10.263411426740493,
                    10.263411426740493,
                    10.263411426740493,
                    10.263411426740493,
                    10.263411426740493
                  ],
                  "yaxis": "y"
                },
                {
                  "customdata": [
                    [
                      "Bulgaria",
                      86000000000
                    ],
                    [
                      "Bulgaria",
                      86000000000
                    ],
                    [
                      "Bulgaria",
                      86000000000
                    ],
                    [
                      "Bulgaria",
                      86000000000
                    ],
                    [
                      "Bulgaria",
                      86000000000
                    ],
                    [
                      "Bulgaria",
                      86000000000
                    ],
                    [
                      "Bulgaria",
                      86000000000
                    ],
                    [
                      "Bulgaria",
                      86000000000
                    ],
                    [
                      "Bulgaria",
                      86000000000
                    ],
                    [
                      "Bulgaria",
                      86000000000
                    ],
                    [
                      "Bulgaria",
                      86000000000
                    ],
                    [
                      "Bulgaria",
                      86000000000
                    ],
                    [
                      "Bulgaria",
                      86000000000
                    ],
                    [
                      "Bulgaria",
                      86000000000
                    ],
                    [
                      "Bulgaria",
                      86000000000
                    ],
                    [
                      "Bulgaria",
                      86000000000
                    ],
                    [
                      "Bulgaria",
                      86000000000
                    ],
                    [
                      "Bulgaria",
                      86000000000
                    ],
                    [
                      "Bulgaria",
                      86000000000
                    ],
                    [
                      "Bulgaria",
                      86000000000
                    ]
                  ],
                  "hovertemplate": "Country=%{customdata[0]}<br>Population Density=%{x}<br>Logarithmic GDP (base 10)=%{y}<br>GDP=%{customdata[1]}<extra></extra>",
                  "legendgroup": "Bulgaria",
                  "marker": {
                    "color": "#ab63fa",
                    "opacity": 0.7,
                    "size": 10,
                    "symbol": "circle"
                  },
                  "mode": "markers",
                  "name": "Bulgaria",
                  "showlegend": true,
                  "type": "scattergl",
                  "x": [
                    64,
                    64,
                    64,
                    64,
                    64,
                    64,
                    64,
                    64,
                    64,
                    64,
                    64,
                    64,
                    64,
                    64,
                    64,
                    64,
                    64,
                    64,
                    64,
                    64
                  ],
                  "xaxis": "x",
                  "y": [
                    10.934498451243568,
                    10.934498451243568,
                    10.934498451243568,
                    10.934498451243568,
                    10.934498451243568,
                    10.934498451243568,
                    10.934498451243568,
                    10.934498451243568,
                    10.934498451243568,
                    10.934498451243568,
                    10.934498451243568,
                    10.934498451243568,
                    10.934498451243568,
                    10.934498451243568,
                    10.934498451243568,
                    10.934498451243568,
                    10.934498451243568,
                    10.934498451243568,
                    10.934498451243568,
                    10.934498451243568
                  ],
                  "yaxis": "y"
                },
                {
                  "customdata": [
                    [
                      "Burkina Faso",
                      15745810235
                    ],
                    [
                      "Burkina Faso",
                      15745810235
                    ],
                    [
                      "Burkina Faso",
                      15745810235
                    ],
                    [
                      "Burkina Faso",
                      15745810235
                    ],
                    [
                      "Burkina Faso",
                      15745810235
                    ],
                    [
                      "Burkina Faso",
                      15745810235
                    ],
                    [
                      "Burkina Faso",
                      15745810235
                    ],
                    [
                      "Burkina Faso",
                      15745810235
                    ],
                    [
                      "Burkina Faso",
                      15745810235
                    ],
                    [
                      "Burkina Faso",
                      15745810235
                    ],
                    [
                      "Burkina Faso",
                      15745810235
                    ],
                    [
                      "Burkina Faso",
                      15745810235
                    ],
                    [
                      "Burkina Faso",
                      15745810235
                    ],
                    [
                      "Burkina Faso",
                      15745810235
                    ],
                    [
                      "Burkina Faso",
                      15745810235
                    ],
                    [
                      "Burkina Faso",
                      15745810235
                    ],
                    [
                      "Burkina Faso",
                      15745810235
                    ],
                    [
                      "Burkina Faso",
                      15745810235
                    ],
                    [
                      "Burkina Faso",
                      15745810235
                    ],
                    [
                      "Burkina Faso",
                      15745810235
                    ]
                  ],
                  "hovertemplate": "Country=%{customdata[0]}<br>Population Density=%{x}<br>Logarithmic GDP (base 10)=%{y}<br>GDP=%{customdata[1]}<extra></extra>",
                  "legendgroup": "Burkina Faso",
                  "marker": {
                    "color": "#FFA15A",
                    "opacity": 0.7,
                    "size": 10,
                    "symbol": "circle"
                  },
                  "mode": "markers",
                  "name": "Burkina Faso",
                  "showlegend": true,
                  "type": "scattergl",
                  "x": [
                    76,
                    76,
                    76,
                    76,
                    76,
                    76,
                    76,
                    76,
                    76,
                    76,
                    76,
                    76,
                    76,
                    76,
                    76,
                    76,
                    76,
                    76,
                    76,
                    76
                  ],
                  "xaxis": "x",
                  "y": [
                    10.197165013117116,
                    10.197165013117116,
                    10.197165013117116,
                    10.197165013117116,
                    10.197165013117116,
                    10.197165013117116,
                    10.197165013117116,
                    10.197165013117116,
                    10.197165013117116,
                    10.197165013117116,
                    10.197165013117116,
                    10.197165013117116,
                    10.197165013117116,
                    10.197165013117116,
                    10.197165013117116,
                    10.197165013117116,
                    10.197165013117116,
                    10.197165013117116,
                    10.197165013117116,
                    10.197165013117116
                  ],
                  "yaxis": "y"
                },
                {
                  "customdata": [
                    [
                      "Canada",
                      1736425629520
                    ],
                    [
                      "Canada",
                      1736425629520
                    ],
                    [
                      "Canada",
                      1736425629520
                    ],
                    [
                      "Canada",
                      1736425629520
                    ],
                    [
                      "Canada",
                      1736425629520
                    ],
                    [
                      "Canada",
                      1736425629520
                    ],
                    [
                      "Canada",
                      1736425629520
                    ],
                    [
                      "Canada",
                      1736425629520
                    ],
                    [
                      "Canada",
                      1736425629520
                    ],
                    [
                      "Canada",
                      1736425629520
                    ],
                    [
                      "Canada",
                      1736425629520
                    ],
                    [
                      "Canada",
                      1736425629520
                    ],
                    [
                      "Canada",
                      1736425629520
                    ],
                    [
                      "Canada",
                      1736425629520
                    ],
                    [
                      "Canada",
                      1736425629520
                    ],
                    [
                      "Canada",
                      1736425629520
                    ],
                    [
                      "Canada",
                      1736425629520
                    ],
                    [
                      "Canada",
                      1736425629520
                    ],
                    [
                      "Canada",
                      1736425629520
                    ],
                    [
                      "Canada",
                      1736425629520
                    ]
                  ],
                  "hovertemplate": "Country=%{customdata[0]}<br>Population Density=%{x}<br>Logarithmic GDP (base 10)=%{y}<br>GDP=%{customdata[1]}<extra></extra>",
                  "legendgroup": "Canada",
                  "marker": {
                    "color": "#19d3f3",
                    "opacity": 0.7,
                    "size": 10,
                    "symbol": "circle"
                  },
                  "mode": "markers",
                  "name": "Canada",
                  "showlegend": true,
                  "type": "scattergl",
                  "x": [
                    4,
                    4,
                    4,
                    4,
                    4,
                    4,
                    4,
                    4,
                    4,
                    4,
                    4,
                    4,
                    4,
                    4,
                    4,
                    4,
                    4,
                    4,
                    4,
                    4
                  ],
                  "xaxis": "x",
                  "y": [
                    12.239656187369937,
                    12.239656187369937,
                    12.239656187369937,
                    12.239656187369937,
                    12.239656187369937,
                    12.239656187369937,
                    12.239656187369937,
                    12.239656187369937,
                    12.239656187369937,
                    12.239656187369937,
                    12.239656187369937,
                    12.239656187369937,
                    12.239656187369937,
                    12.239656187369937,
                    12.239656187369937,
                    12.239656187369937,
                    12.239656187369937,
                    12.239656187369937,
                    12.239656187369937,
                    12.239656187369937
                  ],
                  "yaxis": "y"
                },
                {
                  "customdata": [
                    [
                      "Cape Verde",
                      1981845741
                    ],
                    [
                      "Cape Verde",
                      1981845741
                    ],
                    [
                      "Cape Verde",
                      1981845741
                    ],
                    [
                      "Cape Verde",
                      1981845741
                    ],
                    [
                      "Cape Verde",
                      1981845741
                    ],
                    [
                      "Cape Verde",
                      1981845741
                    ],
                    [
                      "Cape Verde",
                      1981845741
                    ],
                    [
                      "Cape Verde",
                      1981845741
                    ],
                    [
                      "Cape Verde",
                      1981845741
                    ],
                    [
                      "Cape Verde",
                      1981845741
                    ],
                    [
                      "Cape Verde",
                      1981845741
                    ],
                    [
                      "Cape Verde",
                      1981845741
                    ],
                    [
                      "Cape Verde",
                      1981845741
                    ],
                    [
                      "Cape Verde",
                      1981845741
                    ],
                    [
                      "Cape Verde",
                      1981845741
                    ],
                    [
                      "Cape Verde",
                      1981845741
                    ],
                    [
                      "Cape Verde",
                      1981845741
                    ],
                    [
                      "Cape Verde",
                      1981845741
                    ],
                    [
                      "Cape Verde",
                      1981845741
                    ],
                    [
                      "Cape Verde",
                      1981845741
                    ]
                  ],
                  "hovertemplate": "Country=%{customdata[0]}<br>Population Density=%{x}<br>Logarithmic GDP (base 10)=%{y}<br>GDP=%{customdata[1]}<extra></extra>",
                  "legendgroup": "Cape Verde",
                  "marker": {
                    "color": "#FF6692",
                    "opacity": 0.7,
                    "size": 10,
                    "symbol": "circle"
                  },
                  "mode": "markers",
                  "name": "Cape Verde",
                  "showlegend": true,
                  "type": "scattergl",
                  "x": [
                    138,
                    138,
                    138,
                    138,
                    138,
                    138,
                    138,
                    138,
                    138,
                    138,
                    138,
                    138,
                    138,
                    138,
                    138,
                    138,
                    138,
                    138,
                    138,
                    138
                  ],
                  "xaxis": "x",
                  "y": [
                    9.297069847707439,
                    9.297069847707439,
                    9.297069847707439,
                    9.297069847707439,
                    9.297069847707439,
                    9.297069847707439,
                    9.297069847707439,
                    9.297069847707439,
                    9.297069847707439,
                    9.297069847707439,
                    9.297069847707439,
                    9.297069847707439,
                    9.297069847707439,
                    9.297069847707439,
                    9.297069847707439,
                    9.297069847707439,
                    9.297069847707439,
                    9.297069847707439,
                    9.297069847707439,
                    9.297069847707439
                  ],
                  "yaxis": "y"
                },
                {
                  "customdata": [
                    [
                      "Chile",
                      282318159745
                    ],
                    [
                      "Chile",
                      282318159745
                    ],
                    [
                      "Chile",
                      282318159745
                    ],
                    [
                      "Chile",
                      282318159745
                    ],
                    [
                      "Chile",
                      282318159745
                    ],
                    [
                      "Chile",
                      282318159745
                    ],
                    [
                      "Chile",
                      282318159745
                    ],
                    [
                      "Chile",
                      282318159745
                    ],
                    [
                      "Chile",
                      282318159745
                    ],
                    [
                      "Chile",
                      282318159745
                    ],
                    [
                      "Chile",
                      282318159745
                    ],
                    [
                      "Chile",
                      282318159745
                    ],
                    [
                      "Chile",
                      282318159745
                    ],
                    [
                      "Chile",
                      282318159745
                    ],
                    [
                      "Chile",
                      282318159745
                    ],
                    [
                      "Chile",
                      282318159745
                    ],
                    [
                      "Chile",
                      282318159745
                    ],
                    [
                      "Chile",
                      282318159745
                    ],
                    [
                      "Chile",
                      282318159745
                    ],
                    [
                      "Chile",
                      282318159745
                    ]
                  ],
                  "hovertemplate": "Country=%{customdata[0]}<br>Population Density=%{x}<br>Logarithmic GDP (base 10)=%{y}<br>GDP=%{customdata[1]}<extra></extra>",
                  "legendgroup": "Chile",
                  "marker": {
                    "color": "#B6E880",
                    "opacity": 0.7,
                    "size": 10,
                    "symbol": "circle"
                  },
                  "mode": "markers",
                  "name": "Chile",
                  "showlegend": true,
                  "type": "scattergl",
                  "x": [
                    26,
                    26,
                    26,
                    26,
                    26,
                    26,
                    26,
                    26,
                    26,
                    26,
                    26,
                    26,
                    26,
                    26,
                    26,
                    26,
                    26,
                    26,
                    26,
                    26
                  ],
                  "xaxis": "x",
                  "y": [
                    11.450738814467822,
                    11.450738814467822,
                    11.450738814467822,
                    11.450738814467822,
                    11.450738814467822,
                    11.450738814467822,
                    11.450738814467822,
                    11.450738814467822,
                    11.450738814467822,
                    11.450738814467822,
                    11.450738814467822,
                    11.450738814467822,
                    11.450738814467822,
                    11.450738814467822,
                    11.450738814467822,
                    11.450738814467822,
                    11.450738814467822,
                    11.450738814467822,
                    11.450738814467822,
                    11.450738814467822
                  ],
                  "yaxis": "y"
                },
                {
                  "customdata": [
                    [
                      "China",
                      19910000000000
                    ],
                    [
                      "China",
                      19910000000000
                    ],
                    [
                      "China",
                      19910000000000
                    ],
                    [
                      "China",
                      19910000000000
                    ],
                    [
                      "China",
                      19910000000000
                    ],
                    [
                      "China",
                      19910000000000
                    ],
                    [
                      "China",
                      19910000000000
                    ],
                    [
                      "China",
                      19910000000000
                    ],
                    [
                      "China",
                      19910000000000
                    ],
                    [
                      "China",
                      19910000000000
                    ],
                    [
                      "China",
                      19910000000000
                    ],
                    [
                      "China",
                      19910000000000
                    ],
                    [
                      "China",
                      19910000000000
                    ],
                    [
                      "China",
                      19910000000000
                    ],
                    [
                      "China",
                      19910000000000
                    ],
                    [
                      "China",
                      19910000000000
                    ],
                    [
                      "China",
                      19910000000000
                    ],
                    [
                      "China",
                      19910000000000
                    ],
                    [
                      "China",
                      19910000000000
                    ],
                    [
                      "China",
                      19910000000000
                    ]
                  ],
                  "hovertemplate": "Country=%{customdata[0]}<br>Population Density=%{x}<br>Logarithmic GDP (base 10)=%{y}<br>GDP=%{customdata[1]}<extra></extra>",
                  "legendgroup": "China",
                  "marker": {
                    "color": "#FF97FF",
                    "opacity": 0.7,
                    "size": 10,
                    "symbol": "circle"
                  },
                  "mode": "markers",
                  "name": "China",
                  "showlegend": true,
                  "type": "scattergl",
                  "x": [
                    153,
                    153,
                    153,
                    153,
                    153,
                    153,
                    153,
                    153,
                    153,
                    153,
                    153,
                    153,
                    153,
                    153,
                    153,
                    153,
                    153,
                    153,
                    153,
                    153
                  ],
                  "xaxis": "x",
                  "y": [
                    13.299071260027409,
                    13.299071260027409,
                    13.299071260027409,
                    13.299071260027409,
                    13.299071260027409,
                    13.299071260027409,
                    13.299071260027409,
                    13.299071260027409,
                    13.299071260027409,
                    13.299071260027409,
                    13.299071260027409,
                    13.299071260027409,
                    13.299071260027409,
                    13.299071260027409,
                    13.299071260027409,
                    13.299071260027409,
                    13.299071260027409,
                    13.299071260027409,
                    13.299071260027409,
                    13.299071260027409
                  ],
                  "yaxis": "y"
                },
                {
                  "customdata": [
                    [
                      "Croatia",
                      60415553039
                    ],
                    [
                      "Croatia",
                      60415553039
                    ],
                    [
                      "Croatia",
                      60415553039
                    ],
                    [
                      "Croatia",
                      60415553039
                    ],
                    [
                      "Croatia",
                      60415553039
                    ],
                    [
                      "Croatia",
                      60415553039
                    ],
                    [
                      "Croatia",
                      60415553039
                    ],
                    [
                      "Croatia",
                      60415553039
                    ],
                    [
                      "Croatia",
                      60415553039
                    ],
                    [
                      "Croatia",
                      60415553039
                    ],
                    [
                      "Croatia",
                      60415553039
                    ],
                    [
                      "Croatia",
                      60415553039
                    ],
                    [
                      "Croatia",
                      60415553039
                    ],
                    [
                      "Croatia",
                      60415553039
                    ],
                    [
                      "Croatia",
                      60415553039
                    ],
                    [
                      "Croatia",
                      60415553039
                    ],
                    [
                      "Croatia",
                      60415553039
                    ],
                    [
                      "Croatia",
                      60415553039
                    ],
                    [
                      "Croatia",
                      60415553039
                    ],
                    [
                      "Croatia",
                      60415553039
                    ]
                  ],
                  "hovertemplate": "Country=%{customdata[0]}<br>Population Density=%{x}<br>Logarithmic GDP (base 10)=%{y}<br>GDP=%{customdata[1]}<extra></extra>",
                  "legendgroup": "Croatia",
                  "marker": {
                    "color": "#FECB52",
                    "opacity": 0.7,
                    "size": 10,
                    "symbol": "circle"
                  },
                  "mode": "markers",
                  "name": "Croatia",
                  "showlegend": true,
                  "type": "scattergl",
                  "x": [
                    73,
                    73,
                    73,
                    73,
                    73,
                    73,
                    73,
                    73,
                    73,
                    73,
                    73,
                    73,
                    73,
                    73,
                    73,
                    73,
                    73,
                    73,
                    73,
                    73
                  ],
                  "xaxis": "x",
                  "y": [
                    10.781148755334824,
                    10.781148755334824,
                    10.781148755334824,
                    10.781148755334824,
                    10.781148755334824,
                    10.781148755334824,
                    10.781148755334824,
                    10.781148755334824,
                    10.781148755334824,
                    10.781148755334824,
                    10.781148755334824,
                    10.781148755334824,
                    10.781148755334824,
                    10.781148755334824,
                    10.781148755334824,
                    10.781148755334824,
                    10.781148755334824,
                    10.781148755334824,
                    10.781148755334824,
                    10.781148755334824
                  ],
                  "yaxis": "y"
                },
                {
                  "customdata": [
                    [
                      "Czech Republic",
                      246489245495
                    ],
                    [
                      "Czech Republic",
                      246489245495
                    ],
                    [
                      "Czech Republic",
                      246489245495
                    ],
                    [
                      "Czech Republic",
                      246489245495
                    ],
                    [
                      "Czech Republic",
                      246489245495
                    ],
                    [
                      "Czech Republic",
                      246489245495
                    ],
                    [
                      "Czech Republic",
                      246489245495
                    ],
                    [
                      "Czech Republic",
                      246489245495
                    ],
                    [
                      "Czech Republic",
                      246489245495
                    ],
                    [
                      "Czech Republic",
                      246489245495
                    ],
                    [
                      "Czech Republic",
                      246489245495
                    ],
                    [
                      "Czech Republic",
                      246489245495
                    ],
                    [
                      "Czech Republic",
                      246489245495
                    ],
                    [
                      "Czech Republic",
                      246489245495
                    ],
                    [
                      "Czech Republic",
                      246489245495
                    ],
                    [
                      "Czech Republic",
                      246489245495
                    ],
                    [
                      "Czech Republic",
                      246489245495
                    ],
                    [
                      "Czech Republic",
                      246489245495
                    ],
                    [
                      "Czech Republic",
                      246489245495
                    ],
                    [
                      "Czech Republic",
                      246489245495
                    ]
                  ],
                  "hovertemplate": "Country=%{customdata[0]}<br>Population Density=%{x}<br>Logarithmic GDP (base 10)=%{y}<br>GDP=%{customdata[1]}<extra></extra>",
                  "legendgroup": "Czech Republic",
                  "marker": {
                    "color": "#636efa",
                    "opacity": 0.7,
                    "size": 10,
                    "symbol": "circle"
                  },
                  "mode": "markers",
                  "name": "Czech Republic",
                  "showlegend": true,
                  "type": "scattergl",
                  "x": [
                    139,
                    139,
                    139,
                    139,
                    139,
                    139,
                    139,
                    139,
                    139,
                    139,
                    139,
                    139,
                    139,
                    139,
                    139,
                    139,
                    139,
                    139,
                    139,
                    139
                  ],
                  "xaxis": "x",
                  "y": [
                    11.391797975442591,
                    11.391797975442591,
                    11.391797975442591,
                    11.391797975442591,
                    11.391797975442591,
                    11.391797975442591,
                    11.391797975442591,
                    11.391797975442591,
                    11.391797975442591,
                    11.391797975442591,
                    11.391797975442591,
                    11.391797975442591,
                    11.391797975442591,
                    11.391797975442591,
                    11.391797975442591,
                    11.391797975442591,
                    11.391797975442591,
                    11.391797975442591,
                    11.391797975442591,
                    11.391797975442591
                  ],
                  "yaxis": "y"
                },
                {
                  "customdata": [
                    [
                      "Democratic Republic of the Congo",
                      47319624204
                    ],
                    [
                      "Democratic Republic of the Congo",
                      47319624204
                    ],
                    [
                      "Democratic Republic of the Congo",
                      47319624204
                    ],
                    [
                      "Democratic Republic of the Congo",
                      47319624204
                    ],
                    [
                      "Democratic Republic of the Congo",
                      47319624204
                    ],
                    [
                      "Democratic Republic of the Congo",
                      47319624204
                    ],
                    [
                      "Democratic Republic of the Congo",
                      47319624204
                    ],
                    [
                      "Democratic Republic of the Congo",
                      47319624204
                    ],
                    [
                      "Democratic Republic of the Congo",
                      47319624204
                    ],
                    [
                      "Democratic Republic of the Congo",
                      47319624204
                    ],
                    [
                      "Democratic Republic of the Congo",
                      47319624204
                    ],
                    [
                      "Democratic Republic of the Congo",
                      47319624204
                    ],
                    [
                      "Democratic Republic of the Congo",
                      47319624204
                    ],
                    [
                      "Democratic Republic of the Congo",
                      47319624204
                    ],
                    [
                      "Democratic Republic of the Congo",
                      47319624204
                    ],
                    [
                      "Democratic Republic of the Congo",
                      47319624204
                    ],
                    [
                      "Democratic Republic of the Congo",
                      47319624204
                    ],
                    [
                      "Democratic Republic of the Congo",
                      47319624204
                    ],
                    [
                      "Democratic Republic of the Congo",
                      47319624204
                    ],
                    [
                      "Democratic Republic of the Congo",
                      47319624204
                    ]
                  ],
                  "hovertemplate": "Country=%{customdata[0]}<br>Population Density=%{x}<br>Logarithmic GDP (base 10)=%{y}<br>GDP=%{customdata[1]}<extra></extra>",
                  "legendgroup": "Democratic Republic of the Congo",
                  "marker": {
                    "color": "#EF553B",
                    "opacity": 0.7,
                    "size": 10,
                    "symbol": "circle"
                  },
                  "mode": "markers",
                  "name": "Democratic Republic of the Congo",
                  "showlegend": true,
                  "type": "scattergl",
                  "x": [
                    40,
                    40,
                    40,
                    40,
                    40,
                    40,
                    40,
                    40,
                    40,
                    40,
                    40,
                    40,
                    40,
                    40,
                    40,
                    40,
                    40,
                    40,
                    40,
                    40
                  ],
                  "xaxis": "x",
                  "y": [
                    10.675041286953839,
                    10.675041286953839,
                    10.675041286953839,
                    10.675041286953839,
                    10.675041286953839,
                    10.675041286953839,
                    10.675041286953839,
                    10.675041286953839,
                    10.675041286953839,
                    10.675041286953839,
                    10.675041286953839,
                    10.675041286953839,
                    10.675041286953839,
                    10.675041286953839,
                    10.675041286953839,
                    10.675041286953839,
                    10.675041286953839,
                    10.675041286953839,
                    10.675041286953839,
                    10.675041286953839
                  ],
                  "yaxis": "y"
                },
                {
                  "customdata": [
                    [
                      "Dominican Republic",
                      88941298258
                    ],
                    [
                      "Dominican Republic",
                      88941298258
                    ],
                    [
                      "Dominican Republic",
                      88941298258
                    ],
                    [
                      "Dominican Republic",
                      88941298258
                    ],
                    [
                      "Dominican Republic",
                      88941298258
                    ],
                    [
                      "Dominican Republic",
                      88941298258
                    ],
                    [
                      "Dominican Republic",
                      88941298258
                    ],
                    [
                      "Dominican Republic",
                      88941298258
                    ],
                    [
                      "Dominican Republic",
                      88941298258
                    ],
                    [
                      "Dominican Republic",
                      88941298258
                    ],
                    [
                      "Dominican Republic",
                      88941298258
                    ],
                    [
                      "Dominican Republic",
                      88941298258
                    ],
                    [
                      "Dominican Republic",
                      88941298258
                    ],
                    [
                      "Dominican Republic",
                      88941298258
                    ],
                    [
                      "Dominican Republic",
                      88941298258
                    ],
                    [
                      "Dominican Republic",
                      88941298258
                    ],
                    [
                      "Dominican Republic",
                      88941298258
                    ],
                    [
                      "Dominican Republic",
                      88941298258
                    ],
                    [
                      "Dominican Republic",
                      88941298258
                    ],
                    [
                      "Dominican Republic",
                      88941298258
                    ]
                  ],
                  "hovertemplate": "Country=%{customdata[0]}<br>Population Density=%{x}<br>Logarithmic GDP (base 10)=%{y}<br>GDP=%{customdata[1]}<extra></extra>",
                  "legendgroup": "Dominican Republic",
                  "marker": {
                    "color": "#00cc96",
                    "opacity": 0.7,
                    "size": 10,
                    "symbol": "circle"
                  },
                  "mode": "markers",
                  "name": "Dominican Republic",
                  "showlegend": true,
                  "type": "scattergl",
                  "x": [
                    225,
                    225,
                    225,
                    225,
                    225,
                    225,
                    225,
                    225,
                    225,
                    225,
                    225,
                    225,
                    225,
                    225,
                    225,
                    225,
                    225,
                    225,
                    225,
                    225
                  ],
                  "xaxis": "x",
                  "y": [
                    10.949103464467205,
                    10.949103464467205,
                    10.949103464467205,
                    10.949103464467205,
                    10.949103464467205,
                    10.949103464467205,
                    10.949103464467205,
                    10.949103464467205,
                    10.949103464467205,
                    10.949103464467205,
                    10.949103464467205,
                    10.949103464467205,
                    10.949103464467205,
                    10.949103464467205,
                    10.949103464467205,
                    10.949103464467205,
                    10.949103464467205,
                    10.949103464467205,
                    10.949103464467205,
                    10.949103464467205
                  ],
                  "yaxis": "y"
                },
                {
                  "customdata": [
                    [
                      "East Timor",
                      1673540300
                    ],
                    [
                      "East Timor",
                      1673540300
                    ],
                    [
                      "East Timor",
                      1673540300
                    ],
                    [
                      "East Timor",
                      1673540300
                    ],
                    [
                      "East Timor",
                      1673540300
                    ],
                    [
                      "East Timor",
                      1673540300
                    ],
                    [
                      "East Timor",
                      1673540300
                    ],
                    [
                      "East Timor",
                      1673540300
                    ],
                    [
                      "East Timor",
                      1673540300
                    ],
                    [
                      "East Timor",
                      1673540300
                    ],
                    [
                      "East Timor",
                      1673540300
                    ],
                    [
                      "East Timor",
                      1673540300
                    ],
                    [
                      "East Timor",
                      1673540300
                    ],
                    [
                      "East Timor",
                      1673540300
                    ],
                    [
                      "East Timor",
                      1673540300
                    ],
                    [
                      "East Timor",
                      1673540300
                    ],
                    [
                      "East Timor",
                      1673540300
                    ],
                    [
                      "East Timor",
                      1673540300
                    ],
                    [
                      "East Timor",
                      1673540300
                    ],
                    [
                      "East Timor",
                      1673540300
                    ]
                  ],
                  "hovertemplate": "Country=%{customdata[0]}<br>Population Density=%{x}<br>Logarithmic GDP (base 10)=%{y}<br>GDP=%{customdata[1]}<extra></extra>",
                  "legendgroup": "East Timor",
                  "marker": {
                    "color": "#ab63fa",
                    "opacity": 0.7,
                    "size": 10,
                    "symbol": "circle"
                  },
                  "mode": "markers",
                  "name": "East Timor",
                  "showlegend": true,
                  "type": "scattergl",
                  "x": [
                    89,
                    89,
                    89,
                    89,
                    89,
                    89,
                    89,
                    89,
                    89,
                    89,
                    89,
                    89,
                    89,
                    89,
                    89,
                    89,
                    89,
                    89,
                    89,
                    89
                  ],
                  "xaxis": "x",
                  "y": [
                    9.223636174929164,
                    9.223636174929164,
                    9.223636174929164,
                    9.223636174929164,
                    9.223636174929164,
                    9.223636174929164,
                    9.223636174929164,
                    9.223636174929164,
                    9.223636174929164,
                    9.223636174929164,
                    9.223636174929164,
                    9.223636174929164,
                    9.223636174929164,
                    9.223636174929164,
                    9.223636174929164,
                    9.223636174929164,
                    9.223636174929164,
                    9.223636174929164,
                    9.223636174929164,
                    9.223636174929164
                  ],
                  "yaxis": "y"
                },
                {
                  "customdata": [
                    [
                      "Estonia",
                      31386949981
                    ],
                    [
                      "Estonia",
                      31386949981
                    ],
                    [
                      "Estonia",
                      31386949981
                    ],
                    [
                      "Estonia",
                      31386949981
                    ],
                    [
                      "Estonia",
                      31386949981
                    ],
                    [
                      "Estonia",
                      31386949981
                    ],
                    [
                      "Estonia",
                      31386949981
                    ],
                    [
                      "Estonia",
                      31386949981
                    ],
                    [
                      "Estonia",
                      31386949981
                    ],
                    [
                      "Estonia",
                      31386949981
                    ],
                    [
                      "Estonia",
                      31386949981
                    ],
                    [
                      "Estonia",
                      31386949981
                    ],
                    [
                      "Estonia",
                      31386949981
                    ],
                    [
                      "Estonia",
                      31386949981
                    ],
                    [
                      "Estonia",
                      31386949981
                    ],
                    [
                      "Estonia",
                      31386949981
                    ],
                    [
                      "Estonia",
                      31386949981
                    ],
                    [
                      "Estonia",
                      31386949981
                    ],
                    [
                      "Estonia",
                      31386949981
                    ],
                    [
                      "Estonia",
                      31386949981
                    ]
                  ],
                  "hovertemplate": "Country=%{customdata[0]}<br>Population Density=%{x}<br>Logarithmic GDP (base 10)=%{y}<br>GDP=%{customdata[1]}<extra></extra>",
                  "legendgroup": "Estonia",
                  "marker": {
                    "color": "#FFA15A",
                    "opacity": 0.7,
                    "size": 10,
                    "symbol": "circle"
                  },
                  "mode": "markers",
                  "name": "Estonia",
                  "showlegend": true,
                  "type": "scattergl",
                  "x": [
                    31,
                    31,
                    31,
                    31,
                    31,
                    31,
                    31,
                    31,
                    31,
                    31,
                    31,
                    31,
                    31,
                    31,
                    31,
                    31,
                    31,
                    31,
                    31,
                    31
                  ],
                  "xaxis": "x",
                  "y": [
                    10.496749115292955,
                    10.496749115292955,
                    10.496749115292955,
                    10.496749115292955,
                    10.496749115292955,
                    10.496749115292955,
                    10.496749115292955,
                    10.496749115292955,
                    10.496749115292955,
                    10.496749115292955,
                    10.496749115292955,
                    10.496749115292955,
                    10.496749115292955,
                    10.496749115292955,
                    10.496749115292955,
                    10.496749115292955,
                    10.496749115292955,
                    10.496749115292955,
                    10.496749115292955,
                    10.496749115292955
                  ],
                  "yaxis": "y"
                },
                {
                  "customdata": [
                    [
                      "Fiji",
                      5535548972
                    ],
                    [
                      "Fiji",
                      5535548972
                    ],
                    [
                      "Fiji",
                      5535548972
                    ],
                    [
                      "Fiji",
                      5535548972
                    ],
                    [
                      "Fiji",
                      5535548972
                    ],
                    [
                      "Fiji",
                      5535548972
                    ],
                    [
                      "Fiji",
                      5535548972
                    ],
                    [
                      "Fiji",
                      5535548972
                    ],
                    [
                      "Fiji",
                      5535548972
                    ],
                    [
                      "Fiji",
                      5535548972
                    ],
                    [
                      "Fiji",
                      5535548972
                    ],
                    [
                      "Fiji",
                      5535548972
                    ],
                    [
                      "Fiji",
                      5535548972
                    ],
                    [
                      "Fiji",
                      5535548972
                    ],
                    [
                      "Fiji",
                      5535548972
                    ],
                    [
                      "Fiji",
                      5535548972
                    ],
                    [
                      "Fiji",
                      5535548972
                    ],
                    [
                      "Fiji",
                      5535548972
                    ],
                    [
                      "Fiji",
                      5535548972
                    ],
                    [
                      "Fiji",
                      5535548972
                    ]
                  ],
                  "hovertemplate": "Country=%{customdata[0]}<br>Population Density=%{x}<br>Logarithmic GDP (base 10)=%{y}<br>GDP=%{customdata[1]}<extra></extra>",
                  "legendgroup": "Fiji",
                  "marker": {
                    "color": "#19d3f3",
                    "opacity": 0.7,
                    "size": 10,
                    "symbol": "circle"
                  },
                  "mode": "markers",
                  "name": "Fiji",
                  "showlegend": true,
                  "type": "scattergl",
                  "x": [
                    49,
                    49,
                    49,
                    49,
                    49,
                    49,
                    49,
                    49,
                    49,
                    49,
                    49,
                    49,
                    49,
                    49,
                    49,
                    49,
                    49,
                    49,
                    49,
                    49
                  ],
                  "xaxis": "x",
                  "y": [
                    9.743160697245067,
                    9.743160697245067,
                    9.743160697245067,
                    9.743160697245067,
                    9.743160697245067,
                    9.743160697245067,
                    9.743160697245067,
                    9.743160697245067,
                    9.743160697245067,
                    9.743160697245067,
                    9.743160697245067,
                    9.743160697245067,
                    9.743160697245067,
                    9.743160697245067,
                    9.743160697245067,
                    9.743160697245067,
                    9.743160697245067,
                    9.743160697245067,
                    9.743160697245067,
                    9.743160697245067
                  ],
                  "yaxis": "y"
                },
                {
                  "customdata": [
                    [
                      "France",
                      2715518274227
                    ],
                    [
                      "France",
                      2715518274227
                    ],
                    [
                      "France",
                      2715518274227
                    ],
                    [
                      "France",
                      2715518274227
                    ],
                    [
                      "France",
                      2715518274227
                    ],
                    [
                      "France",
                      2715518274227
                    ],
                    [
                      "France",
                      2715518274227
                    ],
                    [
                      "France",
                      2715518274227
                    ],
                    [
                      "France",
                      2715518274227
                    ],
                    [
                      "France",
                      2715518274227
                    ],
                    [
                      "France",
                      2715518274227
                    ],
                    [
                      "France",
                      2715518274227
                    ],
                    [
                      "France",
                      2715518274227
                    ],
                    [
                      "France",
                      2715518274227
                    ],
                    [
                      "France",
                      2715518274227
                    ],
                    [
                      "France",
                      2715518274227
                    ],
                    [
                      "France",
                      2715518274227
                    ],
                    [
                      "France",
                      2715518274227
                    ],
                    [
                      "France",
                      2715518274227
                    ],
                    [
                      "France",
                      2715518274227
                    ]
                  ],
                  "hovertemplate": "Country=%{customdata[0]}<br>Population Density=%{x}<br>Logarithmic GDP (base 10)=%{y}<br>GDP=%{customdata[1]}<extra></extra>",
                  "legendgroup": "France",
                  "marker": {
                    "color": "#FF6692",
                    "opacity": 0.7,
                    "size": 10,
                    "symbol": "circle"
                  },
                  "mode": "markers",
                  "name": "France",
                  "showlegend": true,
                  "type": "scattergl",
                  "x": [
                    119,
                    119,
                    119,
                    119,
                    119,
                    119,
                    119,
                    119,
                    119,
                    119,
                    119,
                    119,
                    119,
                    119,
                    119,
                    119,
                    119,
                    119,
                    119,
                    119
                  ],
                  "xaxis": "x",
                  "y": [
                    12.43385272974667,
                    12.43385272974667,
                    12.43385272974667,
                    12.43385272974667,
                    12.43385272974667,
                    12.43385272974667,
                    12.43385272974667,
                    12.43385272974667,
                    12.43385272974667,
                    12.43385272974667,
                    12.43385272974667,
                    12.43385272974667,
                    12.43385272974667,
                    12.43385272974667,
                    12.43385272974667,
                    12.43385272974667,
                    12.43385272974667,
                    12.43385272974667,
                    12.43385272974667,
                    12.43385272974667
                  ],
                  "yaxis": "y"
                },
                {
                  "customdata": [
                    [
                      "Gabon",
                      16657960228
                    ],
                    [
                      "Gabon",
                      16657960228
                    ],
                    [
                      "Gabon",
                      16657960228
                    ],
                    [
                      "Gabon",
                      16657960228
                    ],
                    [
                      "Gabon",
                      16657960228
                    ],
                    [
                      "Gabon",
                      16657960228
                    ],
                    [
                      "Gabon",
                      16657960228
                    ],
                    [
                      "Gabon",
                      16657960228
                    ],
                    [
                      "Gabon",
                      16657960228
                    ],
                    [
                      "Gabon",
                      16657960228
                    ],
                    [
                      "Gabon",
                      16657960228
                    ],
                    [
                      "Gabon",
                      16657960228
                    ],
                    [
                      "Gabon",
                      16657960228
                    ],
                    [
                      "Gabon",
                      16657960228
                    ],
                    [
                      "Gabon",
                      16657960228
                    ],
                    [
                      "Gabon",
                      16657960228
                    ],
                    [
                      "Gabon",
                      16657960228
                    ],
                    [
                      "Gabon",
                      16657960228
                    ],
                    [
                      "Gabon",
                      16657960228
                    ],
                    [
                      "Gabon",
                      16657960228
                    ]
                  ],
                  "hovertemplate": "Country=%{customdata[0]}<br>Population Density=%{x}<br>Logarithmic GDP (base 10)=%{y}<br>GDP=%{customdata[1]}<extra></extra>",
                  "legendgroup": "Gabon",
                  "marker": {
                    "color": "#B6E880",
                    "opacity": 0.7,
                    "size": 10,
                    "symbol": "circle"
                  },
                  "mode": "markers",
                  "name": "Gabon",
                  "showlegend": true,
                  "type": "scattergl",
                  "x": [
                    9,
                    9,
                    9,
                    9,
                    9,
                    9,
                    9,
                    9,
                    9,
                    9,
                    9,
                    9,
                    9,
                    9,
                    9,
                    9,
                    9,
                    9,
                    9,
                    9
                  ],
                  "xaxis": "x",
                  "y": [
                    10.221621820842753,
                    10.221621820842753,
                    10.221621820842753,
                    10.221621820842753,
                    10.221621820842753,
                    10.221621820842753,
                    10.221621820842753,
                    10.221621820842753,
                    10.221621820842753,
                    10.221621820842753,
                    10.221621820842753,
                    10.221621820842753,
                    10.221621820842753,
                    10.221621820842753,
                    10.221621820842753,
                    10.221621820842753,
                    10.221621820842753,
                    10.221621820842753,
                    10.221621820842753,
                    10.221621820842753
                  ],
                  "yaxis": "y"
                },
                {
                  "customdata": [
                    [
                      "Georgia",
                      17743195770
                    ],
                    [
                      "Georgia",
                      17743195770
                    ],
                    [
                      "Georgia",
                      17743195770
                    ],
                    [
                      "Georgia",
                      17743195770
                    ],
                    [
                      "Georgia",
                      17743195770
                    ],
                    [
                      "Georgia",
                      17743195770
                    ],
                    [
                      "Georgia",
                      17743195770
                    ],
                    [
                      "Georgia",
                      17743195770
                    ],
                    [
                      "Georgia",
                      17743195770
                    ],
                    [
                      "Georgia",
                      17743195770
                    ],
                    [
                      "Georgia",
                      17743195770
                    ],
                    [
                      "Georgia",
                      17743195770
                    ],
                    [
                      "Georgia",
                      17743195770
                    ],
                    [
                      "Georgia",
                      17743195770
                    ],
                    [
                      "Georgia",
                      17743195770
                    ],
                    [
                      "Georgia",
                      17743195770
                    ],
                    [
                      "Georgia",
                      17743195770
                    ],
                    [
                      "Georgia",
                      17743195770
                    ],
                    [
                      "Georgia",
                      17743195770
                    ],
                    [
                      "Georgia",
                      17743195770
                    ]
                  ],
                  "hovertemplate": "Country=%{customdata[0]}<br>Population Density=%{x}<br>Logarithmic GDP (base 10)=%{y}<br>GDP=%{customdata[1]}<extra></extra>",
                  "legendgroup": "Georgia",
                  "marker": {
                    "color": "#FF97FF",
                    "opacity": 0.7,
                    "size": 10,
                    "symbol": "circle"
                  },
                  "mode": "markers",
                  "name": "Georgia",
                  "showlegend": true,
                  "type": "scattergl",
                  "x": [
                    57,
                    57,
                    57,
                    57,
                    57,
                    57,
                    57,
                    57,
                    57,
                    57,
                    57,
                    57,
                    57,
                    57,
                    57,
                    57,
                    57,
                    57,
                    57,
                    57
                  ],
                  "xaxis": "x",
                  "y": [
                    10.249031844372789,
                    10.249031844372789,
                    10.249031844372789,
                    10.249031844372789,
                    10.249031844372789,
                    10.249031844372789,
                    10.249031844372789,
                    10.249031844372789,
                    10.249031844372789,
                    10.249031844372789,
                    10.249031844372789,
                    10.249031844372789,
                    10.249031844372789,
                    10.249031844372789,
                    10.249031844372789,
                    10.249031844372789,
                    10.249031844372789,
                    10.249031844372789,
                    10.249031844372789,
                    10.249031844372789
                  ],
                  "yaxis": "y"
                },
                {
                  "customdata": [
                    [
                      "Germany",
                      3845630030824
                    ],
                    [
                      "Germany",
                      3845630030824
                    ],
                    [
                      "Germany",
                      3845630030824
                    ],
                    [
                      "Germany",
                      3845630030824
                    ],
                    [
                      "Germany",
                      3845630030824
                    ],
                    [
                      "Germany",
                      3845630030824
                    ],
                    [
                      "Germany",
                      3845630030824
                    ],
                    [
                      "Germany",
                      3845630030824
                    ],
                    [
                      "Germany",
                      3845630030824
                    ],
                    [
                      "Germany",
                      3845630030824
                    ],
                    [
                      "Germany",
                      3845630030824
                    ],
                    [
                      "Germany",
                      3845630030824
                    ],
                    [
                      "Germany",
                      3845630030824
                    ],
                    [
                      "Germany",
                      3845630030824
                    ],
                    [
                      "Germany",
                      3845630030824
                    ],
                    [
                      "Germany",
                      3845630030824
                    ],
                    [
                      "Germany",
                      3845630030824
                    ],
                    [
                      "Germany",
                      3845630030824
                    ],
                    [
                      "Germany",
                      3845630030824
                    ],
                    [
                      "Germany",
                      3845630030824
                    ]
                  ],
                  "hovertemplate": "Country=%{customdata[0]}<br>Population Density=%{x}<br>Logarithmic GDP (base 10)=%{y}<br>GDP=%{customdata[1]}<extra></extra>",
                  "legendgroup": "Germany",
                  "marker": {
                    "color": "#FECB52",
                    "opacity": 0.7,
                    "size": 10,
                    "symbol": "circle"
                  },
                  "mode": "markers",
                  "name": "Germany",
                  "showlegend": true,
                  "type": "scattergl",
                  "x": [
                    240,
                    240,
                    240,
                    240,
                    240,
                    240,
                    240,
                    240,
                    240,
                    240,
                    240,
                    240,
                    240,
                    240,
                    240,
                    240,
                    240,
                    240,
                    240,
                    240
                  ],
                  "xaxis": "x",
                  "y": [
                    12.58496750057322,
                    12.58496750057322,
                    12.58496750057322,
                    12.58496750057322,
                    12.58496750057322,
                    12.58496750057322,
                    12.58496750057322,
                    12.58496750057322,
                    12.58496750057322,
                    12.58496750057322,
                    12.58496750057322,
                    12.58496750057322,
                    12.58496750057322,
                    12.58496750057322,
                    12.58496750057322,
                    12.58496750057322,
                    12.58496750057322,
                    12.58496750057322,
                    12.58496750057322,
                    12.58496750057322
                  ],
                  "yaxis": "y"
                },
                {
                  "customdata": [
                    [
                      "Ghana",
                      66983634224
                    ],
                    [
                      "Ghana",
                      66983634224
                    ],
                    [
                      "Ghana",
                      66983634224
                    ],
                    [
                      "Ghana",
                      66983634224
                    ],
                    [
                      "Ghana",
                      66983634224
                    ],
                    [
                      "Ghana",
                      66983634224
                    ],
                    [
                      "Ghana",
                      66983634224
                    ],
                    [
                      "Ghana",
                      66983634224
                    ],
                    [
                      "Ghana",
                      66983634224
                    ],
                    [
                      "Ghana",
                      66983634224
                    ],
                    [
                      "Ghana",
                      66983634224
                    ],
                    [
                      "Ghana",
                      66983634224
                    ],
                    [
                      "Ghana",
                      66983634224
                    ],
                    [
                      "Ghana",
                      66983634224
                    ],
                    [
                      "Ghana",
                      66983634224
                    ],
                    [
                      "Ghana",
                      66983634224
                    ],
                    [
                      "Ghana",
                      66983634224
                    ],
                    [
                      "Ghana",
                      66983634224
                    ],
                    [
                      "Ghana",
                      66983634224
                    ],
                    [
                      "Ghana",
                      66983634224
                    ]
                  ],
                  "hovertemplate": "Country=%{customdata[0]}<br>Population Density=%{x}<br>Logarithmic GDP (base 10)=%{y}<br>GDP=%{customdata[1]}<extra></extra>",
                  "legendgroup": "Ghana",
                  "marker": {
                    "color": "#636efa",
                    "opacity": 0.7,
                    "size": 10,
                    "symbol": "circle"
                  },
                  "mode": "markers",
                  "name": "Ghana",
                  "showlegend": true,
                  "type": "scattergl",
                  "x": [
                    137,
                    137,
                    137,
                    137,
                    137,
                    137,
                    137,
                    137,
                    137,
                    137,
                    137,
                    137,
                    137,
                    137,
                    137,
                    137,
                    137,
                    137,
                    137,
                    137
                  ],
                  "xaxis": "x",
                  "y": [
                    10.825968706664764,
                    10.825968706664764,
                    10.825968706664764,
                    10.825968706664764,
                    10.825968706664764,
                    10.825968706664764,
                    10.825968706664764,
                    10.825968706664764,
                    10.825968706664764,
                    10.825968706664764,
                    10.825968706664764,
                    10.825968706664764,
                    10.825968706664764,
                    10.825968706664764,
                    10.825968706664764,
                    10.825968706664764,
                    10.825968706664764,
                    10.825968706664764,
                    10.825968706664764,
                    10.825968706664764
                  ],
                  "yaxis": "y"
                },
                {
                  "customdata": [
                    [
                      "Greece",
                      209852761469
                    ],
                    [
                      "Greece",
                      209852761469
                    ],
                    [
                      "Greece",
                      209852761469
                    ],
                    [
                      "Greece",
                      209852761469
                    ],
                    [
                      "Greece",
                      209852761469
                    ],
                    [
                      "Greece",
                      209852761469
                    ],
                    [
                      "Greece",
                      209852761469
                    ],
                    [
                      "Greece",
                      209852761469
                    ],
                    [
                      "Greece",
                      209852761469
                    ],
                    [
                      "Greece",
                      209852761469
                    ],
                    [
                      "Greece",
                      209852761469
                    ],
                    [
                      "Greece",
                      209852761469
                    ],
                    [
                      "Greece",
                      209852761469
                    ],
                    [
                      "Greece",
                      209852761469
                    ],
                    [
                      "Greece",
                      209852761469
                    ],
                    [
                      "Greece",
                      209852761469
                    ],
                    [
                      "Greece",
                      209852761469
                    ],
                    [
                      "Greece",
                      209852761469
                    ],
                    [
                      "Greece",
                      209852761469
                    ],
                    [
                      "Greece",
                      209852761469
                    ]
                  ],
                  "hovertemplate": "Country=%{customdata[0]}<br>Population Density=%{x}<br>Logarithmic GDP (base 10)=%{y}<br>GDP=%{customdata[1]}<extra></extra>",
                  "legendgroup": "Greece",
                  "marker": {
                    "color": "#EF553B",
                    "opacity": 0.7,
                    "size": 10,
                    "symbol": "circle"
                  },
                  "mode": "markers",
                  "name": "Greece",
                  "showlegend": true,
                  "type": "scattergl",
                  "x": [
                    81,
                    81,
                    81,
                    81,
                    81,
                    81,
                    81,
                    81,
                    81,
                    81,
                    81,
                    81,
                    81,
                    81,
                    81,
                    81,
                    81,
                    81,
                    81,
                    81
                  ],
                  "xaxis": "x",
                  "y": [
                    11.32191468850037,
                    11.32191468850037,
                    11.32191468850037,
                    11.32191468850037,
                    11.32191468850037,
                    11.32191468850037,
                    11.32191468850037,
                    11.32191468850037,
                    11.32191468850037,
                    11.32191468850037,
                    11.32191468850037,
                    11.32191468850037,
                    11.32191468850037,
                    11.32191468850037,
                    11.32191468850037,
                    11.32191468850037,
                    11.32191468850037,
                    11.32191468850037,
                    11.32191468850037,
                    11.32191468850037
                  ],
                  "yaxis": "y"
                },
                {
                  "customdata": [
                    [
                      "Guatemala",
                      76710385880
                    ],
                    [
                      "Guatemala",
                      76710385880
                    ],
                    [
                      "Guatemala",
                      76710385880
                    ],
                    [
                      "Guatemala",
                      76710385880
                    ],
                    [
                      "Guatemala",
                      76710385880
                    ],
                    [
                      "Guatemala",
                      76710385880
                    ],
                    [
                      "Guatemala",
                      76710385880
                    ],
                    [
                      "Guatemala",
                      76710385880
                    ],
                    [
                      "Guatemala",
                      76710385880
                    ],
                    [
                      "Guatemala",
                      76710385880
                    ],
                    [
                      "Guatemala",
                      76710385880
                    ],
                    [
                      "Guatemala",
                      76710385880
                    ],
                    [
                      "Guatemala",
                      76710385880
                    ],
                    [
                      "Guatemala",
                      76710385880
                    ],
                    [
                      "Guatemala",
                      76710385880
                    ],
                    [
                      "Guatemala",
                      76710385880
                    ],
                    [
                      "Guatemala",
                      76710385880
                    ],
                    [
                      "Guatemala",
                      76710385880
                    ],
                    [
                      "Guatemala",
                      76710385880
                    ],
                    [
                      "Guatemala",
                      76710385880
                    ]
                  ],
                  "hovertemplate": "Country=%{customdata[0]}<br>Population Density=%{x}<br>Logarithmic GDP (base 10)=%{y}<br>GDP=%{customdata[1]}<extra></extra>",
                  "legendgroup": "Guatemala",
                  "marker": {
                    "color": "#00cc96",
                    "opacity": 0.7,
                    "size": 10,
                    "symbol": "circle"
                  },
                  "mode": "markers",
                  "name": "Guatemala",
                  "showlegend": true,
                  "type": "scattergl",
                  "x": [
                    167,
                    167,
                    167,
                    167,
                    167,
                    167,
                    167,
                    167,
                    167,
                    167,
                    167,
                    167,
                    167,
                    167,
                    167,
                    167,
                    167,
                    167,
                    167,
                    167
                  ],
                  "xaxis": "x",
                  "y": [
                    10.884854167404232,
                    10.884854167404232,
                    10.884854167404232,
                    10.884854167404232,
                    10.884854167404232,
                    10.884854167404232,
                    10.884854167404232,
                    10.884854167404232,
                    10.884854167404232,
                    10.884854167404232,
                    10.884854167404232,
                    10.884854167404232,
                    10.884854167404232,
                    10.884854167404232,
                    10.884854167404232,
                    10.884854167404232,
                    10.884854167404232,
                    10.884854167404232,
                    10.884854167404232,
                    10.884854167404232
                  ],
                  "yaxis": "y"
                },
                {
                  "customdata": [
                    [
                      "Honduras",
                      25095395475
                    ],
                    [
                      "Honduras",
                      25095395475
                    ],
                    [
                      "Honduras",
                      25095395475
                    ],
                    [
                      "Honduras",
                      25095395475
                    ],
                    [
                      "Honduras",
                      25095395475
                    ],
                    [
                      "Honduras",
                      25095395475
                    ],
                    [
                      "Honduras",
                      25095395475
                    ],
                    [
                      "Honduras",
                      25095395475
                    ],
                    [
                      "Honduras",
                      25095395475
                    ],
                    [
                      "Honduras",
                      25095395475
                    ],
                    [
                      "Honduras",
                      25095395475
                    ],
                    [
                      "Honduras",
                      25095395475
                    ],
                    [
                      "Honduras",
                      25095395475
                    ],
                    [
                      "Honduras",
                      25095395475
                    ],
                    [
                      "Honduras",
                      25095395475
                    ],
                    [
                      "Honduras",
                      25095395475
                    ],
                    [
                      "Honduras",
                      25095395475
                    ],
                    [
                      "Honduras",
                      25095395475
                    ],
                    [
                      "Honduras",
                      25095395475
                    ],
                    [
                      "Honduras",
                      25095395475
                    ]
                  ],
                  "hovertemplate": "Country=%{customdata[0]}<br>Population Density=%{x}<br>Logarithmic GDP (base 10)=%{y}<br>GDP=%{customdata[1]}<extra></extra>",
                  "legendgroup": "Honduras",
                  "marker": {
                    "color": "#ab63fa",
                    "opacity": 0.7,
                    "size": 10,
                    "symbol": "circle"
                  },
                  "mode": "markers",
                  "name": "Honduras",
                  "showlegend": true,
                  "type": "scattergl",
                  "x": [
                    89,
                    89,
                    89,
                    89,
                    89,
                    89,
                    89,
                    89,
                    89,
                    89,
                    89,
                    89,
                    89,
                    89,
                    89,
                    89,
                    89,
                    89,
                    89,
                    89
                  ],
                  "xaxis": "x",
                  "y": [
                    10.39959404406099,
                    10.39959404406099,
                    10.39959404406099,
                    10.39959404406099,
                    10.39959404406099,
                    10.39959404406099,
                    10.39959404406099,
                    10.39959404406099,
                    10.39959404406099,
                    10.39959404406099,
                    10.39959404406099,
                    10.39959404406099,
                    10.39959404406099,
                    10.39959404406099,
                    10.39959404406099,
                    10.39959404406099,
                    10.39959404406099,
                    10.39959404406099,
                    10.39959404406099,
                    10.39959404406099
                  ],
                  "yaxis": "y"
                },
                {
                  "customdata": [
                    [
                      "Hungary",
                      160967157504
                    ],
                    [
                      "Hungary",
                      160967157504
                    ],
                    [
                      "Hungary",
                      160967157504
                    ],
                    [
                      "Hungary",
                      160967157504
                    ],
                    [
                      "Hungary",
                      160967157504
                    ],
                    [
                      "Hungary",
                      160967157504
                    ],
                    [
                      "Hungary",
                      160967157504
                    ],
                    [
                      "Hungary",
                      160967157504
                    ],
                    [
                      "Hungary",
                      160967157504
                    ],
                    [
                      "Hungary",
                      160967157504
                    ],
                    [
                      "Hungary",
                      160967157504
                    ],
                    [
                      "Hungary",
                      160967157504
                    ],
                    [
                      "Hungary",
                      160967157504
                    ],
                    [
                      "Hungary",
                      160967157504
                    ],
                    [
                      "Hungary",
                      160967157504
                    ],
                    [
                      "Hungary",
                      160967157504
                    ],
                    [
                      "Hungary",
                      160967157504
                    ],
                    [
                      "Hungary",
                      160967157504
                    ],
                    [
                      "Hungary",
                      160967157504
                    ],
                    [
                      "Hungary",
                      160967157504
                    ]
                  ],
                  "hovertemplate": "Country=%{customdata[0]}<br>Population Density=%{x}<br>Logarithmic GDP (base 10)=%{y}<br>GDP=%{customdata[1]}<extra></extra>",
                  "legendgroup": "Hungary",
                  "marker": {
                    "color": "#FFA15A",
                    "opacity": 0.7,
                    "size": 10,
                    "symbol": "circle"
                  },
                  "mode": "markers",
                  "name": "Hungary",
                  "showlegend": true,
                  "type": "scattergl",
                  "x": [
                    107,
                    107,
                    107,
                    107,
                    107,
                    107,
                    107,
                    107,
                    107,
                    107,
                    107,
                    107,
                    107,
                    107,
                    107,
                    107,
                    107,
                    107,
                    107,
                    107
                  ],
                  "xaxis": "x",
                  "y": [
                    11.206737274977352,
                    11.206737274977352,
                    11.206737274977352,
                    11.206737274977352,
                    11.206737274977352,
                    11.206737274977352,
                    11.206737274977352,
                    11.206737274977352,
                    11.206737274977352,
                    11.206737274977352,
                    11.206737274977352,
                    11.206737274977352,
                    11.206737274977352,
                    11.206737274977352,
                    11.206737274977352,
                    11.206737274977352,
                    11.206737274977352,
                    11.206737274977352,
                    11.206737274977352,
                    11.206737274977352
                  ],
                  "yaxis": "y"
                },
                {
                  "customdata": [
                    [
                      "India",
                      2611000000000
                    ],
                    [
                      "India",
                      2611000000000
                    ],
                    [
                      "India",
                      2611000000000
                    ],
                    [
                      "India",
                      2611000000000
                    ],
                    [
                      "India",
                      2611000000000
                    ],
                    [
                      "India",
                      2611000000000
                    ],
                    [
                      "India",
                      2611000000000
                    ],
                    [
                      "India",
                      2611000000000
                    ],
                    [
                      "India",
                      2611000000000
                    ],
                    [
                      "India",
                      2611000000000
                    ],
                    [
                      "India",
                      2611000000000
                    ],
                    [
                      "India",
                      2611000000000
                    ],
                    [
                      "India",
                      2611000000000
                    ],
                    [
                      "India",
                      2611000000000
                    ],
                    [
                      "India",
                      2611000000000
                    ],
                    [
                      "India",
                      2611000000000
                    ],
                    [
                      "India",
                      2611000000000
                    ],
                    [
                      "India",
                      2611000000000
                    ],
                    [
                      "India",
                      2611000000000
                    ],
                    [
                      "India",
                      2611000000000
                    ]
                  ],
                  "hovertemplate": "Country=%{customdata[0]}<br>Population Density=%{x}<br>Logarithmic GDP (base 10)=%{y}<br>GDP=%{customdata[1]}<extra></extra>",
                  "legendgroup": "India",
                  "marker": {
                    "color": "#19d3f3",
                    "opacity": 0.7,
                    "size": 10,
                    "symbol": "circle"
                  },
                  "mode": "markers",
                  "name": "India",
                  "showlegend": true,
                  "type": "scattergl",
                  "x": [
                    464,
                    464,
                    464,
                    464,
                    464,
                    464,
                    464,
                    464,
                    464,
                    464,
                    464,
                    464,
                    464,
                    464,
                    464,
                    464,
                    464,
                    464,
                    464,
                    464
                  ],
                  "xaxis": "x",
                  "y": [
                    12.416806871822944,
                    12.416806871822944,
                    12.416806871822944,
                    12.416806871822944,
                    12.416806871822944,
                    12.416806871822944,
                    12.416806871822944,
                    12.416806871822944,
                    12.416806871822944,
                    12.416806871822944,
                    12.416806871822944,
                    12.416806871822944,
                    12.416806871822944,
                    12.416806871822944,
                    12.416806871822944,
                    12.416806871822944,
                    12.416806871822944,
                    12.416806871822944,
                    12.416806871822944,
                    12.416806871822944
                  ],
                  "yaxis": "y"
                },
                {
                  "customdata": [
                    [
                      "Indonesia",
                      1119190780753
                    ],
                    [
                      "Indonesia",
                      1119190780753
                    ],
                    [
                      "Indonesia",
                      1119190780753
                    ],
                    [
                      "Indonesia",
                      1119190780753
                    ],
                    [
                      "Indonesia",
                      1119190780753
                    ],
                    [
                      "Indonesia",
                      1119190780753
                    ],
                    [
                      "Indonesia",
                      1119190780753
                    ],
                    [
                      "Indonesia",
                      1119190780753
                    ],
                    [
                      "Indonesia",
                      1119190780753
                    ],
                    [
                      "Indonesia",
                      1119190780753
                    ],
                    [
                      "Indonesia",
                      1119190780753
                    ],
                    [
                      "Indonesia",
                      1119190780753
                    ],
                    [
                      "Indonesia",
                      1119190780753
                    ],
                    [
                      "Indonesia",
                      1119190780753
                    ],
                    [
                      "Indonesia",
                      1119190780753
                    ],
                    [
                      "Indonesia",
                      1119190780753
                    ],
                    [
                      "Indonesia",
                      1119190780753
                    ],
                    [
                      "Indonesia",
                      1119190780753
                    ],
                    [
                      "Indonesia",
                      1119190780753
                    ],
                    [
                      "Indonesia",
                      1119190780753
                    ]
                  ],
                  "hovertemplate": "Country=%{customdata[0]}<br>Population Density=%{x}<br>Logarithmic GDP (base 10)=%{y}<br>GDP=%{customdata[1]}<extra></extra>",
                  "legendgroup": "Indonesia",
                  "marker": {
                    "color": "#FF6692",
                    "opacity": 0.7,
                    "size": 10,
                    "symbol": "circle"
                  },
                  "mode": "markers",
                  "name": "Indonesia",
                  "showlegend": true,
                  "type": "scattergl",
                  "x": [
                    151,
                    151,
                    151,
                    151,
                    151,
                    151,
                    151,
                    151,
                    151,
                    151,
                    151,
                    151,
                    151,
                    151,
                    151,
                    151,
                    151,
                    151,
                    151,
                    151
                  ],
                  "xaxis": "x",
                  "y": [
                    12.048904124031493,
                    12.048904124031493,
                    12.048904124031493,
                    12.048904124031493,
                    12.048904124031493,
                    12.048904124031493,
                    12.048904124031493,
                    12.048904124031493,
                    12.048904124031493,
                    12.048904124031493,
                    12.048904124031493,
                    12.048904124031493,
                    12.048904124031493,
                    12.048904124031493,
                    12.048904124031493,
                    12.048904124031493,
                    12.048904124031493,
                    12.048904124031493,
                    12.048904124031493,
                    12.048904124031493
                  ],
                  "yaxis": "y"
                },
                {
                  "customdata": [
                    [
                      "Iran",
                      445345282123
                    ],
                    [
                      "Iran",
                      445345282123
                    ],
                    [
                      "Iran",
                      445345282123
                    ],
                    [
                      "Iran",
                      445345282123
                    ],
                    [
                      "Iran",
                      445345282123
                    ],
                    [
                      "Iran",
                      445345282123
                    ],
                    [
                      "Iran",
                      445345282123
                    ],
                    [
                      "Iran",
                      445345282123
                    ],
                    [
                      "Iran",
                      445345282123
                    ],
                    [
                      "Iran",
                      445345282123
                    ],
                    [
                      "Iran",
                      445345282123
                    ],
                    [
                      "Iran",
                      445345282123
                    ],
                    [
                      "Iran",
                      445345282123
                    ],
                    [
                      "Iran",
                      445345282123
                    ],
                    [
                      "Iran",
                      445345282123
                    ],
                    [
                      "Iran",
                      445345282123
                    ],
                    [
                      "Iran",
                      445345282123
                    ],
                    [
                      "Iran",
                      445345282123
                    ],
                    [
                      "Iran",
                      445345282123
                    ],
                    [
                      "Iran",
                      445345282123
                    ]
                  ],
                  "hovertemplate": "Country=%{customdata[0]}<br>Population Density=%{x}<br>Logarithmic GDP (base 10)=%{y}<br>GDP=%{customdata[1]}<extra></extra>",
                  "legendgroup": "Iran",
                  "marker": {
                    "color": "#B6E880",
                    "opacity": 0.7,
                    "size": 10,
                    "symbol": "circle"
                  },
                  "mode": "markers",
                  "name": "Iran",
                  "showlegend": true,
                  "type": "scattergl",
                  "x": [
                    52,
                    52,
                    52,
                    52,
                    52,
                    52,
                    52,
                    52,
                    52,
                    52,
                    52,
                    52,
                    52,
                    52,
                    52,
                    52,
                    52,
                    52,
                    52,
                    52
                  ],
                  "xaxis": "x",
                  "y": [
                    11.64869685586852,
                    11.64869685586852,
                    11.64869685586852,
                    11.64869685586852,
                    11.64869685586852,
                    11.64869685586852,
                    11.64869685586852,
                    11.64869685586852,
                    11.64869685586852,
                    11.64869685586852,
                    11.64869685586852,
                    11.64869685586852,
                    11.64869685586852,
                    11.64869685586852,
                    11.64869685586852,
                    11.64869685586852,
                    11.64869685586852,
                    11.64869685586852,
                    11.64869685586852,
                    11.64869685586852
                  ],
                  "yaxis": "y"
                },
                {
                  "customdata": [
                    [
                      "Iraq",
                      234094042939
                    ],
                    [
                      "Iraq",
                      234094042939
                    ],
                    [
                      "Iraq",
                      234094042939
                    ],
                    [
                      "Iraq",
                      234094042939
                    ],
                    [
                      "Iraq",
                      234094042939
                    ],
                    [
                      "Iraq",
                      234094042939
                    ],
                    [
                      "Iraq",
                      234094042939
                    ],
                    [
                      "Iraq",
                      234094042939
                    ],
                    [
                      "Iraq",
                      234094042939
                    ],
                    [
                      "Iraq",
                      234094042939
                    ],
                    [
                      "Iraq",
                      234094042939
                    ],
                    [
                      "Iraq",
                      234094042939
                    ],
                    [
                      "Iraq",
                      234094042939
                    ],
                    [
                      "Iraq",
                      234094042939
                    ],
                    [
                      "Iraq",
                      234094042939
                    ],
                    [
                      "Iraq",
                      234094042939
                    ],
                    [
                      "Iraq",
                      234094042939
                    ],
                    [
                      "Iraq",
                      234094042939
                    ],
                    [
                      "Iraq",
                      234094042939
                    ],
                    [
                      "Iraq",
                      234094042939
                    ]
                  ],
                  "hovertemplate": "Country=%{customdata[0]}<br>Population Density=%{x}<br>Logarithmic GDP (base 10)=%{y}<br>GDP=%{customdata[1]}<extra></extra>",
                  "legendgroup": "Iraq",
                  "marker": {
                    "color": "#FF97FF",
                    "opacity": 0.7,
                    "size": 10,
                    "symbol": "circle"
                  },
                  "mode": "markers",
                  "name": "Iraq",
                  "showlegend": true,
                  "type": "scattergl",
                  "x": [
                    93,
                    93,
                    93,
                    93,
                    93,
                    93,
                    93,
                    93,
                    93,
                    93,
                    93,
                    93,
                    93,
                    93,
                    93,
                    93,
                    93,
                    93,
                    93,
                    93
                  ],
                  "xaxis": "x",
                  "y": [
                    11.3693903622159,
                    11.3693903622159,
                    11.3693903622159,
                    11.3693903622159,
                    11.3693903622159,
                    11.3693903622159,
                    11.3693903622159,
                    11.3693903622159,
                    11.3693903622159,
                    11.3693903622159,
                    11.3693903622159,
                    11.3693903622159,
                    11.3693903622159,
                    11.3693903622159,
                    11.3693903622159,
                    11.3693903622159,
                    11.3693903622159,
                    11.3693903622159,
                    11.3693903622159,
                    11.3693903622159
                  ],
                  "yaxis": "y"
                },
                {
                  "customdata": [
                    [
                      "Israel",
                      395098666122
                    ],
                    [
                      "Israel",
                      395098666122
                    ],
                    [
                      "Israel",
                      395098666122
                    ],
                    [
                      "Israel",
                      395098666122
                    ],
                    [
                      "Israel",
                      395098666122
                    ],
                    [
                      "Israel",
                      395098666122
                    ],
                    [
                      "Israel",
                      395098666122
                    ],
                    [
                      "Israel",
                      395098666122
                    ],
                    [
                      "Israel",
                      395098666122
                    ],
                    [
                      "Israel",
                      395098666122
                    ],
                    [
                      "Israel",
                      395098666122
                    ],
                    [
                      "Israel",
                      395098666122
                    ],
                    [
                      "Israel",
                      395098666122
                    ],
                    [
                      "Israel",
                      395098666122
                    ],
                    [
                      "Israel",
                      395098666122
                    ],
                    [
                      "Israel",
                      395098666122
                    ],
                    [
                      "Israel",
                      395098666122
                    ],
                    [
                      "Israel",
                      395098666122
                    ],
                    [
                      "Israel",
                      395098666122
                    ],
                    [
                      "Israel",
                      395098666122
                    ]
                  ],
                  "hovertemplate": "Country=%{customdata[0]}<br>Population Density=%{x}<br>Logarithmic GDP (base 10)=%{y}<br>GDP=%{customdata[1]}<extra></extra>",
                  "legendgroup": "Israel",
                  "marker": {
                    "color": "#FECB52",
                    "opacity": 0.7,
                    "size": 10,
                    "symbol": "circle"
                  },
                  "mode": "markers",
                  "name": "Israel",
                  "showlegend": true,
                  "type": "scattergl",
                  "x": [
                    400,
                    400,
                    400,
                    400,
                    400,
                    400,
                    400,
                    400,
                    400,
                    400,
                    400,
                    400,
                    400,
                    400,
                    400,
                    400,
                    400,
                    400,
                    400,
                    400
                  ],
                  "xaxis": "x",
                  "y": [
                    11.596705563478377,
                    11.596705563478377,
                    11.596705563478377,
                    11.596705563478377,
                    11.596705563478377,
                    11.596705563478377,
                    11.596705563478377,
                    11.596705563478377,
                    11.596705563478377,
                    11.596705563478377,
                    11.596705563478377,
                    11.596705563478377,
                    11.596705563478377,
                    11.596705563478377,
                    11.596705563478377,
                    11.596705563478377,
                    11.596705563478377,
                    11.596705563478377,
                    11.596705563478377,
                    11.596705563478377
                  ],
                  "yaxis": "y"
                },
                {
                  "customdata": [
                    [
                      "Ivory Coast",
                      58792205642
                    ],
                    [
                      "Ivory Coast",
                      58792205642
                    ],
                    [
                      "Ivory Coast",
                      58792205642
                    ],
                    [
                      "Ivory Coast",
                      58792205642
                    ],
                    [
                      "Ivory Coast",
                      58792205642
                    ],
                    [
                      "Ivory Coast",
                      58792205642
                    ],
                    [
                      "Ivory Coast",
                      58792205642
                    ],
                    [
                      "Ivory Coast",
                      58792205642
                    ],
                    [
                      "Ivory Coast",
                      58792205642
                    ],
                    [
                      "Ivory Coast",
                      58792205642
                    ],
                    [
                      "Ivory Coast",
                      58792205642
                    ],
                    [
                      "Ivory Coast",
                      58792205642
                    ],
                    [
                      "Ivory Coast",
                      58792205642
                    ],
                    [
                      "Ivory Coast",
                      58792205642
                    ],
                    [
                      "Ivory Coast",
                      58792205642
                    ],
                    [
                      "Ivory Coast",
                      58792205642
                    ],
                    [
                      "Ivory Coast",
                      58792205642
                    ],
                    [
                      "Ivory Coast",
                      58792205642
                    ],
                    [
                      "Ivory Coast",
                      58792205642
                    ],
                    [
                      "Ivory Coast",
                      58792205642
                    ]
                  ],
                  "hovertemplate": "Country=%{customdata[0]}<br>Population Density=%{x}<br>Logarithmic GDP (base 10)=%{y}<br>GDP=%{customdata[1]}<extra></extra>",
                  "legendgroup": "Ivory Coast",
                  "marker": {
                    "color": "#636efa",
                    "opacity": 0.7,
                    "size": 10,
                    "symbol": "circle"
                  },
                  "mode": "markers",
                  "name": "Ivory Coast",
                  "showlegend": true,
                  "type": "scattergl",
                  "x": [
                    83,
                    83,
                    83,
                    83,
                    83,
                    83,
                    83,
                    83,
                    83,
                    83,
                    83,
                    83,
                    83,
                    83,
                    83,
                    83,
                    83,
                    83,
                    83,
                    83
                  ],
                  "xaxis": "x",
                  "y": [
                    10.769319753439316,
                    10.769319753439316,
                    10.769319753439316,
                    10.769319753439316,
                    10.769319753439316,
                    10.769319753439316,
                    10.769319753439316,
                    10.769319753439316,
                    10.769319753439316,
                    10.769319753439316,
                    10.769319753439316,
                    10.769319753439316,
                    10.769319753439316,
                    10.769319753439316,
                    10.769319753439316,
                    10.769319753439316,
                    10.769319753439316,
                    10.769319753439316,
                    10.769319753439316,
                    10.769319753439316
                  ],
                  "yaxis": "y"
                },
                {
                  "customdata": [
                    [
                      "Jamaica",
                      16458071068
                    ],
                    [
                      "Jamaica",
                      16458071068
                    ],
                    [
                      "Jamaica",
                      16458071068
                    ],
                    [
                      "Jamaica",
                      16458071068
                    ],
                    [
                      "Jamaica",
                      16458071068
                    ],
                    [
                      "Jamaica",
                      16458071068
                    ],
                    [
                      "Jamaica",
                      16458071068
                    ],
                    [
                      "Jamaica",
                      16458071068
                    ],
                    [
                      "Jamaica",
                      16458071068
                    ],
                    [
                      "Jamaica",
                      16458071068
                    ],
                    [
                      "Jamaica",
                      16458071068
                    ],
                    [
                      "Jamaica",
                      16458071068
                    ],
                    [
                      "Jamaica",
                      16458071068
                    ],
                    [
                      "Jamaica",
                      16458071068
                    ],
                    [
                      "Jamaica",
                      16458071068
                    ],
                    [
                      "Jamaica",
                      16458071068
                    ],
                    [
                      "Jamaica",
                      16458071068
                    ],
                    [
                      "Jamaica",
                      16458071068
                    ],
                    [
                      "Jamaica",
                      16458071068
                    ],
                    [
                      "Jamaica",
                      16458071068
                    ]
                  ],
                  "hovertemplate": "Country=%{customdata[0]}<br>Population Density=%{x}<br>Logarithmic GDP (base 10)=%{y}<br>GDP=%{customdata[1]}<extra></extra>",
                  "legendgroup": "Jamaica",
                  "marker": {
                    "color": "#EF553B",
                    "opacity": 0.7,
                    "size": 10,
                    "symbol": "circle"
                  },
                  "mode": "markers",
                  "name": "Jamaica",
                  "showlegend": true,
                  "type": "scattergl",
                  "x": [
                    273,
                    273,
                    273,
                    273,
                    273,
                    273,
                    273,
                    273,
                    273,
                    273,
                    273,
                    273,
                    273,
                    273,
                    273,
                    273,
                    273,
                    273,
                    273,
                    273
                  ],
                  "xaxis": "x",
                  "y": [
                    10.216378933329867,
                    10.216378933329867,
                    10.216378933329867,
                    10.216378933329867,
                    10.216378933329867,
                    10.216378933329867,
                    10.216378933329867,
                    10.216378933329867,
                    10.216378933329867,
                    10.216378933329867,
                    10.216378933329867,
                    10.216378933329867,
                    10.216378933329867,
                    10.216378933329867,
                    10.216378933329867,
                    10.216378933329867,
                    10.216378933329867,
                    10.216378933329867,
                    10.216378933329867,
                    10.216378933329867
                  ],
                  "yaxis": "y"
                },
                {
                  "customdata": [
                    [
                      "Jordan",
                      43743661972
                    ],
                    [
                      "Jordan",
                      43743661972
                    ],
                    [
                      "Jordan",
                      43743661972
                    ],
                    [
                      "Jordan",
                      43743661972
                    ],
                    [
                      "Jordan",
                      43743661972
                    ],
                    [
                      "Jordan",
                      43743661972
                    ],
                    [
                      "Jordan",
                      43743661972
                    ],
                    [
                      "Jordan",
                      43743661972
                    ],
                    [
                      "Jordan",
                      43743661972
                    ],
                    [
                      "Jordan",
                      43743661972
                    ],
                    [
                      "Jordan",
                      43743661972
                    ],
                    [
                      "Jordan",
                      43743661972
                    ],
                    [
                      "Jordan",
                      43743661972
                    ],
                    [
                      "Jordan",
                      43743661972
                    ],
                    [
                      "Jordan",
                      43743661972
                    ],
                    [
                      "Jordan",
                      43743661972
                    ],
                    [
                      "Jordan",
                      43743661972
                    ],
                    [
                      "Jordan",
                      43743661972
                    ],
                    [
                      "Jordan",
                      43743661972
                    ],
                    [
                      "Jordan",
                      43743661972
                    ]
                  ],
                  "hovertemplate": "Country=%{customdata[0]}<br>Population Density=%{x}<br>Logarithmic GDP (base 10)=%{y}<br>GDP=%{customdata[1]}<extra></extra>",
                  "legendgroup": "Jordan",
                  "marker": {
                    "color": "#00cc96",
                    "opacity": 0.7,
                    "size": 10,
                    "symbol": "circle"
                  },
                  "mode": "markers",
                  "name": "Jordan",
                  "showlegend": true,
                  "type": "scattergl",
                  "x": [
                    115,
                    115,
                    115,
                    115,
                    115,
                    115,
                    115,
                    115,
                    115,
                    115,
                    115,
                    115,
                    115,
                    115,
                    115,
                    115,
                    115,
                    115,
                    115,
                    115
                  ],
                  "xaxis": "x",
                  "y": [
                    10.640915136901482,
                    10.640915136901482,
                    10.640915136901482,
                    10.640915136901482,
                    10.640915136901482,
                    10.640915136901482,
                    10.640915136901482,
                    10.640915136901482,
                    10.640915136901482,
                    10.640915136901482,
                    10.640915136901482,
                    10.640915136901482,
                    10.640915136901482,
                    10.640915136901482,
                    10.640915136901482,
                    10.640915136901482,
                    10.640915136901482,
                    10.640915136901482,
                    10.640915136901482,
                    10.640915136901482
                  ],
                  "yaxis": "y"
                },
                {
                  "customdata": [
                    [
                      "Kazakhstan",
                      180161741180
                    ],
                    [
                      "Kazakhstan",
                      180161741180
                    ],
                    [
                      "Kazakhstan",
                      180161741180
                    ],
                    [
                      "Kazakhstan",
                      180161741180
                    ],
                    [
                      "Kazakhstan",
                      180161741180
                    ],
                    [
                      "Kazakhstan",
                      180161741180
                    ],
                    [
                      "Kazakhstan",
                      180161741180
                    ],
                    [
                      "Kazakhstan",
                      180161741180
                    ],
                    [
                      "Kazakhstan",
                      180161741180
                    ],
                    [
                      "Kazakhstan",
                      180161741180
                    ],
                    [
                      "Kazakhstan",
                      180161741180
                    ],
                    [
                      "Kazakhstan",
                      180161741180
                    ],
                    [
                      "Kazakhstan",
                      180161741180
                    ],
                    [
                      "Kazakhstan",
                      180161741180
                    ],
                    [
                      "Kazakhstan",
                      180161741180
                    ],
                    [
                      "Kazakhstan",
                      180161741180
                    ],
                    [
                      "Kazakhstan",
                      180161741180
                    ],
                    [
                      "Kazakhstan",
                      180161741180
                    ],
                    [
                      "Kazakhstan",
                      180161741180
                    ],
                    [
                      "Kazakhstan",
                      180161741180
                    ]
                  ],
                  "hovertemplate": "Country=%{customdata[0]}<br>Population Density=%{x}<br>Logarithmic GDP (base 10)=%{y}<br>GDP=%{customdata[1]}<extra></extra>",
                  "legendgroup": "Kazakhstan",
                  "marker": {
                    "color": "#ab63fa",
                    "opacity": 0.7,
                    "size": 10,
                    "symbol": "circle"
                  },
                  "mode": "markers",
                  "name": "Kazakhstan",
                  "showlegend": true,
                  "type": "scattergl",
                  "x": [
                    7,
                    7,
                    7,
                    7,
                    7,
                    7,
                    7,
                    7,
                    7,
                    7,
                    7,
                    7,
                    7,
                    7,
                    7,
                    7,
                    7,
                    7,
                    7,
                    7
                  ],
                  "xaxis": "x",
                  "y": [
                    11.255662570447074,
                    11.255662570447074,
                    11.255662570447074,
                    11.255662570447074,
                    11.255662570447074,
                    11.255662570447074,
                    11.255662570447074,
                    11.255662570447074,
                    11.255662570447074,
                    11.255662570447074,
                    11.255662570447074,
                    11.255662570447074,
                    11.255662570447074,
                    11.255662570447074,
                    11.255662570447074,
                    11.255662570447074,
                    11.255662570447074,
                    11.255662570447074,
                    11.255662570447074,
                    11.255662570447074
                  ],
                  "yaxis": "y"
                },
                {
                  "customdata": [
                    [
                      "Kenya",
                      95503088538
                    ],
                    [
                      "Kenya",
                      95503088538
                    ],
                    [
                      "Kenya",
                      95503088538
                    ],
                    [
                      "Kenya",
                      95503088538
                    ],
                    [
                      "Kenya",
                      95503088538
                    ],
                    [
                      "Kenya",
                      95503088538
                    ],
                    [
                      "Kenya",
                      95503088538
                    ],
                    [
                      "Kenya",
                      95503088538
                    ],
                    [
                      "Kenya",
                      95503088538
                    ],
                    [
                      "Kenya",
                      95503088538
                    ],
                    [
                      "Kenya",
                      95503088538
                    ],
                    [
                      "Kenya",
                      95503088538
                    ],
                    [
                      "Kenya",
                      95503088538
                    ],
                    [
                      "Kenya",
                      95503088538
                    ],
                    [
                      "Kenya",
                      95503088538
                    ],
                    [
                      "Kenya",
                      95503088538
                    ],
                    [
                      "Kenya",
                      95503088538
                    ],
                    [
                      "Kenya",
                      95503088538
                    ],
                    [
                      "Kenya",
                      95503088538
                    ],
                    [
                      "Kenya",
                      95503088538
                    ]
                  ],
                  "hovertemplate": "Country=%{customdata[0]}<br>Population Density=%{x}<br>Logarithmic GDP (base 10)=%{y}<br>GDP=%{customdata[1]}<extra></extra>",
                  "legendgroup": "Kenya",
                  "marker": {
                    "color": "#FFA15A",
                    "opacity": 0.7,
                    "size": 10,
                    "symbol": "circle"
                  },
                  "mode": "markers",
                  "name": "Kenya",
                  "showlegend": true,
                  "type": "scattergl",
                  "x": [
                    94,
                    94,
                    94,
                    94,
                    94,
                    94,
                    94,
                    94,
                    94,
                    94,
                    94,
                    94,
                    94,
                    94,
                    94,
                    94,
                    94,
                    94,
                    94,
                    94
                  ],
                  "xaxis": "x",
                  "y": [
                    10.980017416749412,
                    10.980017416749412,
                    10.980017416749412,
                    10.980017416749412,
                    10.980017416749412,
                    10.980017416749412,
                    10.980017416749412,
                    10.980017416749412,
                    10.980017416749412,
                    10.980017416749412,
                    10.980017416749412,
                    10.980017416749412,
                    10.980017416749412,
                    10.980017416749412,
                    10.980017416749412,
                    10.980017416749412,
                    10.980017416749412,
                    10.980017416749412,
                    10.980017416749412,
                    10.980017416749412
                  ],
                  "yaxis": "y"
                },
                {
                  "customdata": [
                    [
                      "Kuwait",
                      134761198946
                    ],
                    [
                      "Kuwait",
                      134761198946
                    ],
                    [
                      "Kuwait",
                      134761198946
                    ],
                    [
                      "Kuwait",
                      134761198946
                    ],
                    [
                      "Kuwait",
                      134761198946
                    ],
                    [
                      "Kuwait",
                      134761198946
                    ],
                    [
                      "Kuwait",
                      134761198946
                    ],
                    [
                      "Kuwait",
                      134761198946
                    ],
                    [
                      "Kuwait",
                      134761198946
                    ],
                    [
                      "Kuwait",
                      134761198946
                    ],
                    [
                      "Kuwait",
                      134761198946
                    ],
                    [
                      "Kuwait",
                      134761198946
                    ],
                    [
                      "Kuwait",
                      134761198946
                    ],
                    [
                      "Kuwait",
                      134761198946
                    ],
                    [
                      "Kuwait",
                      134761198946
                    ],
                    [
                      "Kuwait",
                      134761198946
                    ],
                    [
                      "Kuwait",
                      134761198946
                    ],
                    [
                      "Kuwait",
                      134761198946
                    ],
                    [
                      "Kuwait",
                      134761198946
                    ],
                    [
                      "Kuwait",
                      134761198946
                    ]
                  ],
                  "hovertemplate": "Country=%{customdata[0]}<br>Population Density=%{x}<br>Logarithmic GDP (base 10)=%{y}<br>GDP=%{customdata[1]}<extra></extra>",
                  "legendgroup": "Kuwait",
                  "marker": {
                    "color": "#19d3f3",
                    "opacity": 0.7,
                    "size": 10,
                    "symbol": "circle"
                  },
                  "mode": "markers",
                  "name": "Kuwait",
                  "showlegend": true,
                  "type": "scattergl",
                  "x": [
                    240,
                    240,
                    240,
                    240,
                    240,
                    240,
                    240,
                    240,
                    240,
                    240,
                    240,
                    240,
                    240,
                    240,
                    240,
                    240,
                    240,
                    240,
                    240,
                    240
                  ],
                  "xaxis": "x",
                  "y": [
                    11.129564866165683,
                    11.129564866165683,
                    11.129564866165683,
                    11.129564866165683,
                    11.129564866165683,
                    11.129564866165683,
                    11.129564866165683,
                    11.129564866165683,
                    11.129564866165683,
                    11.129564866165683,
                    11.129564866165683,
                    11.129564866165683,
                    11.129564866165683,
                    11.129564866165683,
                    11.129564866165683,
                    11.129564866165683,
                    11.129564866165683,
                    11.129564866165683,
                    11.129564866165683,
                    11.129564866165683
                  ],
                  "yaxis": "y"
                },
                {
                  "customdata": [
                    [
                      "Kyrgyzstan",
                      8454619608
                    ],
                    [
                      "Kyrgyzstan",
                      8454619608
                    ],
                    [
                      "Kyrgyzstan",
                      8454619608
                    ],
                    [
                      "Kyrgyzstan",
                      8454619608
                    ],
                    [
                      "Kyrgyzstan",
                      8454619608
                    ],
                    [
                      "Kyrgyzstan",
                      8454619608
                    ],
                    [
                      "Kyrgyzstan",
                      8454619608
                    ],
                    [
                      "Kyrgyzstan",
                      8454619608
                    ],
                    [
                      "Kyrgyzstan",
                      8454619608
                    ],
                    [
                      "Kyrgyzstan",
                      8454619608
                    ],
                    [
                      "Kyrgyzstan",
                      8454619608
                    ],
                    [
                      "Kyrgyzstan",
                      8454619608
                    ],
                    [
                      "Kyrgyzstan",
                      8454619608
                    ],
                    [
                      "Kyrgyzstan",
                      8454619608
                    ],
                    [
                      "Kyrgyzstan",
                      8454619608
                    ],
                    [
                      "Kyrgyzstan",
                      8454619608
                    ],
                    [
                      "Kyrgyzstan",
                      8454619608
                    ],
                    [
                      "Kyrgyzstan",
                      8454619608
                    ],
                    [
                      "Kyrgyzstan",
                      8454619608
                    ],
                    [
                      "Kyrgyzstan",
                      8454619608
                    ]
                  ],
                  "hovertemplate": "Country=%{customdata[0]}<br>Population Density=%{x}<br>Logarithmic GDP (base 10)=%{y}<br>GDP=%{customdata[1]}<extra></extra>",
                  "legendgroup": "Kyrgyzstan",
                  "marker": {
                    "color": "#FF6692",
                    "opacity": 0.7,
                    "size": 10,
                    "symbol": "circle"
                  },
                  "mode": "markers",
                  "name": "Kyrgyzstan",
                  "showlegend": true,
                  "type": "scattergl",
                  "x": [
                    34,
                    34,
                    34,
                    34,
                    34,
                    34,
                    34,
                    34,
                    34,
                    34,
                    34,
                    34,
                    34,
                    34,
                    34,
                    34,
                    34,
                    34,
                    34,
                    34
                  ],
                  "xaxis": "x",
                  "y": [
                    9.92709407250586,
                    9.92709407250586,
                    9.92709407250586,
                    9.92709407250586,
                    9.92709407250586,
                    9.92709407250586,
                    9.92709407250586,
                    9.92709407250586,
                    9.92709407250586,
                    9.92709407250586,
                    9.92709407250586,
                    9.92709407250586,
                    9.92709407250586,
                    9.92709407250586,
                    9.92709407250586,
                    9.92709407250586,
                    9.92709407250586,
                    9.92709407250586,
                    9.92709407250586,
                    9.92709407250586
                  ],
                  "yaxis": "y"
                },
                {
                  "customdata": [
                    [
                      "Laos",
                      18173839128
                    ],
                    [
                      "Laos",
                      18173839128
                    ],
                    [
                      "Laos",
                      18173839128
                    ],
                    [
                      "Laos",
                      18173839128
                    ],
                    [
                      "Laos",
                      18173839128
                    ],
                    [
                      "Laos",
                      18173839128
                    ],
                    [
                      "Laos",
                      18173839128
                    ],
                    [
                      "Laos",
                      18173839128
                    ],
                    [
                      "Laos",
                      18173839128
                    ],
                    [
                      "Laos",
                      18173839128
                    ],
                    [
                      "Laos",
                      18173839128
                    ],
                    [
                      "Laos",
                      18173839128
                    ],
                    [
                      "Laos",
                      18173839128
                    ],
                    [
                      "Laos",
                      18173839128
                    ],
                    [
                      "Laos",
                      18173839128
                    ],
                    [
                      "Laos",
                      18173839128
                    ],
                    [
                      "Laos",
                      18173839128
                    ],
                    [
                      "Laos",
                      18173839128
                    ],
                    [
                      "Laos",
                      18173839128
                    ],
                    [
                      "Laos",
                      18173839128
                    ]
                  ],
                  "hovertemplate": "Country=%{customdata[0]}<br>Population Density=%{x}<br>Logarithmic GDP (base 10)=%{y}<br>GDP=%{customdata[1]}<extra></extra>",
                  "legendgroup": "Laos",
                  "marker": {
                    "color": "#B6E880",
                    "opacity": 0.7,
                    "size": 10,
                    "symbol": "circle"
                  },
                  "mode": "markers",
                  "name": "Laos",
                  "showlegend": true,
                  "type": "scattergl",
                  "x": [
                    32,
                    32,
                    32,
                    32,
                    32,
                    32,
                    32,
                    32,
                    32,
                    32,
                    32,
                    32,
                    32,
                    32,
                    32,
                    32,
                    32,
                    32,
                    32,
                    32
                  ],
                  "xaxis": "x",
                  "y": [
                    10.259446679426244,
                    10.259446679426244,
                    10.259446679426244,
                    10.259446679426244,
                    10.259446679426244,
                    10.259446679426244,
                    10.259446679426244,
                    10.259446679426244,
                    10.259446679426244,
                    10.259446679426244,
                    10.259446679426244,
                    10.259446679426244,
                    10.259446679426244,
                    10.259446679426244,
                    10.259446679426244,
                    10.259446679426244,
                    10.259446679426244,
                    10.259446679426244,
                    10.259446679426244,
                    10.259446679426244
                  ],
                  "yaxis": "y"
                },
                {
                  "customdata": [
                    [
                      "Latvia",
                      34117202555
                    ],
                    [
                      "Latvia",
                      34117202555
                    ],
                    [
                      "Latvia",
                      34117202555
                    ],
                    [
                      "Latvia",
                      34117202555
                    ],
                    [
                      "Latvia",
                      34117202555
                    ],
                    [
                      "Latvia",
                      34117202555
                    ],
                    [
                      "Latvia",
                      34117202555
                    ],
                    [
                      "Latvia",
                      34117202555
                    ],
                    [
                      "Latvia",
                      34117202555
                    ],
                    [
                      "Latvia",
                      34117202555
                    ],
                    [
                      "Latvia",
                      34117202555
                    ],
                    [
                      "Latvia",
                      34117202555
                    ],
                    [
                      "Latvia",
                      34117202555
                    ],
                    [
                      "Latvia",
                      34117202555
                    ],
                    [
                      "Latvia",
                      34117202555
                    ],
                    [
                      "Latvia",
                      34117202555
                    ],
                    [
                      "Latvia",
                      34117202555
                    ],
                    [
                      "Latvia",
                      34117202555
                    ],
                    [
                      "Latvia",
                      34117202555
                    ],
                    [
                      "Latvia",
                      34117202555
                    ]
                  ],
                  "hovertemplate": "Country=%{customdata[0]}<br>Population Density=%{x}<br>Logarithmic GDP (base 10)=%{y}<br>GDP=%{customdata[1]}<extra></extra>",
                  "legendgroup": "Latvia",
                  "marker": {
                    "color": "#FF97FF",
                    "opacity": 0.7,
                    "size": 10,
                    "symbol": "circle"
                  },
                  "mode": "markers",
                  "name": "Latvia",
                  "showlegend": true,
                  "type": "scattergl",
                  "x": [
                    30,
                    30,
                    30,
                    30,
                    30,
                    30,
                    30,
                    30,
                    30,
                    30,
                    30,
                    30,
                    30,
                    30,
                    30,
                    30,
                    30,
                    30,
                    30,
                    30
                  ],
                  "xaxis": "x",
                  "y": [
                    10.532973413915938,
                    10.532973413915938,
                    10.532973413915938,
                    10.532973413915938,
                    10.532973413915938,
                    10.532973413915938,
                    10.532973413915938,
                    10.532973413915938,
                    10.532973413915938,
                    10.532973413915938,
                    10.532973413915938,
                    10.532973413915938,
                    10.532973413915938,
                    10.532973413915938,
                    10.532973413915938,
                    10.532973413915938,
                    10.532973413915938,
                    10.532973413915938,
                    10.532973413915938,
                    10.532973413915938
                  ],
                  "yaxis": "y"
                },
                {
                  "customdata": [
                    [
                      "Lebanon",
                      53367042272
                    ],
                    [
                      "Lebanon",
                      53367042272
                    ],
                    [
                      "Lebanon",
                      53367042272
                    ],
                    [
                      "Lebanon",
                      53367042272
                    ],
                    [
                      "Lebanon",
                      53367042272
                    ],
                    [
                      "Lebanon",
                      53367042272
                    ],
                    [
                      "Lebanon",
                      53367042272
                    ],
                    [
                      "Lebanon",
                      53367042272
                    ],
                    [
                      "Lebanon",
                      53367042272
                    ],
                    [
                      "Lebanon",
                      53367042272
                    ],
                    [
                      "Lebanon",
                      53367042272
                    ],
                    [
                      "Lebanon",
                      53367042272
                    ],
                    [
                      "Lebanon",
                      53367042272
                    ],
                    [
                      "Lebanon",
                      53367042272
                    ],
                    [
                      "Lebanon",
                      53367042272
                    ],
                    [
                      "Lebanon",
                      53367042272
                    ],
                    [
                      "Lebanon",
                      53367042272
                    ],
                    [
                      "Lebanon",
                      53367042272
                    ],
                    [
                      "Lebanon",
                      53367042272
                    ],
                    [
                      "Lebanon",
                      53367042272
                    ]
                  ],
                  "hovertemplate": "Country=%{customdata[0]}<br>Population Density=%{x}<br>Logarithmic GDP (base 10)=%{y}<br>GDP=%{customdata[1]}<extra></extra>",
                  "legendgroup": "Lebanon",
                  "marker": {
                    "color": "#FECB52",
                    "opacity": 0.7,
                    "size": 10,
                    "symbol": "circle"
                  },
                  "mode": "markers",
                  "name": "Lebanon",
                  "showlegend": true,
                  "type": "scattergl",
                  "x": [
                    667,
                    667,
                    667,
                    667,
                    667,
                    667,
                    667,
                    667,
                    667,
                    667,
                    667,
                    667,
                    667,
                    667,
                    667,
                    667,
                    667,
                    667,
                    667,
                    667
                  ],
                  "xaxis": "x",
                  "y": [
                    10.727273133840791,
                    10.727273133840791,
                    10.727273133840791,
                    10.727273133840791,
                    10.727273133840791,
                    10.727273133840791,
                    10.727273133840791,
                    10.727273133840791,
                    10.727273133840791,
                    10.727273133840791,
                    10.727273133840791,
                    10.727273133840791,
                    10.727273133840791,
                    10.727273133840791,
                    10.727273133840791,
                    10.727273133840791,
                    10.727273133840791,
                    10.727273133840791,
                    10.727273133840791,
                    10.727273133840791
                  ],
                  "yaxis": "y"
                },
                {
                  "customdata": [
                    [
                      "Lithuania",
                      54219315600
                    ],
                    [
                      "Lithuania",
                      54219315600
                    ],
                    [
                      "Lithuania",
                      54219315600
                    ],
                    [
                      "Lithuania",
                      54219315600
                    ],
                    [
                      "Lithuania",
                      54219315600
                    ],
                    [
                      "Lithuania",
                      54219315600
                    ],
                    [
                      "Lithuania",
                      54219315600
                    ],
                    [
                      "Lithuania",
                      54219315600
                    ],
                    [
                      "Lithuania",
                      54219315600
                    ],
                    [
                      "Lithuania",
                      54219315600
                    ],
                    [
                      "Lithuania",
                      54219315600
                    ],
                    [
                      "Lithuania",
                      54219315600
                    ],
                    [
                      "Lithuania",
                      54219315600
                    ],
                    [
                      "Lithuania",
                      54219315600
                    ],
                    [
                      "Lithuania",
                      54219315600
                    ],
                    [
                      "Lithuania",
                      54219315600
                    ],
                    [
                      "Lithuania",
                      54219315600
                    ],
                    [
                      "Lithuania",
                      54219315600
                    ],
                    [
                      "Lithuania",
                      54219315600
                    ],
                    [
                      "Lithuania",
                      54219315600
                    ]
                  ],
                  "hovertemplate": "Country=%{customdata[0]}<br>Population Density=%{x}<br>Logarithmic GDP (base 10)=%{y}<br>GDP=%{customdata[1]}<extra></extra>",
                  "legendgroup": "Lithuania",
                  "marker": {
                    "color": "#636efa",
                    "opacity": 0.7,
                    "size": 10,
                    "symbol": "circle"
                  },
                  "mode": "markers",
                  "name": "Lithuania",
                  "showlegend": true,
                  "type": "scattergl",
                  "x": [
                    43,
                    43,
                    43,
                    43,
                    43,
                    43,
                    43,
                    43,
                    43,
                    43,
                    43,
                    43,
                    43,
                    43,
                    43,
                    43,
                    43,
                    43,
                    43,
                    43
                  ],
                  "xaxis": "x",
                  "y": [
                    10.73415403126329,
                    10.73415403126329,
                    10.73415403126329,
                    10.73415403126329,
                    10.73415403126329,
                    10.73415403126329,
                    10.73415403126329,
                    10.73415403126329,
                    10.73415403126329,
                    10.73415403126329,
                    10.73415403126329,
                    10.73415403126329,
                    10.73415403126329,
                    10.73415403126329,
                    10.73415403126329,
                    10.73415403126329,
                    10.73415403126329,
                    10.73415403126329,
                    10.73415403126329,
                    10.73415403126329
                  ],
                  "yaxis": "y"
                },
                {
                  "customdata": [
                    [
                      "Luxembourg",
                      71104919108
                    ],
                    [
                      "Luxembourg",
                      71104919108
                    ],
                    [
                      "Luxembourg",
                      71104919108
                    ],
                    [
                      "Luxembourg",
                      71104919108
                    ],
                    [
                      "Luxembourg",
                      71104919108
                    ],
                    [
                      "Luxembourg",
                      71104919108
                    ],
                    [
                      "Luxembourg",
                      71104919108
                    ],
                    [
                      "Luxembourg",
                      71104919108
                    ],
                    [
                      "Luxembourg",
                      71104919108
                    ],
                    [
                      "Luxembourg",
                      71104919108
                    ],
                    [
                      "Luxembourg",
                      71104919108
                    ],
                    [
                      "Luxembourg",
                      71104919108
                    ],
                    [
                      "Luxembourg",
                      71104919108
                    ],
                    [
                      "Luxembourg",
                      71104919108
                    ],
                    [
                      "Luxembourg",
                      71104919108
                    ],
                    [
                      "Luxembourg",
                      71104919108
                    ],
                    [
                      "Luxembourg",
                      71104919108
                    ],
                    [
                      "Luxembourg",
                      71104919108
                    ],
                    [
                      "Luxembourg",
                      71104919108
                    ],
                    [
                      "Luxembourg",
                      71104919108
                    ]
                  ],
                  "hovertemplate": "Country=%{customdata[0]}<br>Population Density=%{x}<br>Logarithmic GDP (base 10)=%{y}<br>GDP=%{customdata[1]}<extra></extra>",
                  "legendgroup": "Luxembourg",
                  "marker": {
                    "color": "#EF553B",
                    "opacity": 0.7,
                    "size": 10,
                    "symbol": "circle"
                  },
                  "mode": "markers",
                  "name": "Luxembourg",
                  "showlegend": true,
                  "type": "scattergl",
                  "x": [
                    242,
                    242,
                    242,
                    242,
                    242,
                    242,
                    242,
                    242,
                    242,
                    242,
                    242,
                    242,
                    242,
                    242,
                    242,
                    242,
                    242,
                    242,
                    242,
                    242
                  ],
                  "xaxis": "x",
                  "y": [
                    10.85189964668703,
                    10.85189964668703,
                    10.85189964668703,
                    10.85189964668703,
                    10.85189964668703,
                    10.85189964668703,
                    10.85189964668703,
                    10.85189964668703,
                    10.85189964668703,
                    10.85189964668703,
                    10.85189964668703,
                    10.85189964668703,
                    10.85189964668703,
                    10.85189964668703,
                    10.85189964668703,
                    10.85189964668703,
                    10.85189964668703,
                    10.85189964668703,
                    10.85189964668703,
                    10.85189964668703
                  ],
                  "yaxis": "y"
                },
                {
                  "customdata": [
                    [
                      "Madagascar",
                      14083906357
                    ],
                    [
                      "Madagascar",
                      14083906357
                    ],
                    [
                      "Madagascar",
                      14083906357
                    ],
                    [
                      "Madagascar",
                      14083906357
                    ],
                    [
                      "Madagascar",
                      14083906357
                    ],
                    [
                      "Madagascar",
                      14083906357
                    ],
                    [
                      "Madagascar",
                      14083906357
                    ],
                    [
                      "Madagascar",
                      14083906357
                    ],
                    [
                      "Madagascar",
                      14083906357
                    ],
                    [
                      "Madagascar",
                      14083906357
                    ],
                    [
                      "Madagascar",
                      14083906357
                    ],
                    [
                      "Madagascar",
                      14083906357
                    ],
                    [
                      "Madagascar",
                      14083906357
                    ],
                    [
                      "Madagascar",
                      14083906357
                    ],
                    [
                      "Madagascar",
                      14083906357
                    ],
                    [
                      "Madagascar",
                      14083906357
                    ],
                    [
                      "Madagascar",
                      14083906357
                    ],
                    [
                      "Madagascar",
                      14083906357
                    ],
                    [
                      "Madagascar",
                      14083906357
                    ],
                    [
                      "Madagascar",
                      14083906357
                    ]
                  ],
                  "hovertemplate": "Country=%{customdata[0]}<br>Population Density=%{x}<br>Logarithmic GDP (base 10)=%{y}<br>GDP=%{customdata[1]}<extra></extra>",
                  "legendgroup": "Madagascar",
                  "marker": {
                    "color": "#00cc96",
                    "opacity": 0.7,
                    "size": 10,
                    "symbol": "circle"
                  },
                  "mode": "markers",
                  "name": "Madagascar",
                  "showlegend": true,
                  "type": "scattergl",
                  "x": [
                    48,
                    48,
                    48,
                    48,
                    48,
                    48,
                    48,
                    48,
                    48,
                    48,
                    48,
                    48,
                    48,
                    48,
                    48,
                    48,
                    48,
                    48,
                    48,
                    48
                  ],
                  "xaxis": "x",
                  "y": [
                    10.148723128811284,
                    10.148723128811284,
                    10.148723128811284,
                    10.148723128811284,
                    10.148723128811284,
                    10.148723128811284,
                    10.148723128811284,
                    10.148723128811284,
                    10.148723128811284,
                    10.148723128811284,
                    10.148723128811284,
                    10.148723128811284,
                    10.148723128811284,
                    10.148723128811284,
                    10.148723128811284,
                    10.148723128811284,
                    10.148723128811284,
                    10.148723128811284,
                    10.148723128811284,
                    10.148723128811284
                  ],
                  "yaxis": "y"
                },
                {
                  "customdata": [
                    [
                      "Malawi",
                      7666704427
                    ],
                    [
                      "Malawi",
                      7666704427
                    ],
                    [
                      "Malawi",
                      7666704427
                    ],
                    [
                      "Malawi",
                      7666704427
                    ],
                    [
                      "Malawi",
                      7666704427
                    ],
                    [
                      "Malawi",
                      7666704427
                    ],
                    [
                      "Malawi",
                      7666704427
                    ],
                    [
                      "Malawi",
                      7666704427
                    ],
                    [
                      "Malawi",
                      7666704427
                    ],
                    [
                      "Malawi",
                      7666704427
                    ],
                    [
                      "Malawi",
                      7666704427
                    ],
                    [
                      "Malawi",
                      7666704427
                    ],
                    [
                      "Malawi",
                      7666704427
                    ],
                    [
                      "Malawi",
                      7666704427
                    ],
                    [
                      "Malawi",
                      7666704427
                    ],
                    [
                      "Malawi",
                      7666704427
                    ],
                    [
                      "Malawi",
                      7666704427
                    ],
                    [
                      "Malawi",
                      7666704427
                    ],
                    [
                      "Malawi",
                      7666704427
                    ],
                    [
                      "Malawi",
                      7666704427
                    ]
                  ],
                  "hovertemplate": "Country=%{customdata[0]}<br>Population Density=%{x}<br>Logarithmic GDP (base 10)=%{y}<br>GDP=%{customdata[1]}<extra></extra>",
                  "legendgroup": "Malawi",
                  "marker": {
                    "color": "#ab63fa",
                    "opacity": 0.7,
                    "size": 10,
                    "symbol": "circle"
                  },
                  "mode": "markers",
                  "name": "Malawi",
                  "showlegend": true,
                  "type": "scattergl",
                  "x": [
                    203,
                    203,
                    203,
                    203,
                    203,
                    203,
                    203,
                    203,
                    203,
                    203,
                    203,
                    203,
                    203,
                    203,
                    203,
                    203,
                    203,
                    203,
                    203,
                    203
                  ],
                  "xaxis": "x",
                  "y": [
                    9.88460872030628,
                    9.88460872030628,
                    9.88460872030628,
                    9.88460872030628,
                    9.88460872030628,
                    9.88460872030628,
                    9.88460872030628,
                    9.88460872030628,
                    9.88460872030628,
                    9.88460872030628,
                    9.88460872030628,
                    9.88460872030628,
                    9.88460872030628,
                    9.88460872030628,
                    9.88460872030628,
                    9.88460872030628,
                    9.88460872030628,
                    9.88460872030628,
                    9.88460872030628,
                    9.88460872030628
                  ],
                  "yaxis": "y"
                },
                {
                  "customdata": [
                    [
                      "Malaysia",
                      364701517788
                    ],
                    [
                      "Malaysia",
                      364701517788
                    ],
                    [
                      "Malaysia",
                      364701517788
                    ],
                    [
                      "Malaysia",
                      364701517788
                    ],
                    [
                      "Malaysia",
                      364701517788
                    ],
                    [
                      "Malaysia",
                      364701517788
                    ],
                    [
                      "Malaysia",
                      364701517788
                    ],
                    [
                      "Malaysia",
                      364701517788
                    ],
                    [
                      "Malaysia",
                      364701517788
                    ],
                    [
                      "Malaysia",
                      364701517788
                    ],
                    [
                      "Malaysia",
                      364701517788
                    ],
                    [
                      "Malaysia",
                      364701517788
                    ],
                    [
                      "Malaysia",
                      364701517788
                    ],
                    [
                      "Malaysia",
                      364701517788
                    ],
                    [
                      "Malaysia",
                      364701517788
                    ],
                    [
                      "Malaysia",
                      364701517788
                    ],
                    [
                      "Malaysia",
                      364701517788
                    ],
                    [
                      "Malaysia",
                      364701517788
                    ],
                    [
                      "Malaysia",
                      364701517788
                    ],
                    [
                      "Malaysia",
                      364701517788
                    ]
                  ],
                  "hovertemplate": "Country=%{customdata[0]}<br>Population Density=%{x}<br>Logarithmic GDP (base 10)=%{y}<br>GDP=%{customdata[1]}<extra></extra>",
                  "legendgroup": "Malaysia",
                  "marker": {
                    "color": "#FFA15A",
                    "opacity": 0.7,
                    "size": 10,
                    "symbol": "circle"
                  },
                  "mode": "markers",
                  "name": "Malaysia",
                  "showlegend": true,
                  "type": "scattergl",
                  "x": [
                    99,
                    99,
                    99,
                    99,
                    99,
                    99,
                    99,
                    99,
                    99,
                    99,
                    99,
                    99,
                    99,
                    99,
                    99,
                    99,
                    99,
                    99,
                    99,
                    99
                  ],
                  "xaxis": "x",
                  "y": [
                    11.56193757073243,
                    11.56193757073243,
                    11.56193757073243,
                    11.56193757073243,
                    11.56193757073243,
                    11.56193757073243,
                    11.56193757073243,
                    11.56193757073243,
                    11.56193757073243,
                    11.56193757073243,
                    11.56193757073243,
                    11.56193757073243,
                    11.56193757073243,
                    11.56193757073243,
                    11.56193757073243,
                    11.56193757073243,
                    11.56193757073243,
                    11.56193757073243,
                    11.56193757073243,
                    11.56193757073243
                  ],
                  "yaxis": "y"
                },
                {
                  "customdata": [
                    [
                      "Mali",
                      17510141171
                    ],
                    [
                      "Mali",
                      17510141171
                    ],
                    [
                      "Mali",
                      17510141171
                    ],
                    [
                      "Mali",
                      17510141171
                    ],
                    [
                      "Mali",
                      17510141171
                    ],
                    [
                      "Mali",
                      17510141171
                    ],
                    [
                      "Mali",
                      17510141171
                    ],
                    [
                      "Mali",
                      17510141171
                    ],
                    [
                      "Mali",
                      17510141171
                    ],
                    [
                      "Mali",
                      17510141171
                    ],
                    [
                      "Mali",
                      17510141171
                    ],
                    [
                      "Mali",
                      17510141171
                    ],
                    [
                      "Mali",
                      17510141171
                    ],
                    [
                      "Mali",
                      17510141171
                    ],
                    [
                      "Mali",
                      17510141171
                    ],
                    [
                      "Mali",
                      17510141171
                    ],
                    [
                      "Mali",
                      17510141171
                    ],
                    [
                      "Mali",
                      17510141171
                    ],
                    [
                      "Mali",
                      17510141171
                    ],
                    [
                      "Mali",
                      17510141171
                    ]
                  ],
                  "hovertemplate": "Country=%{customdata[0]}<br>Population Density=%{x}<br>Logarithmic GDP (base 10)=%{y}<br>GDP=%{customdata[1]}<extra></extra>",
                  "legendgroup": "Mali",
                  "marker": {
                    "color": "#19d3f3",
                    "opacity": 0.7,
                    "size": 10,
                    "symbol": "circle"
                  },
                  "mode": "markers",
                  "name": "Mali",
                  "showlegend": true,
                  "type": "scattergl",
                  "x": [
                    17,
                    17,
                    17,
                    17,
                    17,
                    17,
                    17,
                    17,
                    17,
                    17,
                    17,
                    17,
                    17,
                    17,
                    17,
                    17,
                    17,
                    17,
                    17,
                    17
                  ],
                  "xaxis": "x",
                  "y": [
                    10.243289647484882,
                    10.243289647484882,
                    10.243289647484882,
                    10.243289647484882,
                    10.243289647484882,
                    10.243289647484882,
                    10.243289647484882,
                    10.243289647484882,
                    10.243289647484882,
                    10.243289647484882,
                    10.243289647484882,
                    10.243289647484882,
                    10.243289647484882,
                    10.243289647484882,
                    10.243289647484882,
                    10.243289647484882,
                    10.243289647484882,
                    10.243289647484882,
                    10.243289647484882,
                    10.243289647484882
                  ],
                  "yaxis": "y"
                },
                {
                  "customdata": [
                    [
                      "Malta",
                      14786156563
                    ],
                    [
                      "Malta",
                      14786156563
                    ],
                    [
                      "Malta",
                      14786156563
                    ],
                    [
                      "Malta",
                      14786156563
                    ],
                    [
                      "Malta",
                      14786156563
                    ],
                    [
                      "Malta",
                      14786156563
                    ],
                    [
                      "Malta",
                      14786156563
                    ],
                    [
                      "Malta",
                      14786156563
                    ],
                    [
                      "Malta",
                      14786156563
                    ],
                    [
                      "Malta",
                      14786156563
                    ],
                    [
                      "Malta",
                      14786156563
                    ],
                    [
                      "Malta",
                      14786156563
                    ],
                    [
                      "Malta",
                      14786156563
                    ],
                    [
                      "Malta",
                      14786156563
                    ],
                    [
                      "Malta",
                      14786156563
                    ],
                    [
                      "Malta",
                      14786156563
                    ],
                    [
                      "Malta",
                      14786156563
                    ],
                    [
                      "Malta",
                      14786156563
                    ],
                    [
                      "Malta",
                      14786156563
                    ],
                    [
                      "Malta",
                      14786156563
                    ]
                  ],
                  "hovertemplate": "Country=%{customdata[0]}<br>Population Density=%{x}<br>Logarithmic GDP (base 10)=%{y}<br>GDP=%{customdata[1]}<extra></extra>",
                  "legendgroup": "Malta",
                  "marker": {
                    "color": "#FF6692",
                    "opacity": 0.7,
                    "size": 10,
                    "symbol": "circle"
                  },
                  "mode": "markers",
                  "name": "Malta",
                  "showlegend": true,
                  "type": "scattergl",
                  "x": [
                    1380,
                    1380,
                    1380,
                    1380,
                    1380,
                    1380,
                    1380,
                    1380,
                    1380,
                    1380,
                    1380,
                    1380,
                    1380,
                    1380,
                    1380,
                    1380,
                    1380,
                    1380,
                    1380,
                    1380
                  ],
                  "xaxis": "x",
                  "y": [
                    10.16985530040654,
                    10.16985530040654,
                    10.16985530040654,
                    10.16985530040654,
                    10.16985530040654,
                    10.16985530040654,
                    10.16985530040654,
                    10.16985530040654,
                    10.16985530040654,
                    10.16985530040654,
                    10.16985530040654,
                    10.16985530040654,
                    10.16985530040654,
                    10.16985530040654,
                    10.16985530040654,
                    10.16985530040654,
                    10.16985530040654,
                    10.16985530040654,
                    10.16985530040654,
                    10.16985530040654
                  ],
                  "yaxis": "y"
                },
                {
                  "customdata": [
                    [
                      "Mauritius",
                      14180444557
                    ],
                    [
                      "Mauritius",
                      14180444557
                    ],
                    [
                      "Mauritius",
                      14180444557
                    ],
                    [
                      "Mauritius",
                      14180444557
                    ],
                    [
                      "Mauritius",
                      14180444557
                    ],
                    [
                      "Mauritius",
                      14180444557
                    ],
                    [
                      "Mauritius",
                      14180444557
                    ],
                    [
                      "Mauritius",
                      14180444557
                    ],
                    [
                      "Mauritius",
                      14180444557
                    ],
                    [
                      "Mauritius",
                      14180444557
                    ],
                    [
                      "Mauritius",
                      14180444557
                    ],
                    [
                      "Mauritius",
                      14180444557
                    ],
                    [
                      "Mauritius",
                      14180444557
                    ],
                    [
                      "Mauritius",
                      14180444557
                    ],
                    [
                      "Mauritius",
                      14180444557
                    ],
                    [
                      "Mauritius",
                      14180444557
                    ],
                    [
                      "Mauritius",
                      14180444557
                    ],
                    [
                      "Mauritius",
                      14180444557
                    ],
                    [
                      "Mauritius",
                      14180444557
                    ],
                    [
                      "Mauritius",
                      14180444557
                    ]
                  ],
                  "hovertemplate": "Country=%{customdata[0]}<br>Population Density=%{x}<br>Logarithmic GDP (base 10)=%{y}<br>GDP=%{customdata[1]}<extra></extra>",
                  "legendgroup": "Mauritius",
                  "marker": {
                    "color": "#B6E880",
                    "opacity": 0.7,
                    "size": 10,
                    "symbol": "circle"
                  },
                  "mode": "markers",
                  "name": "Mauritius",
                  "showlegend": true,
                  "type": "scattergl",
                  "x": [
                    626,
                    626,
                    626,
                    626,
                    626,
                    626,
                    626,
                    626,
                    626,
                    626,
                    626,
                    626,
                    626,
                    626,
                    626,
                    626,
                    626,
                    626,
                    626,
                    626
                  ],
                  "xaxis": "x",
                  "y": [
                    10.151689846194412,
                    10.151689846194412,
                    10.151689846194412,
                    10.151689846194412,
                    10.151689846194412,
                    10.151689846194412,
                    10.151689846194412,
                    10.151689846194412,
                    10.151689846194412,
                    10.151689846194412,
                    10.151689846194412,
                    10.151689846194412,
                    10.151689846194412,
                    10.151689846194412,
                    10.151689846194412,
                    10.151689846194412,
                    10.151689846194412,
                    10.151689846194412,
                    10.151689846194412,
                    10.151689846194412
                  ],
                  "yaxis": "y"
                },
                {
                  "customdata": [
                    [
                      "Mongolia",
                      13852850259
                    ],
                    [
                      "Mongolia",
                      13852850259
                    ],
                    [
                      "Mongolia",
                      13852850259
                    ],
                    [
                      "Mongolia",
                      13852850259
                    ],
                    [
                      "Mongolia",
                      13852850259
                    ],
                    [
                      "Mongolia",
                      13852850259
                    ],
                    [
                      "Mongolia",
                      13852850259
                    ],
                    [
                      "Mongolia",
                      13852850259
                    ],
                    [
                      "Mongolia",
                      13852850259
                    ],
                    [
                      "Mongolia",
                      13852850259
                    ],
                    [
                      "Mongolia",
                      13852850259
                    ],
                    [
                      "Mongolia",
                      13852850259
                    ],
                    [
                      "Mongolia",
                      13852850259
                    ],
                    [
                      "Mongolia",
                      13852850259
                    ],
                    [
                      "Mongolia",
                      13852850259
                    ],
                    [
                      "Mongolia",
                      13852850259
                    ],
                    [
                      "Mongolia",
                      13852850259
                    ],
                    [
                      "Mongolia",
                      13852850259
                    ],
                    [
                      "Mongolia",
                      13852850259
                    ],
                    [
                      "Mongolia",
                      13852850259
                    ]
                  ],
                  "hovertemplate": "Country=%{customdata[0]}<br>Population Density=%{x}<br>Logarithmic GDP (base 10)=%{y}<br>GDP=%{customdata[1]}<extra></extra>",
                  "legendgroup": "Mongolia",
                  "marker": {
                    "color": "#FF97FF",
                    "opacity": 0.7,
                    "size": 10,
                    "symbol": "circle"
                  },
                  "mode": "markers",
                  "name": "Mongolia",
                  "showlegend": true,
                  "type": "scattergl",
                  "x": [
                    2,
                    2,
                    2,
                    2,
                    2,
                    2,
                    2,
                    2,
                    2,
                    2,
                    2,
                    2,
                    2,
                    2,
                    2,
                    2,
                    2,
                    2,
                    2,
                    2
                  ],
                  "xaxis": "x",
                  "y": [
                    10.141539139783239,
                    10.141539139783239,
                    10.141539139783239,
                    10.141539139783239,
                    10.141539139783239,
                    10.141539139783239,
                    10.141539139783239,
                    10.141539139783239,
                    10.141539139783239,
                    10.141539139783239,
                    10.141539139783239,
                    10.141539139783239,
                    10.141539139783239,
                    10.141539139783239,
                    10.141539139783239,
                    10.141539139783239,
                    10.141539139783239,
                    10.141539139783239,
                    10.141539139783239,
                    10.141539139783239
                  ],
                  "yaxis": "y"
                },
                {
                  "customdata": [
                    [
                      "Morocco",
                      118725279596
                    ],
                    [
                      "Morocco",
                      118725279596
                    ],
                    [
                      "Morocco",
                      118725279596
                    ],
                    [
                      "Morocco",
                      118725279596
                    ],
                    [
                      "Morocco",
                      118725279596
                    ],
                    [
                      "Morocco",
                      118725279596
                    ],
                    [
                      "Morocco",
                      118725279596
                    ],
                    [
                      "Morocco",
                      118725279596
                    ],
                    [
                      "Morocco",
                      118725279596
                    ],
                    [
                      "Morocco",
                      118725279596
                    ],
                    [
                      "Morocco",
                      118725279596
                    ],
                    [
                      "Morocco",
                      118725279596
                    ],
                    [
                      "Morocco",
                      118725279596
                    ],
                    [
                      "Morocco",
                      118725279596
                    ],
                    [
                      "Morocco",
                      118725279596
                    ],
                    [
                      "Morocco",
                      118725279596
                    ],
                    [
                      "Morocco",
                      118725279596
                    ],
                    [
                      "Morocco",
                      118725279596
                    ],
                    [
                      "Morocco",
                      118725279596
                    ],
                    [
                      "Morocco",
                      118725279596
                    ]
                  ],
                  "hovertemplate": "Country=%{customdata[0]}<br>Population Density=%{x}<br>Logarithmic GDP (base 10)=%{y}<br>GDP=%{customdata[1]}<extra></extra>",
                  "legendgroup": "Morocco",
                  "marker": {
                    "color": "#FECB52",
                    "opacity": 0.7,
                    "size": 10,
                    "symbol": "circle"
                  },
                  "mode": "markers",
                  "name": "Morocco",
                  "showlegend": true,
                  "type": "scattergl",
                  "x": [
                    83,
                    83,
                    83,
                    83,
                    83,
                    83,
                    83,
                    83,
                    83,
                    83,
                    83,
                    83,
                    83,
                    83,
                    83,
                    83,
                    83,
                    83,
                    83,
                    83
                  ],
                  "xaxis": "x",
                  "y": [
                    11.074543201011327,
                    11.074543201011327,
                    11.074543201011327,
                    11.074543201011327,
                    11.074543201011327,
                    11.074543201011327,
                    11.074543201011327,
                    11.074543201011327,
                    11.074543201011327,
                    11.074543201011327,
                    11.074543201011327,
                    11.074543201011327,
                    11.074543201011327,
                    11.074543201011327,
                    11.074543201011327,
                    11.074543201011327,
                    11.074543201011327,
                    11.074543201011327,
                    11.074543201011327,
                    11.074543201011327
                  ],
                  "yaxis": "y"
                },
                {
                  "customdata": [
                    [
                      "Mozambique",
                      14934159926
                    ],
                    [
                      "Mozambique",
                      14934159926
                    ],
                    [
                      "Mozambique",
                      14934159926
                    ],
                    [
                      "Mozambique",
                      14934159926
                    ],
                    [
                      "Mozambique",
                      14934159926
                    ],
                    [
                      "Mozambique",
                      14934159926
                    ],
                    [
                      "Mozambique",
                      14934159926
                    ],
                    [
                      "Mozambique",
                      14934159926
                    ],
                    [
                      "Mozambique",
                      14934159926
                    ],
                    [
                      "Mozambique",
                      14934159926
                    ],
                    [
                      "Mozambique",
                      14934159926
                    ],
                    [
                      "Mozambique",
                      14934159926
                    ],
                    [
                      "Mozambique",
                      14934159926
                    ],
                    [
                      "Mozambique",
                      14934159926
                    ],
                    [
                      "Mozambique",
                      14934159926
                    ],
                    [
                      "Mozambique",
                      14934159926
                    ],
                    [
                      "Mozambique",
                      14934159926
                    ],
                    [
                      "Mozambique",
                      14934159926
                    ],
                    [
                      "Mozambique",
                      14934159926
                    ],
                    [
                      "Mozambique",
                      14934159926
                    ]
                  ],
                  "hovertemplate": "Country=%{customdata[0]}<br>Population Density=%{x}<br>Logarithmic GDP (base 10)=%{y}<br>GDP=%{customdata[1]}<extra></extra>",
                  "legendgroup": "Mozambique",
                  "marker": {
                    "color": "#636efa",
                    "opacity": 0.7,
                    "size": 10,
                    "symbol": "circle"
                  },
                  "mode": "markers",
                  "name": "Mozambique",
                  "showlegend": true,
                  "type": "scattergl",
                  "x": [
                    40,
                    40,
                    40,
                    40,
                    40,
                    40,
                    40,
                    40,
                    40,
                    40,
                    40,
                    40,
                    40,
                    40,
                    40,
                    40,
                    40,
                    40,
                    40,
                    40
                  ],
                  "xaxis": "x",
                  "y": [
                    10.174180797762789,
                    10.174180797762789,
                    10.174180797762789,
                    10.174180797762789,
                    10.174180797762789,
                    10.174180797762789,
                    10.174180797762789,
                    10.174180797762789,
                    10.174180797762789,
                    10.174180797762789,
                    10.174180797762789,
                    10.174180797762789,
                    10.174180797762789,
                    10.174180797762789,
                    10.174180797762789,
                    10.174180797762789,
                    10.174180797762789,
                    10.174180797762789,
                    10.174180797762789,
                    10.174180797762789
                  ],
                  "yaxis": "y"
                },
                {
                  "customdata": [
                    [
                      "Myanmar",
                      76085852617
                    ],
                    [
                      "Myanmar",
                      76085852617
                    ],
                    [
                      "Myanmar",
                      76085852617
                    ],
                    [
                      "Myanmar",
                      76085852617
                    ],
                    [
                      "Myanmar",
                      76085852617
                    ],
                    [
                      "Myanmar",
                      76085852617
                    ],
                    [
                      "Myanmar",
                      76085852617
                    ],
                    [
                      "Myanmar",
                      76085852617
                    ],
                    [
                      "Myanmar",
                      76085852617
                    ],
                    [
                      "Myanmar",
                      76085852617
                    ],
                    [
                      "Myanmar",
                      76085852617
                    ],
                    [
                      "Myanmar",
                      76085852617
                    ],
                    [
                      "Myanmar",
                      76085852617
                    ],
                    [
                      "Myanmar",
                      76085852617
                    ],
                    [
                      "Myanmar",
                      76085852617
                    ],
                    [
                      "Myanmar",
                      76085852617
                    ],
                    [
                      "Myanmar",
                      76085852617
                    ],
                    [
                      "Myanmar",
                      76085852617
                    ],
                    [
                      "Myanmar",
                      76085852617
                    ],
                    [
                      "Myanmar",
                      76085852617
                    ]
                  ],
                  "hovertemplate": "Country=%{customdata[0]}<br>Population Density=%{x}<br>Logarithmic GDP (base 10)=%{y}<br>GDP=%{customdata[1]}<extra></extra>",
                  "legendgroup": "Myanmar",
                  "marker": {
                    "color": "#EF553B",
                    "opacity": 0.7,
                    "size": 10,
                    "symbol": "circle"
                  },
                  "mode": "markers",
                  "name": "Myanmar",
                  "showlegend": true,
                  "type": "scattergl",
                  "x": [
                    83,
                    83,
                    83,
                    83,
                    83,
                    83,
                    83,
                    83,
                    83,
                    83,
                    83,
                    83,
                    83,
                    83,
                    83,
                    83,
                    83,
                    83,
                    83,
                    83
                  ],
                  "xaxis": "x",
                  "y": [
                    10.88130391167788,
                    10.88130391167788,
                    10.88130391167788,
                    10.88130391167788,
                    10.88130391167788,
                    10.88130391167788,
                    10.88130391167788,
                    10.88130391167788,
                    10.88130391167788,
                    10.88130391167788,
                    10.88130391167788,
                    10.88130391167788,
                    10.88130391167788,
                    10.88130391167788,
                    10.88130391167788,
                    10.88130391167788,
                    10.88130391167788,
                    10.88130391167788,
                    10.88130391167788,
                    10.88130391167788
                  ],
                  "yaxis": "y"
                },
                {
                  "customdata": [
                    [
                      "Nepal",
                      30641380604
                    ],
                    [
                      "Nepal",
                      30641380604
                    ],
                    [
                      "Nepal",
                      30641380604
                    ],
                    [
                      "Nepal",
                      30641380604
                    ],
                    [
                      "Nepal",
                      30641380604
                    ],
                    [
                      "Nepal",
                      30641380604
                    ],
                    [
                      "Nepal",
                      30641380604
                    ],
                    [
                      "Nepal",
                      30641380604
                    ],
                    [
                      "Nepal",
                      30641380604
                    ],
                    [
                      "Nepal",
                      30641380604
                    ],
                    [
                      "Nepal",
                      30641380604
                    ],
                    [
                      "Nepal",
                      30641380604
                    ],
                    [
                      "Nepal",
                      30641380604
                    ],
                    [
                      "Nepal",
                      30641380604
                    ],
                    [
                      "Nepal",
                      30641380604
                    ],
                    [
                      "Nepal",
                      30641380604
                    ],
                    [
                      "Nepal",
                      30641380604
                    ],
                    [
                      "Nepal",
                      30641380604
                    ],
                    [
                      "Nepal",
                      30641380604
                    ],
                    [
                      "Nepal",
                      30641380604
                    ]
                  ],
                  "hovertemplate": "Country=%{customdata[0]}<br>Population Density=%{x}<br>Logarithmic GDP (base 10)=%{y}<br>GDP=%{customdata[1]}<extra></extra>",
                  "legendgroup": "Nepal",
                  "marker": {
                    "color": "#00cc96",
                    "opacity": 0.7,
                    "size": 10,
                    "symbol": "circle"
                  },
                  "mode": "markers",
                  "name": "Nepal",
                  "showlegend": true,
                  "type": "scattergl",
                  "x": [
                    203,
                    203,
                    203,
                    203,
                    203,
                    203,
                    203,
                    203,
                    203,
                    203,
                    203,
                    203,
                    203,
                    203,
                    203,
                    203,
                    203,
                    203,
                    203,
                    203
                  ],
                  "xaxis": "x",
                  "y": [
                    10.48630832934147,
                    10.48630832934147,
                    10.48630832934147,
                    10.48630832934147,
                    10.48630832934147,
                    10.48630832934147,
                    10.48630832934147,
                    10.48630832934147,
                    10.48630832934147,
                    10.48630832934147,
                    10.48630832934147,
                    10.48630832934147,
                    10.48630832934147,
                    10.48630832934147,
                    10.48630832934147,
                    10.48630832934147,
                    10.48630832934147,
                    10.48630832934147,
                    10.48630832934147,
                    10.48630832934147
                  ],
                  "yaxis": "y"
                },
                {
                  "customdata": [
                    [
                      "New Zealand",
                      206928765544
                    ],
                    [
                      "New Zealand",
                      206928765544
                    ],
                    [
                      "New Zealand",
                      206928765544
                    ],
                    [
                      "New Zealand",
                      206928765544
                    ],
                    [
                      "New Zealand",
                      206928765544
                    ],
                    [
                      "New Zealand",
                      206928765544
                    ],
                    [
                      "New Zealand",
                      206928765544
                    ],
                    [
                      "New Zealand",
                      206928765544
                    ],
                    [
                      "New Zealand",
                      206928765544
                    ],
                    [
                      "New Zealand",
                      206928765544
                    ],
                    [
                      "New Zealand",
                      206928765544
                    ],
                    [
                      "New Zealand",
                      206928765544
                    ],
                    [
                      "New Zealand",
                      206928765544
                    ],
                    [
                      "New Zealand",
                      206928765544
                    ],
                    [
                      "New Zealand",
                      206928765544
                    ],
                    [
                      "New Zealand",
                      206928765544
                    ],
                    [
                      "New Zealand",
                      206928765544
                    ],
                    [
                      "New Zealand",
                      206928765544
                    ],
                    [
                      "New Zealand",
                      206928765544
                    ],
                    [
                      "New Zealand",
                      206928765544
                    ]
                  ],
                  "hovertemplate": "Country=%{customdata[0]}<br>Population Density=%{x}<br>Logarithmic GDP (base 10)=%{y}<br>GDP=%{customdata[1]}<extra></extra>",
                  "legendgroup": "New Zealand",
                  "marker": {
                    "color": "#ab63fa",
                    "opacity": 0.7,
                    "size": 10,
                    "symbol": "circle"
                  },
                  "mode": "markers",
                  "name": "New Zealand",
                  "showlegend": true,
                  "type": "scattergl",
                  "x": [
                    18,
                    18,
                    18,
                    18,
                    18,
                    18,
                    18,
                    18,
                    18,
                    18,
                    18,
                    18,
                    18,
                    18,
                    18,
                    18,
                    18,
                    18,
                    18,
                    18
                  ],
                  "xaxis": "x",
                  "y": [
                    11.315820866928036,
                    11.315820866928036,
                    11.315820866928036,
                    11.315820866928036,
                    11.315820866928036,
                    11.315820866928036,
                    11.315820866928036,
                    11.315820866928036,
                    11.315820866928036,
                    11.315820866928036,
                    11.315820866928036,
                    11.315820866928036,
                    11.315820866928036,
                    11.315820866928036,
                    11.315820866928036,
                    11.315820866928036,
                    11.315820866928036,
                    11.315820866928036,
                    11.315820866928036,
                    11.315820866928036
                  ],
                  "yaxis": "y"
                },
                {
                  "customdata": [
                    [
                      "Nicaragua",
                      12520915291
                    ],
                    [
                      "Nicaragua",
                      12520915291
                    ],
                    [
                      "Nicaragua",
                      12520915291
                    ],
                    [
                      "Nicaragua",
                      12520915291
                    ],
                    [
                      "Nicaragua",
                      12520915291
                    ],
                    [
                      "Nicaragua",
                      12520915291
                    ],
                    [
                      "Nicaragua",
                      12520915291
                    ],
                    [
                      "Nicaragua",
                      12520915291
                    ],
                    [
                      "Nicaragua",
                      12520915291
                    ],
                    [
                      "Nicaragua",
                      12520915291
                    ],
                    [
                      "Nicaragua",
                      12520915291
                    ],
                    [
                      "Nicaragua",
                      12520915291
                    ],
                    [
                      "Nicaragua",
                      12520915291
                    ],
                    [
                      "Nicaragua",
                      12520915291
                    ],
                    [
                      "Nicaragua",
                      12520915291
                    ],
                    [
                      "Nicaragua",
                      12520915291
                    ],
                    [
                      "Nicaragua",
                      12520915291
                    ],
                    [
                      "Nicaragua",
                      12520915291
                    ],
                    [
                      "Nicaragua",
                      12520915291
                    ],
                    [
                      "Nicaragua",
                      12520915291
                    ]
                  ],
                  "hovertemplate": "Country=%{customdata[0]}<br>Population Density=%{x}<br>Logarithmic GDP (base 10)=%{y}<br>GDP=%{customdata[1]}<extra></extra>",
                  "legendgroup": "Nicaragua",
                  "marker": {
                    "color": "#FFA15A",
                    "opacity": 0.7,
                    "size": 10,
                    "symbol": "circle"
                  },
                  "mode": "markers",
                  "name": "Nicaragua",
                  "showlegend": true,
                  "type": "scattergl",
                  "x": [
                    55,
                    55,
                    55,
                    55,
                    55,
                    55,
                    55,
                    55,
                    55,
                    55,
                    55,
                    55,
                    55,
                    55,
                    55,
                    55,
                    55,
                    55,
                    55,
                    55
                  ],
                  "xaxis": "x",
                  "y": [
                    10.097636077380901,
                    10.097636077380901,
                    10.097636077380901,
                    10.097636077380901,
                    10.097636077380901,
                    10.097636077380901,
                    10.097636077380901,
                    10.097636077380901,
                    10.097636077380901,
                    10.097636077380901,
                    10.097636077380901,
                    10.097636077380901,
                    10.097636077380901,
                    10.097636077380901,
                    10.097636077380901,
                    10.097636077380901,
                    10.097636077380901,
                    10.097636077380901,
                    10.097636077380901,
                    10.097636077380901
                  ],
                  "yaxis": "y"
                },
                {
                  "customdata": [
                    [
                      "Niger",
                      12928145120
                    ],
                    [
                      "Niger",
                      12928145120
                    ],
                    [
                      "Niger",
                      12928145120
                    ],
                    [
                      "Niger",
                      12928145120
                    ],
                    [
                      "Niger",
                      12928145120
                    ],
                    [
                      "Niger",
                      12928145120
                    ],
                    [
                      "Niger",
                      12928145120
                    ],
                    [
                      "Niger",
                      12928145120
                    ],
                    [
                      "Niger",
                      12928145120
                    ],
                    [
                      "Niger",
                      12928145120
                    ],
                    [
                      "Niger",
                      12928145120
                    ],
                    [
                      "Niger",
                      12928145120
                    ],
                    [
                      "Niger",
                      12928145120
                    ],
                    [
                      "Niger",
                      12928145120
                    ],
                    [
                      "Niger",
                      12928145120
                    ],
                    [
                      "Niger",
                      12928145120
                    ],
                    [
                      "Niger",
                      12928145120
                    ],
                    [
                      "Niger",
                      12928145120
                    ],
                    [
                      "Niger",
                      12928145120
                    ],
                    [
                      "Niger",
                      12928145120
                    ]
                  ],
                  "hovertemplate": "Country=%{customdata[0]}<br>Population Density=%{x}<br>Logarithmic GDP (base 10)=%{y}<br>GDP=%{customdata[1]}<extra></extra>",
                  "legendgroup": "Niger",
                  "marker": {
                    "color": "#19d3f3",
                    "opacity": 0.7,
                    "size": 10,
                    "symbol": "circle"
                  },
                  "mode": "markers",
                  "name": "Niger",
                  "showlegend": true,
                  "type": "scattergl",
                  "x": [
                    19,
                    19,
                    19,
                    19,
                    19,
                    19,
                    19,
                    19,
                    19,
                    19,
                    19,
                    19,
                    19,
                    19,
                    19,
                    19,
                    19,
                    19,
                    19,
                    19
                  ],
                  "xaxis": "x",
                  "y": [
                    10.111536218466208,
                    10.111536218466208,
                    10.111536218466208,
                    10.111536218466208,
                    10.111536218466208,
                    10.111536218466208,
                    10.111536218466208,
                    10.111536218466208,
                    10.111536218466208,
                    10.111536218466208,
                    10.111536218466208,
                    10.111536218466208,
                    10.111536218466208,
                    10.111536218466208,
                    10.111536218466208,
                    10.111536218466208,
                    10.111536218466208,
                    10.111536218466208,
                    10.111536218466208,
                    10.111536218466208
                  ],
                  "yaxis": "y"
                },
                {
                  "customdata": [
                    [
                      "Nigeria",
                      448120428859
                    ],
                    [
                      "Nigeria",
                      448120428859
                    ],
                    [
                      "Nigeria",
                      448120428859
                    ],
                    [
                      "Nigeria",
                      448120428859
                    ],
                    [
                      "Nigeria",
                      448120428859
                    ],
                    [
                      "Nigeria",
                      448120428859
                    ],
                    [
                      "Nigeria",
                      448120428859
                    ],
                    [
                      "Nigeria",
                      448120428859
                    ],
                    [
                      "Nigeria",
                      448120428859
                    ],
                    [
                      "Nigeria",
                      448120428859
                    ],
                    [
                      "Nigeria",
                      448120428859
                    ],
                    [
                      "Nigeria",
                      448120428859
                    ],
                    [
                      "Nigeria",
                      448120428859
                    ],
                    [
                      "Nigeria",
                      448120428859
                    ],
                    [
                      "Nigeria",
                      448120428859
                    ],
                    [
                      "Nigeria",
                      448120428859
                    ],
                    [
                      "Nigeria",
                      448120428859
                    ],
                    [
                      "Nigeria",
                      448120428859
                    ],
                    [
                      "Nigeria",
                      448120428859
                    ],
                    [
                      "Nigeria",
                      448120428859
                    ]
                  ],
                  "hovertemplate": "Country=%{customdata[0]}<br>Population Density=%{x}<br>Logarithmic GDP (base 10)=%{y}<br>GDP=%{customdata[1]}<extra></extra>",
                  "legendgroup": "Nigeria",
                  "marker": {
                    "color": "#FF6692",
                    "opacity": 0.7,
                    "size": 10,
                    "symbol": "circle"
                  },
                  "mode": "markers",
                  "name": "Nigeria",
                  "showlegend": true,
                  "type": "scattergl",
                  "x": [
                    226,
                    226,
                    226,
                    226,
                    226,
                    226,
                    226,
                    226,
                    226,
                    226,
                    226,
                    226,
                    226,
                    226,
                    226,
                    226,
                    226,
                    226,
                    226,
                    226
                  ],
                  "xaxis": "x",
                  "y": [
                    11.651394742927774,
                    11.651394742927774,
                    11.651394742927774,
                    11.651394742927774,
                    11.651394742927774,
                    11.651394742927774,
                    11.651394742927774,
                    11.651394742927774,
                    11.651394742927774,
                    11.651394742927774,
                    11.651394742927774,
                    11.651394742927774,
                    11.651394742927774,
                    11.651394742927774,
                    11.651394742927774,
                    11.651394742927774,
                    11.651394742927774,
                    11.651394742927774,
                    11.651394742927774,
                    11.651394742927774
                  ],
                  "yaxis": "y"
                },
                {
                  "customdata": [
                    [
                      "Oman",
                      76983094928
                    ],
                    [
                      "Oman",
                      76983094928
                    ],
                    [
                      "Oman",
                      76983094928
                    ],
                    [
                      "Oman",
                      76983094928
                    ],
                    [
                      "Oman",
                      76983094928
                    ],
                    [
                      "Oman",
                      76983094928
                    ],
                    [
                      "Oman",
                      76983094928
                    ],
                    [
                      "Oman",
                      76983094928
                    ],
                    [
                      "Oman",
                      76983094928
                    ],
                    [
                      "Oman",
                      76983094928
                    ],
                    [
                      "Oman",
                      76983094928
                    ],
                    [
                      "Oman",
                      76983094928
                    ],
                    [
                      "Oman",
                      76983094928
                    ],
                    [
                      "Oman",
                      76983094928
                    ],
                    [
                      "Oman",
                      76983094928
                    ],
                    [
                      "Oman",
                      76983094928
                    ],
                    [
                      "Oman",
                      76983094928
                    ],
                    [
                      "Oman",
                      76983094928
                    ],
                    [
                      "Oman",
                      76983094928
                    ],
                    [
                      "Oman",
                      76983094928
                    ]
                  ],
                  "hovertemplate": "Country=%{customdata[0]}<br>Population Density=%{x}<br>Logarithmic GDP (base 10)=%{y}<br>GDP=%{customdata[1]}<extra></extra>",
                  "legendgroup": "Oman",
                  "marker": {
                    "color": "#B6E880",
                    "opacity": 0.7,
                    "size": 10,
                    "symbol": "circle"
                  },
                  "mode": "markers",
                  "name": "Oman",
                  "showlegend": true,
                  "type": "scattergl",
                  "x": [
                    16,
                    16,
                    16,
                    16,
                    16,
                    16,
                    16,
                    16,
                    16,
                    16,
                    16,
                    16,
                    16,
                    16,
                    16,
                    16,
                    16,
                    16,
                    16,
                    16
                  ],
                  "xaxis": "x",
                  "y": [
                    10.886395366918789,
                    10.886395366918789,
                    10.886395366918789,
                    10.886395366918789,
                    10.886395366918789,
                    10.886395366918789,
                    10.886395366918789,
                    10.886395366918789,
                    10.886395366918789,
                    10.886395366918789,
                    10.886395366918789,
                    10.886395366918789,
                    10.886395366918789,
                    10.886395366918789,
                    10.886395366918789,
                    10.886395366918789,
                    10.886395366918789,
                    10.886395366918789,
                    10.886395366918789,
                    10.886395366918789
                  ],
                  "yaxis": "y"
                },
                {
                  "customdata": [
                    [
                      "Pakistan",
                      304400000000
                    ],
                    [
                      "Pakistan",
                      304400000000
                    ],
                    [
                      "Pakistan",
                      304400000000
                    ],
                    [
                      "Pakistan",
                      304400000000
                    ],
                    [
                      "Pakistan",
                      304400000000
                    ],
                    [
                      "Pakistan",
                      304400000000
                    ],
                    [
                      "Pakistan",
                      304400000000
                    ],
                    [
                      "Pakistan",
                      304400000000
                    ],
                    [
                      "Pakistan",
                      304400000000
                    ],
                    [
                      "Pakistan",
                      304400000000
                    ],
                    [
                      "Pakistan",
                      304400000000
                    ],
                    [
                      "Pakistan",
                      304400000000
                    ],
                    [
                      "Pakistan",
                      304400000000
                    ],
                    [
                      "Pakistan",
                      304400000000
                    ],
                    [
                      "Pakistan",
                      304400000000
                    ],
                    [
                      "Pakistan",
                      304400000000
                    ],
                    [
                      "Pakistan",
                      304400000000
                    ],
                    [
                      "Pakistan",
                      304400000000
                    ],
                    [
                      "Pakistan",
                      304400000000
                    ],
                    [
                      "Pakistan",
                      304400000000
                    ]
                  ],
                  "hovertemplate": "Country=%{customdata[0]}<br>Population Density=%{x}<br>Logarithmic GDP (base 10)=%{y}<br>GDP=%{customdata[1]}<extra></extra>",
                  "legendgroup": "Pakistan",
                  "marker": {
                    "color": "#FF97FF",
                    "opacity": 0.7,
                    "size": 10,
                    "symbol": "circle"
                  },
                  "mode": "markers",
                  "name": "Pakistan",
                  "showlegend": true,
                  "type": "scattergl",
                  "x": [
                    287,
                    287,
                    287,
                    287,
                    287,
                    287,
                    287,
                    287,
                    287,
                    287,
                    287,
                    287,
                    287,
                    287,
                    287,
                    287,
                    287,
                    287,
                    287,
                    287
                  ],
                  "xaxis": "x",
                  "y": [
                    11.483444648098535,
                    11.483444648098535,
                    11.483444648098535,
                    11.483444648098535,
                    11.483444648098535,
                    11.483444648098535,
                    11.483444648098535,
                    11.483444648098535,
                    11.483444648098535,
                    11.483444648098535,
                    11.483444648098535,
                    11.483444648098535,
                    11.483444648098535,
                    11.483444648098535,
                    11.483444648098535,
                    11.483444648098535,
                    11.483444648098535,
                    11.483444648098535,
                    11.483444648098535,
                    11.483444648098535
                  ],
                  "yaxis": "y"
                },
                {
                  "customdata": [
                    [
                      "Papua New Guinea",
                      24969611435
                    ],
                    [
                      "Papua New Guinea",
                      24969611435
                    ],
                    [
                      "Papua New Guinea",
                      24969611435
                    ],
                    [
                      "Papua New Guinea",
                      24969611435
                    ],
                    [
                      "Papua New Guinea",
                      24969611435
                    ],
                    [
                      "Papua New Guinea",
                      24969611435
                    ],
                    [
                      "Papua New Guinea",
                      24969611435
                    ],
                    [
                      "Papua New Guinea",
                      24969611435
                    ],
                    [
                      "Papua New Guinea",
                      24969611435
                    ],
                    [
                      "Papua New Guinea",
                      24969611435
                    ],
                    [
                      "Papua New Guinea",
                      24969611435
                    ],
                    [
                      "Papua New Guinea",
                      24969611435
                    ],
                    [
                      "Papua New Guinea",
                      24969611435
                    ],
                    [
                      "Papua New Guinea",
                      24969611435
                    ],
                    [
                      "Papua New Guinea",
                      24969611435
                    ],
                    [
                      "Papua New Guinea",
                      24969611435
                    ],
                    [
                      "Papua New Guinea",
                      24969611435
                    ],
                    [
                      "Papua New Guinea",
                      24969611435
                    ],
                    [
                      "Papua New Guinea",
                      24969611435
                    ],
                    [
                      "Papua New Guinea",
                      24969611435
                    ]
                  ],
                  "hovertemplate": "Country=%{customdata[0]}<br>Population Density=%{x}<br>Logarithmic GDP (base 10)=%{y}<br>GDP=%{customdata[1]}<extra></extra>",
                  "legendgroup": "Papua New Guinea",
                  "marker": {
                    "color": "#FECB52",
                    "opacity": 0.7,
                    "size": 10,
                    "symbol": "circle"
                  },
                  "mode": "markers",
                  "name": "Papua New Guinea",
                  "showlegend": true,
                  "type": "scattergl",
                  "x": [
                    20,
                    20,
                    20,
                    20,
                    20,
                    20,
                    20,
                    20,
                    20,
                    20,
                    20,
                    20,
                    20,
                    20,
                    20,
                    20,
                    20,
                    20,
                    20,
                    20
                  ],
                  "xaxis": "x",
                  "y": [
                    10.39741178412354,
                    10.39741178412354,
                    10.39741178412354,
                    10.39741178412354,
                    10.39741178412354,
                    10.39741178412354,
                    10.39741178412354,
                    10.39741178412354,
                    10.39741178412354,
                    10.39741178412354,
                    10.39741178412354,
                    10.39741178412354,
                    10.39741178412354,
                    10.39741178412354,
                    10.39741178412354,
                    10.39741178412354,
                    10.39741178412354,
                    10.39741178412354,
                    10.39741178412354,
                    10.39741178412354
                  ],
                  "yaxis": "y"
                },
                {
                  "customdata": [
                    [
                      "Peru",
                      226848050820
                    ],
                    [
                      "Peru",
                      226848050820
                    ],
                    [
                      "Peru",
                      226848050820
                    ],
                    [
                      "Peru",
                      226848050820
                    ],
                    [
                      "Peru",
                      226848050820
                    ],
                    [
                      "Peru",
                      226848050820
                    ],
                    [
                      "Peru",
                      226848050820
                    ],
                    [
                      "Peru",
                      226848050820
                    ],
                    [
                      "Peru",
                      226848050820
                    ],
                    [
                      "Peru",
                      226848050820
                    ],
                    [
                      "Peru",
                      226848050820
                    ],
                    [
                      "Peru",
                      226848050820
                    ],
                    [
                      "Peru",
                      226848050820
                    ],
                    [
                      "Peru",
                      226848050820
                    ],
                    [
                      "Peru",
                      226848050820
                    ],
                    [
                      "Peru",
                      226848050820
                    ],
                    [
                      "Peru",
                      226848050820
                    ],
                    [
                      "Peru",
                      226848050820
                    ],
                    [
                      "Peru",
                      226848050820
                    ],
                    [
                      "Peru",
                      226848050820
                    ]
                  ],
                  "hovertemplate": "Country=%{customdata[0]}<br>Population Density=%{x}<br>Logarithmic GDP (base 10)=%{y}<br>GDP=%{customdata[1]}<extra></extra>",
                  "legendgroup": "Peru",
                  "marker": {
                    "color": "#636efa",
                    "opacity": 0.7,
                    "size": 10,
                    "symbol": "circle"
                  },
                  "mode": "markers",
                  "name": "Peru",
                  "showlegend": true,
                  "type": "scattergl",
                  "x": [
                    26,
                    26,
                    26,
                    26,
                    26,
                    26,
                    26,
                    26,
                    26,
                    26,
                    26,
                    26,
                    26,
                    26,
                    26,
                    26,
                    26,
                    26,
                    26,
                    26
                  ],
                  "xaxis": "x",
                  "y": [
                    11.35573505196547,
                    11.35573505196547,
                    11.35573505196547,
                    11.35573505196547,
                    11.35573505196547,
                    11.35573505196547,
                    11.35573505196547,
                    11.35573505196547,
                    11.35573505196547,
                    11.35573505196547,
                    11.35573505196547,
                    11.35573505196547,
                    11.35573505196547,
                    11.35573505196547,
                    11.35573505196547,
                    11.35573505196547,
                    11.35573505196547,
                    11.35573505196547,
                    11.35573505196547,
                    11.35573505196547
                  ],
                  "yaxis": "y"
                },
                {
                  "customdata": [
                    [
                      "Philippines",
                      376795508680
                    ],
                    [
                      "Philippines",
                      376795508680
                    ],
                    [
                      "Philippines",
                      376795508680
                    ],
                    [
                      "Philippines",
                      376795508680
                    ],
                    [
                      "Philippines",
                      376795508680
                    ],
                    [
                      "Philippines",
                      376795508680
                    ],
                    [
                      "Philippines",
                      376795508680
                    ],
                    [
                      "Philippines",
                      376795508680
                    ],
                    [
                      "Philippines",
                      376795508680
                    ],
                    [
                      "Philippines",
                      376795508680
                    ],
                    [
                      "Philippines",
                      376795508680
                    ],
                    [
                      "Philippines",
                      376795508680
                    ],
                    [
                      "Philippines",
                      376795508680
                    ],
                    [
                      "Philippines",
                      376795508680
                    ],
                    [
                      "Philippines",
                      376795508680
                    ],
                    [
                      "Philippines",
                      376795508680
                    ],
                    [
                      "Philippines",
                      376795508680
                    ],
                    [
                      "Philippines",
                      376795508680
                    ],
                    [
                      "Philippines",
                      376795508680
                    ],
                    [
                      "Philippines",
                      376795508680
                    ]
                  ],
                  "hovertemplate": "Country=%{customdata[0]}<br>Population Density=%{x}<br>Logarithmic GDP (base 10)=%{y}<br>GDP=%{customdata[1]}<extra></extra>",
                  "legendgroup": "Philippines",
                  "marker": {
                    "color": "#EF553B",
                    "opacity": 0.7,
                    "size": 10,
                    "symbol": "circle"
                  },
                  "mode": "markers",
                  "name": "Philippines",
                  "showlegend": true,
                  "type": "scattergl",
                  "x": [
                    368,
                    368,
                    368,
                    368,
                    368,
                    368,
                    368,
                    368,
                    368,
                    368,
                    368,
                    368,
                    368,
                    368,
                    368,
                    368,
                    368,
                    368,
                    368,
                    368
                  ],
                  "xaxis": "x",
                  "y": [
                    11.576105717456516,
                    11.576105717456516,
                    11.576105717456516,
                    11.576105717456516,
                    11.576105717456516,
                    11.576105717456516,
                    11.576105717456516,
                    11.576105717456516,
                    11.576105717456516,
                    11.576105717456516,
                    11.576105717456516,
                    11.576105717456516,
                    11.576105717456516,
                    11.576105717456516,
                    11.576105717456516,
                    11.576105717456516,
                    11.576105717456516,
                    11.576105717456516,
                    11.576105717456516,
                    11.576105717456516
                  ],
                  "yaxis": "y"
                },
                {
                  "customdata": [
                    [
                      "Poland",
                      592164400688
                    ],
                    [
                      "Poland",
                      592164400688
                    ],
                    [
                      "Poland",
                      592164400688
                    ],
                    [
                      "Poland",
                      592164400688
                    ],
                    [
                      "Poland",
                      592164400688
                    ],
                    [
                      "Poland",
                      592164400688
                    ],
                    [
                      "Poland",
                      592164400688
                    ],
                    [
                      "Poland",
                      592164400688
                    ],
                    [
                      "Poland",
                      592164400688
                    ],
                    [
                      "Poland",
                      592164400688
                    ],
                    [
                      "Poland",
                      592164400688
                    ],
                    [
                      "Poland",
                      592164400688
                    ],
                    [
                      "Poland",
                      592164400688
                    ],
                    [
                      "Poland",
                      592164400688
                    ],
                    [
                      "Poland",
                      592164400688
                    ],
                    [
                      "Poland",
                      592164400688
                    ],
                    [
                      "Poland",
                      592164400688
                    ],
                    [
                      "Poland",
                      592164400688
                    ],
                    [
                      "Poland",
                      592164400688
                    ],
                    [
                      "Poland",
                      592164400688
                    ]
                  ],
                  "hovertemplate": "Country=%{customdata[0]}<br>Population Density=%{x}<br>Logarithmic GDP (base 10)=%{y}<br>GDP=%{customdata[1]}<extra></extra>",
                  "legendgroup": "Poland",
                  "marker": {
                    "color": "#00cc96",
                    "opacity": 0.7,
                    "size": 10,
                    "symbol": "circle"
                  },
                  "mode": "markers",
                  "name": "Poland",
                  "showlegend": true,
                  "type": "scattergl",
                  "x": [
                    124,
                    124,
                    124,
                    124,
                    124,
                    124,
                    124,
                    124,
                    124,
                    124,
                    124,
                    124,
                    124,
                    124,
                    124,
                    124,
                    124,
                    124,
                    124,
                    124
                  ],
                  "xaxis": "x",
                  "y": [
                    11.77244229523586,
                    11.77244229523586,
                    11.77244229523586,
                    11.77244229523586,
                    11.77244229523586,
                    11.77244229523586,
                    11.77244229523586,
                    11.77244229523586,
                    11.77244229523586,
                    11.77244229523586,
                    11.77244229523586,
                    11.77244229523586,
                    11.77244229523586,
                    11.77244229523586,
                    11.77244229523586,
                    11.77244229523586,
                    11.77244229523586,
                    11.77244229523586,
                    11.77244229523586,
                    11.77244229523586
                  ],
                  "yaxis": "y"
                },
                {
                  "customdata": [
                    [
                      "Portugal",
                      237686075635
                    ],
                    [
                      "Portugal",
                      237686075635
                    ],
                    [
                      "Portugal",
                      237686075635
                    ],
                    [
                      "Portugal",
                      237686075635
                    ],
                    [
                      "Portugal",
                      237686075635
                    ],
                    [
                      "Portugal",
                      237686075635
                    ],
                    [
                      "Portugal",
                      237686075635
                    ],
                    [
                      "Portugal",
                      237686075635
                    ],
                    [
                      "Portugal",
                      237686075635
                    ],
                    [
                      "Portugal",
                      237686075635
                    ],
                    [
                      "Portugal",
                      237686075635
                    ],
                    [
                      "Portugal",
                      237686075635
                    ],
                    [
                      "Portugal",
                      237686075635
                    ],
                    [
                      "Portugal",
                      237686075635
                    ],
                    [
                      "Portugal",
                      237686075635
                    ],
                    [
                      "Portugal",
                      237686075635
                    ],
                    [
                      "Portugal",
                      237686075635
                    ],
                    [
                      "Portugal",
                      237686075635
                    ],
                    [
                      "Portugal",
                      237686075635
                    ],
                    [
                      "Portugal",
                      237686075635
                    ]
                  ],
                  "hovertemplate": "Country=%{customdata[0]}<br>Population Density=%{x}<br>Logarithmic GDP (base 10)=%{y}<br>GDP=%{customdata[1]}<extra></extra>",
                  "legendgroup": "Portugal",
                  "marker": {
                    "color": "#ab63fa",
                    "opacity": 0.7,
                    "size": 10,
                    "symbol": "circle"
                  },
                  "mode": "markers",
                  "name": "Portugal",
                  "showlegend": true,
                  "type": "scattergl",
                  "x": [
                    111,
                    111,
                    111,
                    111,
                    111,
                    111,
                    111,
                    111,
                    111,
                    111,
                    111,
                    111,
                    111,
                    111,
                    111,
                    111,
                    111,
                    111,
                    111,
                    111
                  ],
                  "xaxis": "x",
                  "y": [
                    11.37600374019678,
                    11.37600374019678,
                    11.37600374019678,
                    11.37600374019678,
                    11.37600374019678,
                    11.37600374019678,
                    11.37600374019678,
                    11.37600374019678,
                    11.37600374019678,
                    11.37600374019678,
                    11.37600374019678,
                    11.37600374019678,
                    11.37600374019678,
                    11.37600374019678,
                    11.37600374019678,
                    11.37600374019678,
                    11.37600374019678,
                    11.37600374019678,
                    11.37600374019678,
                    11.37600374019678
                  ],
                  "yaxis": "y"
                },
                {
                  "customdata": [
                    [
                      "Romania",
                      250077444017
                    ],
                    [
                      "Romania",
                      250077444017
                    ],
                    [
                      "Romania",
                      250077444017
                    ],
                    [
                      "Romania",
                      250077444017
                    ],
                    [
                      "Romania",
                      250077444017
                    ],
                    [
                      "Romania",
                      250077444017
                    ],
                    [
                      "Romania",
                      250077444017
                    ],
                    [
                      "Romania",
                      250077444017
                    ],
                    [
                      "Romania",
                      250077444017
                    ],
                    [
                      "Romania",
                      250077444017
                    ],
                    [
                      "Romania",
                      250077444017
                    ],
                    [
                      "Romania",
                      250077444017
                    ],
                    [
                      "Romania",
                      250077444017
                    ],
                    [
                      "Romania",
                      250077444017
                    ],
                    [
                      "Romania",
                      250077444017
                    ],
                    [
                      "Romania",
                      250077444017
                    ],
                    [
                      "Romania",
                      250077444017
                    ],
                    [
                      "Romania",
                      250077444017
                    ],
                    [
                      "Romania",
                      250077444017
                    ],
                    [
                      "Romania",
                      250077444017
                    ]
                  ],
                  "hovertemplate": "Country=%{customdata[0]}<br>Population Density=%{x}<br>Logarithmic GDP (base 10)=%{y}<br>GDP=%{customdata[1]}<extra></extra>",
                  "legendgroup": "Romania",
                  "marker": {
                    "color": "#FFA15A",
                    "opacity": 0.7,
                    "size": 10,
                    "symbol": "circle"
                  },
                  "mode": "markers",
                  "name": "Romania",
                  "showlegend": true,
                  "type": "scattergl",
                  "x": [
                    84,
                    84,
                    84,
                    84,
                    84,
                    84,
                    84,
                    84,
                    84,
                    84,
                    84,
                    84,
                    84,
                    84,
                    84,
                    84,
                    84,
                    84,
                    84,
                    84
                  ],
                  "xaxis": "x",
                  "y": [
                    11.398074521875586,
                    11.398074521875586,
                    11.398074521875586,
                    11.398074521875586,
                    11.398074521875586,
                    11.398074521875586,
                    11.398074521875586,
                    11.398074521875586,
                    11.398074521875586,
                    11.398074521875586,
                    11.398074521875586,
                    11.398074521875586,
                    11.398074521875586,
                    11.398074521875586,
                    11.398074521875586,
                    11.398074521875586,
                    11.398074521875586,
                    11.398074521875586,
                    11.398074521875586,
                    11.398074521875586
                  ],
                  "yaxis": "y"
                },
                {
                  "customdata": [
                    [
                      "Russia",
                      1699876578871
                    ],
                    [
                      "Russia",
                      1699876578871
                    ],
                    [
                      "Russia",
                      1699876578871
                    ],
                    [
                      "Russia",
                      1699876578871
                    ],
                    [
                      "Russia",
                      1699876578871
                    ],
                    [
                      "Russia",
                      1699876578871
                    ],
                    [
                      "Russia",
                      1699876578871
                    ],
                    [
                      "Russia",
                      1699876578871
                    ],
                    [
                      "Russia",
                      1699876578871
                    ],
                    [
                      "Russia",
                      1699876578871
                    ],
                    [
                      "Russia",
                      1699876578871
                    ],
                    [
                      "Russia",
                      1699876578871
                    ],
                    [
                      "Russia",
                      1699876578871
                    ],
                    [
                      "Russia",
                      1699876578871
                    ],
                    [
                      "Russia",
                      1699876578871
                    ],
                    [
                      "Russia",
                      1699876578871
                    ],
                    [
                      "Russia",
                      1699876578871
                    ],
                    [
                      "Russia",
                      1699876578871
                    ],
                    [
                      "Russia",
                      1699876578871
                    ],
                    [
                      "Russia",
                      1699876578871
                    ]
                  ],
                  "hovertemplate": "Country=%{customdata[0]}<br>Population Density=%{x}<br>Logarithmic GDP (base 10)=%{y}<br>GDP=%{customdata[1]}<extra></extra>",
                  "legendgroup": "Russia",
                  "marker": {
                    "color": "#19d3f3",
                    "opacity": 0.7,
                    "size": 10,
                    "symbol": "circle"
                  },
                  "mode": "markers",
                  "name": "Russia",
                  "showlegend": true,
                  "type": "scattergl",
                  "x": [
                    9,
                    9,
                    9,
                    9,
                    9,
                    9,
                    9,
                    9,
                    9,
                    9,
                    9,
                    9,
                    9,
                    9,
                    9,
                    9,
                    9,
                    9,
                    9,
                    9
                  ],
                  "xaxis": "x",
                  "y": [
                    12.230417390165858,
                    12.230417390165858,
                    12.230417390165858,
                    12.230417390165858,
                    12.230417390165858,
                    12.230417390165858,
                    12.230417390165858,
                    12.230417390165858,
                    12.230417390165858,
                    12.230417390165858,
                    12.230417390165858,
                    12.230417390165858,
                    12.230417390165858,
                    12.230417390165858,
                    12.230417390165858,
                    12.230417390165858,
                    12.230417390165858,
                    12.230417390165858,
                    12.230417390165858,
                    12.230417390165858
                  ],
                  "yaxis": "y"
                },
                {
                  "customdata": [
                    [
                      "Saudi Arabia",
                      792966838162
                    ],
                    [
                      "Saudi Arabia",
                      792966838162
                    ],
                    [
                      "Saudi Arabia",
                      792966838162
                    ],
                    [
                      "Saudi Arabia",
                      792966838162
                    ],
                    [
                      "Saudi Arabia",
                      792966838162
                    ],
                    [
                      "Saudi Arabia",
                      792966838162
                    ],
                    [
                      "Saudi Arabia",
                      792966838162
                    ],
                    [
                      "Saudi Arabia",
                      792966838162
                    ],
                    [
                      "Saudi Arabia",
                      792966838162
                    ],
                    [
                      "Saudi Arabia",
                      792966838162
                    ],
                    [
                      "Saudi Arabia",
                      792966838162
                    ],
                    [
                      "Saudi Arabia",
                      792966838162
                    ],
                    [
                      "Saudi Arabia",
                      792966838162
                    ],
                    [
                      "Saudi Arabia",
                      792966838162
                    ],
                    [
                      "Saudi Arabia",
                      792966838162
                    ],
                    [
                      "Saudi Arabia",
                      792966838162
                    ],
                    [
                      "Saudi Arabia",
                      792966838162
                    ],
                    [
                      "Saudi Arabia",
                      792966838162
                    ],
                    [
                      "Saudi Arabia",
                      792966838162
                    ],
                    [
                      "Saudi Arabia",
                      792966838162
                    ]
                  ],
                  "hovertemplate": "Country=%{customdata[0]}<br>Population Density=%{x}<br>Logarithmic GDP (base 10)=%{y}<br>GDP=%{customdata[1]}<extra></extra>",
                  "legendgroup": "Saudi Arabia",
                  "marker": {
                    "color": "#FF6692",
                    "opacity": 0.7,
                    "size": 10,
                    "symbol": "circle"
                  },
                  "mode": "markers",
                  "name": "Saudi Arabia",
                  "showlegend": true,
                  "type": "scattergl",
                  "x": [
                    16,
                    16,
                    16,
                    16,
                    16,
                    16,
                    16,
                    16,
                    16,
                    16,
                    16,
                    16,
                    16,
                    16,
                    16,
                    16,
                    16,
                    16,
                    16,
                    16
                  ],
                  "xaxis": "x",
                  "y": [
                    11.899255025521393,
                    11.899255025521393,
                    11.899255025521393,
                    11.899255025521393,
                    11.899255025521393,
                    11.899255025521393,
                    11.899255025521393,
                    11.899255025521393,
                    11.899255025521393,
                    11.899255025521393,
                    11.899255025521393,
                    11.899255025521393,
                    11.899255025521393,
                    11.899255025521393,
                    11.899255025521393,
                    11.899255025521393,
                    11.899255025521393,
                    11.899255025521393,
                    11.899255025521393,
                    11.899255025521393
                  ],
                  "yaxis": "y"
                },
                {
                  "customdata": [
                    [
                      "Senegal",
                      23578084052
                    ],
                    [
                      "Senegal",
                      23578084052
                    ],
                    [
                      "Senegal",
                      23578084052
                    ],
                    [
                      "Senegal",
                      23578084052
                    ],
                    [
                      "Senegal",
                      23578084052
                    ],
                    [
                      "Senegal",
                      23578084052
                    ],
                    [
                      "Senegal",
                      23578084052
                    ],
                    [
                      "Senegal",
                      23578084052
                    ],
                    [
                      "Senegal",
                      23578084052
                    ],
                    [
                      "Senegal",
                      23578084052
                    ],
                    [
                      "Senegal",
                      23578084052
                    ],
                    [
                      "Senegal",
                      23578084052
                    ],
                    [
                      "Senegal",
                      23578084052
                    ],
                    [
                      "Senegal",
                      23578084052
                    ],
                    [
                      "Senegal",
                      23578084052
                    ],
                    [
                      "Senegal",
                      23578084052
                    ],
                    [
                      "Senegal",
                      23578084052
                    ],
                    [
                      "Senegal",
                      23578084052
                    ],
                    [
                      "Senegal",
                      23578084052
                    ],
                    [
                      "Senegal",
                      23578084052
                    ]
                  ],
                  "hovertemplate": "Country=%{customdata[0]}<br>Population Density=%{x}<br>Logarithmic GDP (base 10)=%{y}<br>GDP=%{customdata[1]}<extra></extra>",
                  "legendgroup": "Senegal",
                  "marker": {
                    "color": "#B6E880",
                    "opacity": 0.7,
                    "size": 10,
                    "symbol": "circle"
                  },
                  "mode": "markers",
                  "name": "Senegal",
                  "showlegend": true,
                  "type": "scattergl",
                  "x": [
                    87,
                    87,
                    87,
                    87,
                    87,
                    87,
                    87,
                    87,
                    87,
                    87,
                    87,
                    87,
                    87,
                    87,
                    87,
                    87,
                    87,
                    87,
                    87,
                    87
                  ],
                  "xaxis": "x",
                  "y": [
                    10.37250851155421,
                    10.37250851155421,
                    10.37250851155421,
                    10.37250851155421,
                    10.37250851155421,
                    10.37250851155421,
                    10.37250851155421,
                    10.37250851155421,
                    10.37250851155421,
                    10.37250851155421,
                    10.37250851155421,
                    10.37250851155421,
                    10.37250851155421,
                    10.37250851155421,
                    10.37250851155421,
                    10.37250851155421,
                    10.37250851155421,
                    10.37250851155421,
                    10.37250851155421,
                    10.37250851155421
                  ],
                  "yaxis": "y"
                },
                {
                  "customdata": [
                    [
                      "Serbia",
                      51409167351
                    ],
                    [
                      "Serbia",
                      51409167351
                    ],
                    [
                      "Serbia",
                      51409167351
                    ],
                    [
                      "Serbia",
                      51409167351
                    ],
                    [
                      "Serbia",
                      51409167351
                    ],
                    [
                      "Serbia",
                      51409167351
                    ],
                    [
                      "Serbia",
                      51409167351
                    ],
                    [
                      "Serbia",
                      51409167351
                    ],
                    [
                      "Serbia",
                      51409167351
                    ],
                    [
                      "Serbia",
                      51409167351
                    ],
                    [
                      "Serbia",
                      51409167351
                    ],
                    [
                      "Serbia",
                      51409167351
                    ],
                    [
                      "Serbia",
                      51409167351
                    ],
                    [
                      "Serbia",
                      51409167351
                    ],
                    [
                      "Serbia",
                      51409167351
                    ],
                    [
                      "Serbia",
                      51409167351
                    ],
                    [
                      "Serbia",
                      51409167351
                    ],
                    [
                      "Serbia",
                      51409167351
                    ],
                    [
                      "Serbia",
                      51409167351
                    ],
                    [
                      "Serbia",
                      51409167351
                    ]
                  ],
                  "hovertemplate": "Country=%{customdata[0]}<br>Population Density=%{x}<br>Logarithmic GDP (base 10)=%{y}<br>GDP=%{customdata[1]}<extra></extra>",
                  "legendgroup": "Serbia",
                  "marker": {
                    "color": "#FF97FF",
                    "opacity": 0.7,
                    "size": 10,
                    "symbol": "circle"
                  },
                  "mode": "markers",
                  "name": "Serbia",
                  "showlegend": true,
                  "type": "scattergl",
                  "x": [
                    100,
                    100,
                    100,
                    100,
                    100,
                    100,
                    100,
                    100,
                    100,
                    100,
                    100,
                    100,
                    100,
                    100,
                    100,
                    100,
                    100,
                    100,
                    100,
                    100
                  ],
                  "xaxis": "x",
                  "y": [
                    10.711040569869864,
                    10.711040569869864,
                    10.711040569869864,
                    10.711040569869864,
                    10.711040569869864,
                    10.711040569869864,
                    10.711040569869864,
                    10.711040569869864,
                    10.711040569869864,
                    10.711040569869864,
                    10.711040569869864,
                    10.711040569869864,
                    10.711040569869864,
                    10.711040569869864,
                    10.711040569869864,
                    10.711040569869864,
                    10.711040569869864,
                    10.711040569869864,
                    10.711040569869864,
                    10.711040569869864
                  ],
                  "yaxis": "y"
                },
                {
                  "customdata": [
                    [
                      "Sierra Leone",
                      3941474311
                    ],
                    [
                      "Sierra Leone",
                      3941474311
                    ],
                    [
                      "Sierra Leone",
                      3941474311
                    ],
                    [
                      "Sierra Leone",
                      3941474311
                    ],
                    [
                      "Sierra Leone",
                      3941474311
                    ],
                    [
                      "Sierra Leone",
                      3941474311
                    ],
                    [
                      "Sierra Leone",
                      3941474311
                    ],
                    [
                      "Sierra Leone",
                      3941474311
                    ],
                    [
                      "Sierra Leone",
                      3941474311
                    ],
                    [
                      "Sierra Leone",
                      3941474311
                    ],
                    [
                      "Sierra Leone",
                      3941474311
                    ],
                    [
                      "Sierra Leone",
                      3941474311
                    ],
                    [
                      "Sierra Leone",
                      3941474311
                    ],
                    [
                      "Sierra Leone",
                      3941474311
                    ],
                    [
                      "Sierra Leone",
                      3941474311
                    ],
                    [
                      "Sierra Leone",
                      3941474311
                    ],
                    [
                      "Sierra Leone",
                      3941474311
                    ],
                    [
                      "Sierra Leone",
                      3941474311
                    ],
                    [
                      "Sierra Leone",
                      3941474311
                    ],
                    [
                      "Sierra Leone",
                      3941474311
                    ]
                  ],
                  "hovertemplate": "Country=%{customdata[0]}<br>Population Density=%{x}<br>Logarithmic GDP (base 10)=%{y}<br>GDP=%{customdata[1]}<extra></extra>",
                  "legendgroup": "Sierra Leone",
                  "marker": {
                    "color": "#FECB52",
                    "opacity": 0.7,
                    "size": 10,
                    "symbol": "circle"
                  },
                  "mode": "markers",
                  "name": "Sierra Leone",
                  "showlegend": true,
                  "type": "scattergl",
                  "x": [
                    111,
                    111,
                    111,
                    111,
                    111,
                    111,
                    111,
                    111,
                    111,
                    111,
                    111,
                    111,
                    111,
                    111,
                    111,
                    111,
                    111,
                    111,
                    111,
                    111
                  ],
                  "xaxis": "x",
                  "y": [
                    9.59565870034523,
                    9.59565870034523,
                    9.59565870034523,
                    9.59565870034523,
                    9.59565870034523,
                    9.59565870034523,
                    9.59565870034523,
                    9.59565870034523,
                    9.59565870034523,
                    9.59565870034523,
                    9.59565870034523,
                    9.59565870034523,
                    9.59565870034523,
                    9.59565870034523,
                    9.59565870034523,
                    9.59565870034523,
                    9.59565870034523,
                    9.59565870034523,
                    9.59565870034523,
                    9.59565870034523
                  ],
                  "yaxis": "y"
                },
                {
                  "customdata": [
                    [
                      "Slovakia",
                      105422304976
                    ],
                    [
                      "Slovakia",
                      105422304976
                    ],
                    [
                      "Slovakia",
                      105422304976
                    ],
                    [
                      "Slovakia",
                      105422304976
                    ],
                    [
                      "Slovakia",
                      105422304976
                    ],
                    [
                      "Slovakia",
                      105422304976
                    ],
                    [
                      "Slovakia",
                      105422304976
                    ],
                    [
                      "Slovakia",
                      105422304976
                    ],
                    [
                      "Slovakia",
                      105422304976
                    ],
                    [
                      "Slovakia",
                      105422304976
                    ],
                    [
                      "Slovakia",
                      105422304976
                    ],
                    [
                      "Slovakia",
                      105422304976
                    ],
                    [
                      "Slovakia",
                      105422304976
                    ],
                    [
                      "Slovakia",
                      105422304976
                    ],
                    [
                      "Slovakia",
                      105422304976
                    ],
                    [
                      "Slovakia",
                      105422304976
                    ],
                    [
                      "Slovakia",
                      105422304976
                    ],
                    [
                      "Slovakia",
                      105422304976
                    ],
                    [
                      "Slovakia",
                      105422304976
                    ],
                    [
                      "Slovakia",
                      105422304976
                    ]
                  ],
                  "hovertemplate": "Country=%{customdata[0]}<br>Population Density=%{x}<br>Logarithmic GDP (base 10)=%{y}<br>GDP=%{customdata[1]}<extra></extra>",
                  "legendgroup": "Slovakia",
                  "marker": {
                    "color": "#636efa",
                    "opacity": 0.7,
                    "size": 10,
                    "symbol": "circle"
                  },
                  "mode": "markers",
                  "name": "Slovakia",
                  "showlegend": true,
                  "type": "scattergl",
                  "x": [
                    114,
                    114,
                    114,
                    114,
                    114,
                    114,
                    114,
                    114,
                    114,
                    114,
                    114,
                    114,
                    114,
                    114,
                    114,
                    114,
                    114,
                    114,
                    114,
                    114
                  ],
                  "xaxis": "x",
                  "y": [
                    11.022932507490912,
                    11.022932507490912,
                    11.022932507490912,
                    11.022932507490912,
                    11.022932507490912,
                    11.022932507490912,
                    11.022932507490912,
                    11.022932507490912,
                    11.022932507490912,
                    11.022932507490912,
                    11.022932507490912,
                    11.022932507490912,
                    11.022932507490912,
                    11.022932507490912,
                    11.022932507490912,
                    11.022932507490912,
                    11.022932507490912,
                    11.022932507490912,
                    11.022932507490912,
                    11.022932507490912
                  ],
                  "yaxis": "y"
                },
                {
                  "customdata": [
                    [
                      "Slovenia",
                      53742159517
                    ],
                    [
                      "Slovenia",
                      53742159517
                    ],
                    [
                      "Slovenia",
                      53742159517
                    ],
                    [
                      "Slovenia",
                      53742159517
                    ],
                    [
                      "Slovenia",
                      53742159517
                    ],
                    [
                      "Slovenia",
                      53742159517
                    ],
                    [
                      "Slovenia",
                      53742159517
                    ],
                    [
                      "Slovenia",
                      53742159517
                    ],
                    [
                      "Slovenia",
                      53742159517
                    ],
                    [
                      "Slovenia",
                      53742159517
                    ],
                    [
                      "Slovenia",
                      53742159517
                    ],
                    [
                      "Slovenia",
                      53742159517
                    ],
                    [
                      "Slovenia",
                      53742159517
                    ],
                    [
                      "Slovenia",
                      53742159517
                    ],
                    [
                      "Slovenia",
                      53742159517
                    ],
                    [
                      "Slovenia",
                      53742159517
                    ],
                    [
                      "Slovenia",
                      53742159517
                    ],
                    [
                      "Slovenia",
                      53742159517
                    ],
                    [
                      "Slovenia",
                      53742159517
                    ],
                    [
                      "Slovenia",
                      53742159517
                    ]
                  ],
                  "hovertemplate": "Country=%{customdata[0]}<br>Population Density=%{x}<br>Logarithmic GDP (base 10)=%{y}<br>GDP=%{customdata[1]}<extra></extra>",
                  "legendgroup": "Slovenia",
                  "marker": {
                    "color": "#EF553B",
                    "opacity": 0.7,
                    "size": 10,
                    "symbol": "circle"
                  },
                  "mode": "markers",
                  "name": "Slovenia",
                  "showlegend": true,
                  "type": "scattergl",
                  "x": [
                    103,
                    103,
                    103,
                    103,
                    103,
                    103,
                    103,
                    103,
                    103,
                    103,
                    103,
                    103,
                    103,
                    103,
                    103,
                    103,
                    103,
                    103,
                    103,
                    103
                  ],
                  "xaxis": "x",
                  "y": [
                    10.73031511366904,
                    10.73031511366904,
                    10.73031511366904,
                    10.73031511366904,
                    10.73031511366904,
                    10.73031511366904,
                    10.73031511366904,
                    10.73031511366904,
                    10.73031511366904,
                    10.73031511366904,
                    10.73031511366904,
                    10.73031511366904,
                    10.73031511366904,
                    10.73031511366904,
                    10.73031511366904,
                    10.73031511366904,
                    10.73031511366904,
                    10.73031511366904,
                    10.73031511366904,
                    10.73031511366904
                  ],
                  "yaxis": "y"
                },
                {
                  "customdata": [
                    [
                      "South Korea",
                      2029000000000
                    ],
                    [
                      "South Korea",
                      2029000000000
                    ],
                    [
                      "South Korea",
                      2029000000000
                    ],
                    [
                      "South Korea",
                      2029000000000
                    ],
                    [
                      "South Korea",
                      2029000000000
                    ],
                    [
                      "South Korea",
                      2029000000000
                    ],
                    [
                      "South Korea",
                      2029000000000
                    ],
                    [
                      "South Korea",
                      2029000000000
                    ],
                    [
                      "South Korea",
                      2029000000000
                    ],
                    [
                      "South Korea",
                      2029000000000
                    ],
                    [
                      "South Korea",
                      2029000000000
                    ],
                    [
                      "South Korea",
                      2029000000000
                    ],
                    [
                      "South Korea",
                      2029000000000
                    ],
                    [
                      "South Korea",
                      2029000000000
                    ],
                    [
                      "South Korea",
                      2029000000000
                    ],
                    [
                      "South Korea",
                      2029000000000
                    ],
                    [
                      "South Korea",
                      2029000000000
                    ],
                    [
                      "South Korea",
                      2029000000000
                    ],
                    [
                      "South Korea",
                      2029000000000
                    ],
                    [
                      "South Korea",
                      2029000000000
                    ]
                  ],
                  "hovertemplate": "Country=%{customdata[0]}<br>Population Density=%{x}<br>Logarithmic GDP (base 10)=%{y}<br>GDP=%{customdata[1]}<extra></extra>",
                  "legendgroup": "South Korea",
                  "marker": {
                    "color": "#00cc96",
                    "opacity": 0.7,
                    "size": 10,
                    "symbol": "circle"
                  },
                  "mode": "markers",
                  "name": "South Korea",
                  "showlegend": true,
                  "type": "scattergl",
                  "x": [
                    527,
                    527,
                    527,
                    527,
                    527,
                    527,
                    527,
                    527,
                    527,
                    527,
                    527,
                    527,
                    527,
                    527,
                    527,
                    527,
                    527,
                    527,
                    527,
                    527
                  ],
                  "xaxis": "x",
                  "y": [
                    12.307282047033347,
                    12.307282047033347,
                    12.307282047033347,
                    12.307282047033347,
                    12.307282047033347,
                    12.307282047033347,
                    12.307282047033347,
                    12.307282047033347,
                    12.307282047033347,
                    12.307282047033347,
                    12.307282047033347,
                    12.307282047033347,
                    12.307282047033347,
                    12.307282047033347,
                    12.307282047033347,
                    12.307282047033347,
                    12.307282047033347,
                    12.307282047033347,
                    12.307282047033347,
                    12.307282047033347
                  ],
                  "yaxis": "y"
                },
                {
                  "customdata": [
                    [
                      "Spain",
                      1394116310769
                    ],
                    [
                      "Spain",
                      1394116310769
                    ],
                    [
                      "Spain",
                      1394116310769
                    ],
                    [
                      "Spain",
                      1394116310769
                    ],
                    [
                      "Spain",
                      1394116310769
                    ],
                    [
                      "Spain",
                      1394116310769
                    ],
                    [
                      "Spain",
                      1394116310769
                    ],
                    [
                      "Spain",
                      1394116310769
                    ],
                    [
                      "Spain",
                      1394116310769
                    ],
                    [
                      "Spain",
                      1394116310769
                    ],
                    [
                      "Spain",
                      1394116310769
                    ],
                    [
                      "Spain",
                      1394116310769
                    ],
                    [
                      "Spain",
                      1394116310769
                    ],
                    [
                      "Spain",
                      1394116310769
                    ],
                    [
                      "Spain",
                      1394116310769
                    ],
                    [
                      "Spain",
                      1394116310769
                    ],
                    [
                      "Spain",
                      1394116310769
                    ],
                    [
                      "Spain",
                      1394116310769
                    ],
                    [
                      "Spain",
                      1394116310769
                    ],
                    [
                      "Spain",
                      1394116310769
                    ]
                  ],
                  "hovertemplate": "Country=%{customdata[0]}<br>Population Density=%{x}<br>Logarithmic GDP (base 10)=%{y}<br>GDP=%{customdata[1]}<extra></extra>",
                  "legendgroup": "Spain",
                  "marker": {
                    "color": "#ab63fa",
                    "opacity": 0.7,
                    "size": 10,
                    "symbol": "circle"
                  },
                  "mode": "markers",
                  "name": "Spain",
                  "showlegend": true,
                  "type": "scattergl",
                  "x": [
                    94,
                    94,
                    94,
                    94,
                    94,
                    94,
                    94,
                    94,
                    94,
                    94,
                    94,
                    94,
                    94,
                    94,
                    94,
                    94,
                    94,
                    94,
                    94,
                    94
                  ],
                  "xaxis": "x",
                  "y": [
                    12.144299008351629,
                    12.144299008351629,
                    12.144299008351629,
                    12.144299008351629,
                    12.144299008351629,
                    12.144299008351629,
                    12.144299008351629,
                    12.144299008351629,
                    12.144299008351629,
                    12.144299008351629,
                    12.144299008351629,
                    12.144299008351629,
                    12.144299008351629,
                    12.144299008351629,
                    12.144299008351629,
                    12.144299008351629,
                    12.144299008351629,
                    12.144299008351629,
                    12.144299008351629,
                    12.144299008351629
                  ],
                  "yaxis": "y"
                },
                {
                  "customdata": [
                    [
                      "Sri Lanka",
                      84008783756
                    ],
                    [
                      "Sri Lanka",
                      84008783756
                    ],
                    [
                      "Sri Lanka",
                      84008783756
                    ],
                    [
                      "Sri Lanka",
                      84008783756
                    ],
                    [
                      "Sri Lanka",
                      84008783756
                    ],
                    [
                      "Sri Lanka",
                      84008783756
                    ],
                    [
                      "Sri Lanka",
                      84008783756
                    ],
                    [
                      "Sri Lanka",
                      84008783756
                    ],
                    [
                      "Sri Lanka",
                      84008783756
                    ],
                    [
                      "Sri Lanka",
                      84008783756
                    ],
                    [
                      "Sri Lanka",
                      84008783756
                    ],
                    [
                      "Sri Lanka",
                      84008783756
                    ],
                    [
                      "Sri Lanka",
                      84008783756
                    ],
                    [
                      "Sri Lanka",
                      84008783756
                    ],
                    [
                      "Sri Lanka",
                      84008783756
                    ],
                    [
                      "Sri Lanka",
                      84008783756
                    ],
                    [
                      "Sri Lanka",
                      84008783756
                    ],
                    [
                      "Sri Lanka",
                      84008783756
                    ],
                    [
                      "Sri Lanka",
                      84008783756
                    ],
                    [
                      "Sri Lanka",
                      84008783756
                    ]
                  ],
                  "hovertemplate": "Country=%{customdata[0]}<br>Population Density=%{x}<br>Logarithmic GDP (base 10)=%{y}<br>GDP=%{customdata[1]}<extra></extra>",
                  "legendgroup": "Sri Lanka",
                  "marker": {
                    "color": "#FFA15A",
                    "opacity": 0.7,
                    "size": 10,
                    "symbol": "circle"
                  },
                  "mode": "markers",
                  "name": "Sri Lanka",
                  "showlegend": true,
                  "type": "scattergl",
                  "x": [
                    341,
                    341,
                    341,
                    341,
                    341,
                    341,
                    341,
                    341,
                    341,
                    341,
                    341,
                    341,
                    341,
                    341,
                    341,
                    341,
                    341,
                    341,
                    341,
                    341
                  ],
                  "xaxis": "x",
                  "y": [
                    10.924324697220506,
                    10.924324697220506,
                    10.924324697220506,
                    10.924324697220506,
                    10.924324697220506,
                    10.924324697220506,
                    10.924324697220506,
                    10.924324697220506,
                    10.924324697220506,
                    10.924324697220506,
                    10.924324697220506,
                    10.924324697220506,
                    10.924324697220506,
                    10.924324697220506,
                    10.924324697220506,
                    10.924324697220506,
                    10.924324697220506,
                    10.924324697220506,
                    10.924324697220506,
                    10.924324697220506
                  ],
                  "yaxis": "y"
                },
                {
                  "customdata": [
                    [
                      "Sudan",
                      18902284476
                    ],
                    [
                      "Sudan",
                      18902284476
                    ],
                    [
                      "Sudan",
                      18902284476
                    ],
                    [
                      "Sudan",
                      18902284476
                    ],
                    [
                      "Sudan",
                      18902284476
                    ],
                    [
                      "Sudan",
                      18902284476
                    ],
                    [
                      "Sudan",
                      18902284476
                    ],
                    [
                      "Sudan",
                      18902284476
                    ],
                    [
                      "Sudan",
                      18902284476
                    ],
                    [
                      "Sudan",
                      18902284476
                    ],
                    [
                      "Sudan",
                      18902284476
                    ],
                    [
                      "Sudan",
                      18902284476
                    ],
                    [
                      "Sudan",
                      18902284476
                    ],
                    [
                      "Sudan",
                      18902284476
                    ],
                    [
                      "Sudan",
                      18902284476
                    ],
                    [
                      "Sudan",
                      18902284476
                    ],
                    [
                      "Sudan",
                      18902284476
                    ],
                    [
                      "Sudan",
                      18902284476
                    ],
                    [
                      "Sudan",
                      18902284476
                    ],
                    [
                      "Sudan",
                      18902284476
                    ]
                  ],
                  "hovertemplate": "Country=%{customdata[0]}<br>Population Density=%{x}<br>Logarithmic GDP (base 10)=%{y}<br>GDP=%{customdata[1]}<extra></extra>",
                  "legendgroup": "Sudan",
                  "marker": {
                    "color": "#19d3f3",
                    "opacity": 0.7,
                    "size": 10,
                    "symbol": "circle"
                  },
                  "mode": "markers",
                  "name": "Sudan",
                  "showlegend": true,
                  "type": "scattergl",
                  "x": [
                    25,
                    25,
                    25,
                    25,
                    25,
                    25,
                    25,
                    25,
                    25,
                    25,
                    25,
                    25,
                    25,
                    25,
                    25,
                    25,
                    25,
                    25,
                    25,
                    25
                  ],
                  "xaxis": "x",
                  "y": [
                    10.276514294933303,
                    10.276514294933303,
                    10.276514294933303,
                    10.276514294933303,
                    10.276514294933303,
                    10.276514294933303,
                    10.276514294933303,
                    10.276514294933303,
                    10.276514294933303,
                    10.276514294933303,
                    10.276514294933303,
                    10.276514294933303,
                    10.276514294933303,
                    10.276514294933303,
                    10.276514294933303,
                    10.276514294933303,
                    10.276514294933303,
                    10.276514294933303,
                    10.276514294933303,
                    10.276514294933303
                  ],
                  "yaxis": "y"
                },
                {
                  "customdata": [
                    [
                      "Syria",
                      40405006007
                    ],
                    [
                      "Syria",
                      40405006007
                    ],
                    [
                      "Syria",
                      40405006007
                    ],
                    [
                      "Syria",
                      40405006007
                    ],
                    [
                      "Syria",
                      40405006007
                    ],
                    [
                      "Syria",
                      40405006007
                    ],
                    [
                      "Syria",
                      40405006007
                    ],
                    [
                      "Syria",
                      40405006007
                    ],
                    [
                      "Syria",
                      40405006007
                    ],
                    [
                      "Syria",
                      40405006007
                    ],
                    [
                      "Syria",
                      40405006007
                    ],
                    [
                      "Syria",
                      40405006007
                    ],
                    [
                      "Syria",
                      40405006007
                    ],
                    [
                      "Syria",
                      40405006007
                    ],
                    [
                      "Syria",
                      40405006007
                    ],
                    [
                      "Syria",
                      40405006007
                    ],
                    [
                      "Syria",
                      40405006007
                    ],
                    [
                      "Syria",
                      40405006007
                    ],
                    [
                      "Syria",
                      40405006007
                    ],
                    [
                      "Syria",
                      40405006007
                    ]
                  ],
                  "hovertemplate": "Country=%{customdata[0]}<br>Population Density=%{x}<br>Logarithmic GDP (base 10)=%{y}<br>GDP=%{customdata[1]}<extra></extra>",
                  "legendgroup": "Syria",
                  "marker": {
                    "color": "#FF6692",
                    "opacity": 0.7,
                    "size": 10,
                    "symbol": "circle"
                  },
                  "mode": "markers",
                  "name": "Syria",
                  "showlegend": true,
                  "type": "scattergl",
                  "x": [
                    95,
                    95,
                    95,
                    95,
                    95,
                    95,
                    95,
                    95,
                    95,
                    95,
                    95,
                    95,
                    95,
                    95,
                    95,
                    95,
                    95,
                    95,
                    95,
                    95
                  ],
                  "xaxis": "x",
                  "y": [
                    10.60643517566831,
                    10.60643517566831,
                    10.60643517566831,
                    10.60643517566831,
                    10.60643517566831,
                    10.60643517566831,
                    10.60643517566831,
                    10.60643517566831,
                    10.60643517566831,
                    10.60643517566831,
                    10.60643517566831,
                    10.60643517566831,
                    10.60643517566831,
                    10.60643517566831,
                    10.60643517566831,
                    10.60643517566831,
                    10.60643517566831,
                    10.60643517566831,
                    10.60643517566831,
                    10.60643517566831
                  ],
                  "yaxis": "y"
                },
                {
                  "customdata": [
                    [
                      "Tajikistan",
                      8116626794
                    ],
                    [
                      "Tajikistan",
                      8116626794
                    ],
                    [
                      "Tajikistan",
                      8116626794
                    ],
                    [
                      "Tajikistan",
                      8116626794
                    ],
                    [
                      "Tajikistan",
                      8116626794
                    ],
                    [
                      "Tajikistan",
                      8116626794
                    ],
                    [
                      "Tajikistan",
                      8116626794
                    ],
                    [
                      "Tajikistan",
                      8116626794
                    ],
                    [
                      "Tajikistan",
                      8116626794
                    ],
                    [
                      "Tajikistan",
                      8116626794
                    ],
                    [
                      "Tajikistan",
                      8116626794
                    ],
                    [
                      "Tajikistan",
                      8116626794
                    ],
                    [
                      "Tajikistan",
                      8116626794
                    ],
                    [
                      "Tajikistan",
                      8116626794
                    ],
                    [
                      "Tajikistan",
                      8116626794
                    ],
                    [
                      "Tajikistan",
                      8116626794
                    ],
                    [
                      "Tajikistan",
                      8116626794
                    ],
                    [
                      "Tajikistan",
                      8116626794
                    ],
                    [
                      "Tajikistan",
                      8116626794
                    ],
                    [
                      "Tajikistan",
                      8116626794
                    ]
                  ],
                  "hovertemplate": "Country=%{customdata[0]}<br>Population Density=%{x}<br>Logarithmic GDP (base 10)=%{y}<br>GDP=%{customdata[1]}<extra></extra>",
                  "legendgroup": "Tajikistan",
                  "marker": {
                    "color": "#B6E880",
                    "opacity": 0.7,
                    "size": 10,
                    "symbol": "circle"
                  },
                  "mode": "markers",
                  "name": "Tajikistan",
                  "showlegend": true,
                  "type": "scattergl",
                  "x": [
                    68,
                    68,
                    68,
                    68,
                    68,
                    68,
                    68,
                    68,
                    68,
                    68,
                    68,
                    68,
                    68,
                    68,
                    68,
                    68,
                    68,
                    68,
                    68,
                    68
                  ],
                  "xaxis": "x",
                  "y": [
                    9.909375577378633,
                    9.909375577378633,
                    9.909375577378633,
                    9.909375577378633,
                    9.909375577378633,
                    9.909375577378633,
                    9.909375577378633,
                    9.909375577378633,
                    9.909375577378633,
                    9.909375577378633,
                    9.909375577378633,
                    9.909375577378633,
                    9.909375577378633,
                    9.909375577378633,
                    9.909375577378633,
                    9.909375577378633,
                    9.909375577378633,
                    9.909375577378633,
                    9.909375577378633,
                    9.909375577378633
                  ],
                  "yaxis": "y"
                },
                {
                  "customdata": [
                    [
                      "Tanzania",
                      63177068175
                    ],
                    [
                      "Tanzania",
                      63177068175
                    ],
                    [
                      "Tanzania",
                      63177068175
                    ],
                    [
                      "Tanzania",
                      63177068175
                    ],
                    [
                      "Tanzania",
                      63177068175
                    ],
                    [
                      "Tanzania",
                      63177068175
                    ],
                    [
                      "Tanzania",
                      63177068175
                    ],
                    [
                      "Tanzania",
                      63177068175
                    ],
                    [
                      "Tanzania",
                      63177068175
                    ],
                    [
                      "Tanzania",
                      63177068175
                    ],
                    [
                      "Tanzania",
                      63177068175
                    ],
                    [
                      "Tanzania",
                      63177068175
                    ],
                    [
                      "Tanzania",
                      63177068175
                    ],
                    [
                      "Tanzania",
                      63177068175
                    ],
                    [
                      "Tanzania",
                      63177068175
                    ],
                    [
                      "Tanzania",
                      63177068175
                    ],
                    [
                      "Tanzania",
                      63177068175
                    ],
                    [
                      "Tanzania",
                      63177068175
                    ],
                    [
                      "Tanzania",
                      63177068175
                    ],
                    [
                      "Tanzania",
                      63177068175
                    ]
                  ],
                  "hovertemplate": "Country=%{customdata[0]}<br>Population Density=%{x}<br>Logarithmic GDP (base 10)=%{y}<br>GDP=%{customdata[1]}<extra></extra>",
                  "legendgroup": "Tanzania",
                  "marker": {
                    "color": "#FF97FF",
                    "opacity": 0.7,
                    "size": 10,
                    "symbol": "circle"
                  },
                  "mode": "markers",
                  "name": "Tanzania",
                  "showlegend": true,
                  "type": "scattergl",
                  "x": [
                    67,
                    67,
                    67,
                    67,
                    67,
                    67,
                    67,
                    67,
                    67,
                    67,
                    67,
                    67,
                    67,
                    67,
                    67,
                    67,
                    67,
                    67,
                    67,
                    67
                  ],
                  "xaxis": "x",
                  "y": [
                    10.800559467960978,
                    10.800559467960978,
                    10.800559467960978,
                    10.800559467960978,
                    10.800559467960978,
                    10.800559467960978,
                    10.800559467960978,
                    10.800559467960978,
                    10.800559467960978,
                    10.800559467960978,
                    10.800559467960978,
                    10.800559467960978,
                    10.800559467960978,
                    10.800559467960978,
                    10.800559467960978,
                    10.800559467960978,
                    10.800559467960978,
                    10.800559467960978,
                    10.800559467960978,
                    10.800559467960978
                  ],
                  "yaxis": "y"
                },
                {
                  "customdata": [
                    [
                      "Thailand",
                      543649976166
                    ],
                    [
                      "Thailand",
                      543649976166
                    ],
                    [
                      "Thailand",
                      543649976166
                    ],
                    [
                      "Thailand",
                      543649976166
                    ],
                    [
                      "Thailand",
                      543649976166
                    ],
                    [
                      "Thailand",
                      543649976166
                    ],
                    [
                      "Thailand",
                      543649976166
                    ],
                    [
                      "Thailand",
                      543649976166
                    ],
                    [
                      "Thailand",
                      543649976166
                    ],
                    [
                      "Thailand",
                      543649976166
                    ],
                    [
                      "Thailand",
                      543649976166
                    ],
                    [
                      "Thailand",
                      543649976166
                    ],
                    [
                      "Thailand",
                      543649976166
                    ],
                    [
                      "Thailand",
                      543649976166
                    ],
                    [
                      "Thailand",
                      543649976166
                    ],
                    [
                      "Thailand",
                      543649976166
                    ],
                    [
                      "Thailand",
                      543649976166
                    ],
                    [
                      "Thailand",
                      543649976166
                    ],
                    [
                      "Thailand",
                      543649976166
                    ],
                    [
                      "Thailand",
                      543649976166
                    ]
                  ],
                  "hovertemplate": "Country=%{customdata[0]}<br>Population Density=%{x}<br>Logarithmic GDP (base 10)=%{y}<br>GDP=%{customdata[1]}<extra></extra>",
                  "legendgroup": "Thailand",
                  "marker": {
                    "color": "#FECB52",
                    "opacity": 0.7,
                    "size": 10,
                    "symbol": "circle"
                  },
                  "mode": "markers",
                  "name": "Thailand",
                  "showlegend": true,
                  "type": "scattergl",
                  "x": [
                    137,
                    137,
                    137,
                    137,
                    137,
                    137,
                    137,
                    137,
                    137,
                    137,
                    137,
                    137,
                    137,
                    137,
                    137,
                    137,
                    137,
                    137,
                    137,
                    137
                  ],
                  "xaxis": "x",
                  "y": [
                    11.73531937332808,
                    11.73531937332808,
                    11.73531937332808,
                    11.73531937332808,
                    11.73531937332808,
                    11.73531937332808,
                    11.73531937332808,
                    11.73531937332808,
                    11.73531937332808,
                    11.73531937332808,
                    11.73531937332808,
                    11.73531937332808,
                    11.73531937332808,
                    11.73531937332808,
                    11.73531937332808,
                    11.73531937332808,
                    11.73531937332808,
                    11.73531937332808,
                    11.73531937332808,
                    11.73531937332808
                  ],
                  "yaxis": "y"
                },
                {
                  "customdata": [
                    [
                      "The Gambia",
                      1763819048
                    ],
                    [
                      "The Gambia",
                      1763819048
                    ],
                    [
                      "The Gambia",
                      1763819048
                    ],
                    [
                      "The Gambia",
                      1763819048
                    ],
                    [
                      "The Gambia",
                      1763819048
                    ],
                    [
                      "The Gambia",
                      1763819048
                    ],
                    [
                      "The Gambia",
                      1763819048
                    ],
                    [
                      "The Gambia",
                      1763819048
                    ],
                    [
                      "The Gambia",
                      1763819048
                    ],
                    [
                      "The Gambia",
                      1763819048
                    ],
                    [
                      "The Gambia",
                      1763819048
                    ],
                    [
                      "The Gambia",
                      1763819048
                    ],
                    [
                      "The Gambia",
                      1763819048
                    ],
                    [
                      "The Gambia",
                      1763819048
                    ],
                    [
                      "The Gambia",
                      1763819048
                    ],
                    [
                      "The Gambia",
                      1763819048
                    ],
                    [
                      "The Gambia",
                      1763819048
                    ],
                    [
                      "The Gambia",
                      1763819048
                    ],
                    [
                      "The Gambia",
                      1763819048
                    ],
                    [
                      "The Gambia",
                      1763819048
                    ]
                  ],
                  "hovertemplate": "Country=%{customdata[0]}<br>Population Density=%{x}<br>Logarithmic GDP (base 10)=%{y}<br>GDP=%{customdata[1]}<extra></extra>",
                  "legendgroup": "The Gambia",
                  "marker": {
                    "color": "#636efa",
                    "opacity": 0.7,
                    "size": 10,
                    "symbol": "circle"
                  },
                  "mode": "markers",
                  "name": "The Gambia",
                  "showlegend": true,
                  "type": "scattergl",
                  "x": [
                    239,
                    239,
                    239,
                    239,
                    239,
                    239,
                    239,
                    239,
                    239,
                    239,
                    239,
                    239,
                    239,
                    239,
                    239,
                    239,
                    239,
                    239,
                    239,
                    239
                  ],
                  "xaxis": "x",
                  "y": [
                    9.246454028366049,
                    9.246454028366049,
                    9.246454028366049,
                    9.246454028366049,
                    9.246454028366049,
                    9.246454028366049,
                    9.246454028366049,
                    9.246454028366049,
                    9.246454028366049,
                    9.246454028366049,
                    9.246454028366049,
                    9.246454028366049,
                    9.246454028366049,
                    9.246454028366049,
                    9.246454028366049,
                    9.246454028366049,
                    9.246454028366049,
                    9.246454028366049,
                    9.246454028366049,
                    9.246454028366049
                  ],
                  "yaxis": "y"
                },
                {
                  "customdata": [
                    [
                      "Trinidad and Tobago",
                      24100202834
                    ],
                    [
                      "Trinidad and Tobago",
                      24100202834
                    ],
                    [
                      "Trinidad and Tobago",
                      24100202834
                    ],
                    [
                      "Trinidad and Tobago",
                      24100202834
                    ],
                    [
                      "Trinidad and Tobago",
                      24100202834
                    ],
                    [
                      "Trinidad and Tobago",
                      24100202834
                    ],
                    [
                      "Trinidad and Tobago",
                      24100202834
                    ],
                    [
                      "Trinidad and Tobago",
                      24100202834
                    ],
                    [
                      "Trinidad and Tobago",
                      24100202834
                    ],
                    [
                      "Trinidad and Tobago",
                      24100202834
                    ],
                    [
                      "Trinidad and Tobago",
                      24100202834
                    ],
                    [
                      "Trinidad and Tobago",
                      24100202834
                    ],
                    [
                      "Trinidad and Tobago",
                      24100202834
                    ],
                    [
                      "Trinidad and Tobago",
                      24100202834
                    ],
                    [
                      "Trinidad and Tobago",
                      24100202834
                    ],
                    [
                      "Trinidad and Tobago",
                      24100202834
                    ],
                    [
                      "Trinidad and Tobago",
                      24100202834
                    ],
                    [
                      "Trinidad and Tobago",
                      24100202834
                    ],
                    [
                      "Trinidad and Tobago",
                      24100202834
                    ],
                    [
                      "Trinidad and Tobago",
                      24100202834
                    ]
                  ],
                  "hovertemplate": "Country=%{customdata[0]}<br>Population Density=%{x}<br>Logarithmic GDP (base 10)=%{y}<br>GDP=%{customdata[1]}<extra></extra>",
                  "legendgroup": "Trinidad and Tobago",
                  "marker": {
                    "color": "#EF553B",
                    "opacity": 0.7,
                    "size": 10,
                    "symbol": "circle"
                  },
                  "mode": "markers",
                  "name": "Trinidad and Tobago",
                  "showlegend": true,
                  "type": "scattergl",
                  "x": [
                    273,
                    273,
                    273,
                    273,
                    273,
                    273,
                    273,
                    273,
                    273,
                    273,
                    273,
                    273,
                    273,
                    273,
                    273,
                    273,
                    273,
                    273,
                    273,
                    273
                  ],
                  "xaxis": "x",
                  "y": [
                    10.38202069773322,
                    10.38202069773322,
                    10.38202069773322,
                    10.38202069773322,
                    10.38202069773322,
                    10.38202069773322,
                    10.38202069773322,
                    10.38202069773322,
                    10.38202069773322,
                    10.38202069773322,
                    10.38202069773322,
                    10.38202069773322,
                    10.38202069773322,
                    10.38202069773322,
                    10.38202069773322,
                    10.38202069773322,
                    10.38202069773322,
                    10.38202069773322,
                    10.38202069773322,
                    10.38202069773322
                  ],
                  "yaxis": "y"
                },
                {
                  "customdata": [
                    [
                      "Tunisia",
                      38797709924
                    ],
                    [
                      "Tunisia",
                      38797709924
                    ],
                    [
                      "Tunisia",
                      38797709924
                    ],
                    [
                      "Tunisia",
                      38797709924
                    ],
                    [
                      "Tunisia",
                      38797709924
                    ],
                    [
                      "Tunisia",
                      38797709924
                    ],
                    [
                      "Tunisia",
                      38797709924
                    ],
                    [
                      "Tunisia",
                      38797709924
                    ],
                    [
                      "Tunisia",
                      38797709924
                    ],
                    [
                      "Tunisia",
                      38797709924
                    ],
                    [
                      "Tunisia",
                      38797709924
                    ],
                    [
                      "Tunisia",
                      38797709924
                    ],
                    [
                      "Tunisia",
                      38797709924
                    ],
                    [
                      "Tunisia",
                      38797709924
                    ],
                    [
                      "Tunisia",
                      38797709924
                    ],
                    [
                      "Tunisia",
                      38797709924
                    ],
                    [
                      "Tunisia",
                      38797709924
                    ],
                    [
                      "Tunisia",
                      38797709924
                    ],
                    [
                      "Tunisia",
                      38797709924
                    ],
                    [
                      "Tunisia",
                      38797709924
                    ]
                  ],
                  "hovertemplate": "Country=%{customdata[0]}<br>Population Density=%{x}<br>Logarithmic GDP (base 10)=%{y}<br>GDP=%{customdata[1]}<extra></extra>",
                  "legendgroup": "Tunisia",
                  "marker": {
                    "color": "#00cc96",
                    "opacity": 0.7,
                    "size": 10,
                    "symbol": "circle"
                  },
                  "mode": "markers",
                  "name": "Tunisia",
                  "showlegend": true,
                  "type": "scattergl",
                  "x": [
                    76,
                    76,
                    76,
                    76,
                    76,
                    76,
                    76,
                    76,
                    76,
                    76,
                    76,
                    76,
                    76,
                    76,
                    76,
                    76,
                    76,
                    76,
                    76,
                    76
                  ],
                  "xaxis": "x",
                  "y": [
                    10.588806091658071,
                    10.588806091658071,
                    10.588806091658071,
                    10.588806091658071,
                    10.588806091658071,
                    10.588806091658071,
                    10.588806091658071,
                    10.588806091658071,
                    10.588806091658071,
                    10.588806091658071,
                    10.588806091658071,
                    10.588806091658071,
                    10.588806091658071,
                    10.588806091658071,
                    10.588806091658071,
                    10.588806091658071,
                    10.588806091658071,
                    10.588806091658071,
                    10.588806091658071,
                    10.588806091658071
                  ],
                  "yaxis": "y"
                },
                {
                  "customdata": [
                    [
                      "Turkey",
                      754411708203
                    ],
                    [
                      "Turkey",
                      754411708203
                    ],
                    [
                      "Turkey",
                      754411708203
                    ],
                    [
                      "Turkey",
                      754411708203
                    ],
                    [
                      "Turkey",
                      754411708203
                    ],
                    [
                      "Turkey",
                      754411708203
                    ],
                    [
                      "Turkey",
                      754411708203
                    ],
                    [
                      "Turkey",
                      754411708203
                    ],
                    [
                      "Turkey",
                      754411708203
                    ],
                    [
                      "Turkey",
                      754411708203
                    ],
                    [
                      "Turkey",
                      754411708203
                    ],
                    [
                      "Turkey",
                      754411708203
                    ],
                    [
                      "Turkey",
                      754411708203
                    ],
                    [
                      "Turkey",
                      754411708203
                    ],
                    [
                      "Turkey",
                      754411708203
                    ],
                    [
                      "Turkey",
                      754411708203
                    ],
                    [
                      "Turkey",
                      754411708203
                    ],
                    [
                      "Turkey",
                      754411708203
                    ],
                    [
                      "Turkey",
                      754411708203
                    ],
                    [
                      "Turkey",
                      754411708203
                    ]
                  ],
                  "hovertemplate": "Country=%{customdata[0]}<br>Population Density=%{x}<br>Logarithmic GDP (base 10)=%{y}<br>GDP=%{customdata[1]}<extra></extra>",
                  "legendgroup": "Turkey",
                  "marker": {
                    "color": "#ab63fa",
                    "opacity": 0.7,
                    "size": 10,
                    "symbol": "circle"
                  },
                  "mode": "markers",
                  "name": "Turkey",
                  "showlegend": true,
                  "type": "scattergl",
                  "x": [
                    110,
                    110,
                    110,
                    110,
                    110,
                    110,
                    110,
                    110,
                    110,
                    110,
                    110,
                    110,
                    110,
                    110,
                    110,
                    110,
                    110,
                    110,
                    110,
                    110
                  ],
                  "xaxis": "x",
                  "y": [
                    11.877608419878396,
                    11.877608419878396,
                    11.877608419878396,
                    11.877608419878396,
                    11.877608419878396,
                    11.877608419878396,
                    11.877608419878396,
                    11.877608419878396,
                    11.877608419878396,
                    11.877608419878396,
                    11.877608419878396,
                    11.877608419878396,
                    11.877608419878396,
                    11.877608419878396,
                    11.877608419878396,
                    11.877608419878396,
                    11.877608419878396,
                    11.877608419878396,
                    11.877608419878396,
                    11.877608419878396
                  ],
                  "yaxis": "y"
                },
                {
                  "customdata": [
                    [
                      "Uganda",
                      34387229486
                    ],
                    [
                      "Uganda",
                      34387229486
                    ],
                    [
                      "Uganda",
                      34387229486
                    ],
                    [
                      "Uganda",
                      34387229486
                    ],
                    [
                      "Uganda",
                      34387229486
                    ],
                    [
                      "Uganda",
                      34387229486
                    ],
                    [
                      "Uganda",
                      34387229486
                    ],
                    [
                      "Uganda",
                      34387229486
                    ],
                    [
                      "Uganda",
                      34387229486
                    ],
                    [
                      "Uganda",
                      34387229486
                    ],
                    [
                      "Uganda",
                      34387229486
                    ],
                    [
                      "Uganda",
                      34387229486
                    ],
                    [
                      "Uganda",
                      34387229486
                    ],
                    [
                      "Uganda",
                      34387229486
                    ],
                    [
                      "Uganda",
                      34387229486
                    ],
                    [
                      "Uganda",
                      34387229486
                    ],
                    [
                      "Uganda",
                      34387229486
                    ],
                    [
                      "Uganda",
                      34387229486
                    ],
                    [
                      "Uganda",
                      34387229486
                    ],
                    [
                      "Uganda",
                      34387229486
                    ]
                  ],
                  "hovertemplate": "Country=%{customdata[0]}<br>Population Density=%{x}<br>Logarithmic GDP (base 10)=%{y}<br>GDP=%{customdata[1]}<extra></extra>",
                  "legendgroup": "Uganda",
                  "marker": {
                    "color": "#FFA15A",
                    "opacity": 0.7,
                    "size": 10,
                    "symbol": "circle"
                  },
                  "mode": "markers",
                  "name": "Uganda",
                  "showlegend": true,
                  "type": "scattergl",
                  "x": [
                    229,
                    229,
                    229,
                    229,
                    229,
                    229,
                    229,
                    229,
                    229,
                    229,
                    229,
                    229,
                    229,
                    229,
                    229,
                    229,
                    229,
                    229,
                    229,
                    229
                  ],
                  "xaxis": "x",
                  "y": [
                    10.536397186947006,
                    10.536397186947006,
                    10.536397186947006,
                    10.536397186947006,
                    10.536397186947006,
                    10.536397186947006,
                    10.536397186947006,
                    10.536397186947006,
                    10.536397186947006,
                    10.536397186947006,
                    10.536397186947006,
                    10.536397186947006,
                    10.536397186947006,
                    10.536397186947006,
                    10.536397186947006,
                    10.536397186947006,
                    10.536397186947006,
                    10.536397186947006,
                    10.536397186947006,
                    10.536397186947006
                  ],
                  "yaxis": "y"
                },
                {
                  "customdata": [
                    [
                      "Ukraine",
                      153781069118
                    ],
                    [
                      "Ukraine",
                      153781069118
                    ],
                    [
                      "Ukraine",
                      153781069118
                    ],
                    [
                      "Ukraine",
                      153781069118
                    ],
                    [
                      "Ukraine",
                      153781069118
                    ],
                    [
                      "Ukraine",
                      153781069118
                    ],
                    [
                      "Ukraine",
                      153781069118
                    ],
                    [
                      "Ukraine",
                      153781069118
                    ],
                    [
                      "Ukraine",
                      153781069118
                    ],
                    [
                      "Ukraine",
                      153781069118
                    ],
                    [
                      "Ukraine",
                      153781069118
                    ],
                    [
                      "Ukraine",
                      153781069118
                    ],
                    [
                      "Ukraine",
                      153781069118
                    ],
                    [
                      "Ukraine",
                      153781069118
                    ],
                    [
                      "Ukraine",
                      153781069118
                    ],
                    [
                      "Ukraine",
                      153781069118
                    ],
                    [
                      "Ukraine",
                      153781069118
                    ],
                    [
                      "Ukraine",
                      153781069118
                    ],
                    [
                      "Ukraine",
                      153781069118
                    ],
                    [
                      "Ukraine",
                      153781069118
                    ]
                  ],
                  "hovertemplate": "Country=%{customdata[0]}<br>Population Density=%{x}<br>Logarithmic GDP (base 10)=%{y}<br>GDP=%{customdata[1]}<extra></extra>",
                  "legendgroup": "Ukraine",
                  "marker": {
                    "color": "#19d3f3",
                    "opacity": 0.7,
                    "size": 10,
                    "symbol": "circle"
                  },
                  "mode": "markers",
                  "name": "Ukraine",
                  "showlegend": true,
                  "type": "scattergl",
                  "x": [
                    75,
                    75,
                    75,
                    75,
                    75,
                    75,
                    75,
                    75,
                    75,
                    75,
                    75,
                    75,
                    75,
                    75,
                    75,
                    75,
                    75,
                    75,
                    75,
                    75
                  ],
                  "xaxis": "x",
                  "y": [
                    11.186902875884014,
                    11.186902875884014,
                    11.186902875884014,
                    11.186902875884014,
                    11.186902875884014,
                    11.186902875884014,
                    11.186902875884014,
                    11.186902875884014,
                    11.186902875884014,
                    11.186902875884014,
                    11.186902875884014,
                    11.186902875884014,
                    11.186902875884014,
                    11.186902875884014,
                    11.186902875884014,
                    11.186902875884014,
                    11.186902875884014,
                    11.186902875884014,
                    11.186902875884014,
                    11.186902875884014
                  ],
                  "yaxis": "y"
                },
                {
                  "customdata": [
                    [
                      "United Kingdom",
                      2827113184696
                    ],
                    [
                      "United Kingdom",
                      2827113184696
                    ],
                    [
                      "United Kingdom",
                      2827113184696
                    ],
                    [
                      "United Kingdom",
                      2827113184696
                    ],
                    [
                      "United Kingdom",
                      2827113184696
                    ],
                    [
                      "United Kingdom",
                      2827113184696
                    ],
                    [
                      "United Kingdom",
                      2827113184696
                    ],
                    [
                      "United Kingdom",
                      2827113184696
                    ],
                    [
                      "United Kingdom",
                      2827113184696
                    ],
                    [
                      "United Kingdom",
                      2827113184696
                    ],
                    [
                      "United Kingdom",
                      2827113184696
                    ],
                    [
                      "United Kingdom",
                      2827113184696
                    ],
                    [
                      "United Kingdom",
                      2827113184696
                    ],
                    [
                      "United Kingdom",
                      2827113184696
                    ],
                    [
                      "United Kingdom",
                      2827113184696
                    ],
                    [
                      "United Kingdom",
                      2827113184696
                    ],
                    [
                      "United Kingdom",
                      2827113184696
                    ],
                    [
                      "United Kingdom",
                      2827113184696
                    ],
                    [
                      "United Kingdom",
                      2827113184696
                    ],
                    [
                      "United Kingdom",
                      2827113184696
                    ]
                  ],
                  "hovertemplate": "Country=%{customdata[0]}<br>Population Density=%{x}<br>Logarithmic GDP (base 10)=%{y}<br>GDP=%{customdata[1]}<extra></extra>",
                  "legendgroup": "United Kingdom",
                  "marker": {
                    "color": "#FF6692",
                    "opacity": 0.7,
                    "size": 10,
                    "symbol": "circle"
                  },
                  "mode": "markers",
                  "name": "United Kingdom",
                  "showlegend": true,
                  "type": "scattergl",
                  "x": [
                    281,
                    281,
                    281,
                    281,
                    281,
                    281,
                    281,
                    281,
                    281,
                    281,
                    281,
                    281,
                    281,
                    281,
                    281,
                    281,
                    281,
                    281,
                    281,
                    281
                  ],
                  "xaxis": "x",
                  "y": [
                    12.451343196004522,
                    12.451343196004522,
                    12.451343196004522,
                    12.451343196004522,
                    12.451343196004522,
                    12.451343196004522,
                    12.451343196004522,
                    12.451343196004522,
                    12.451343196004522,
                    12.451343196004522,
                    12.451343196004522,
                    12.451343196004522,
                    12.451343196004522,
                    12.451343196004522,
                    12.451343196004522,
                    12.451343196004522,
                    12.451343196004522,
                    12.451343196004522,
                    12.451343196004522,
                    12.451343196004522
                  ],
                  "yaxis": "y"
                },
                {
                  "customdata": [
                    [
                      "Uruguay",
                      56045912952
                    ],
                    [
                      "Uruguay",
                      56045912952
                    ],
                    [
                      "Uruguay",
                      56045912952
                    ],
                    [
                      "Uruguay",
                      56045912952
                    ],
                    [
                      "Uruguay",
                      56045912952
                    ],
                    [
                      "Uruguay",
                      56045912952
                    ],
                    [
                      "Uruguay",
                      56045912952
                    ],
                    [
                      "Uruguay",
                      56045912952
                    ],
                    [
                      "Uruguay",
                      56045912952
                    ],
                    [
                      "Uruguay",
                      56045912952
                    ],
                    [
                      "Uruguay",
                      56045912952
                    ],
                    [
                      "Uruguay",
                      56045912952
                    ],
                    [
                      "Uruguay",
                      56045912952
                    ],
                    [
                      "Uruguay",
                      56045912952
                    ],
                    [
                      "Uruguay",
                      56045912952
                    ],
                    [
                      "Uruguay",
                      56045912952
                    ],
                    [
                      "Uruguay",
                      56045912952
                    ],
                    [
                      "Uruguay",
                      56045912952
                    ],
                    [
                      "Uruguay",
                      56045912952
                    ],
                    [
                      "Uruguay",
                      56045912952
                    ]
                  ],
                  "hovertemplate": "Country=%{customdata[0]}<br>Population Density=%{x}<br>Logarithmic GDP (base 10)=%{y}<br>GDP=%{customdata[1]}<extra></extra>",
                  "legendgroup": "Uruguay",
                  "marker": {
                    "color": "#B6E880",
                    "opacity": 0.7,
                    "size": 10,
                    "symbol": "circle"
                  },
                  "mode": "markers",
                  "name": "Uruguay",
                  "showlegend": true,
                  "type": "scattergl",
                  "x": [
                    20,
                    20,
                    20,
                    20,
                    20,
                    20,
                    20,
                    20,
                    20,
                    20,
                    20,
                    20,
                    20,
                    20,
                    20,
                    20,
                    20,
                    20,
                    20,
                    20
                  ],
                  "xaxis": "x",
                  "y": [
                    10.748543947937044,
                    10.748543947937044,
                    10.748543947937044,
                    10.748543947937044,
                    10.748543947937044,
                    10.748543947937044,
                    10.748543947937044,
                    10.748543947937044,
                    10.748543947937044,
                    10.748543947937044,
                    10.748543947937044,
                    10.748543947937044,
                    10.748543947937044,
                    10.748543947937044,
                    10.748543947937044,
                    10.748543947937044,
                    10.748543947937044,
                    10.748543947937044,
                    10.748543947937044,
                    10.748543947937044
                  ],
                  "yaxis": "y"
                },
                {
                  "customdata": [
                    [
                      "Vietnam",
                      261921244843
                    ],
                    [
                      "Vietnam",
                      261921244843
                    ],
                    [
                      "Vietnam",
                      261921244843
                    ],
                    [
                      "Vietnam",
                      261921244843
                    ],
                    [
                      "Vietnam",
                      261921244843
                    ],
                    [
                      "Vietnam",
                      261921244843
                    ],
                    [
                      "Vietnam",
                      261921244843
                    ],
                    [
                      "Vietnam",
                      261921244843
                    ],
                    [
                      "Vietnam",
                      261921244843
                    ],
                    [
                      "Vietnam",
                      261921244843
                    ],
                    [
                      "Vietnam",
                      261921244843
                    ],
                    [
                      "Vietnam",
                      261921244843
                    ],
                    [
                      "Vietnam",
                      261921244843
                    ],
                    [
                      "Vietnam",
                      261921244843
                    ],
                    [
                      "Vietnam",
                      261921244843
                    ],
                    [
                      "Vietnam",
                      261921244843
                    ],
                    [
                      "Vietnam",
                      261921244843
                    ],
                    [
                      "Vietnam",
                      261921244843
                    ],
                    [
                      "Vietnam",
                      261921244843
                    ],
                    [
                      "Vietnam",
                      261921244843
                    ]
                  ],
                  "hovertemplate": "Country=%{customdata[0]}<br>Population Density=%{x}<br>Logarithmic GDP (base 10)=%{y}<br>GDP=%{customdata[1]}<extra></extra>",
                  "legendgroup": "Vietnam",
                  "marker": {
                    "color": "#FF97FF",
                    "opacity": 0.7,
                    "size": 10,
                    "symbol": "circle"
                  },
                  "mode": "markers",
                  "name": "Vietnam",
                  "showlegend": true,
                  "type": "scattergl",
                  "x": [
                    314,
                    314,
                    314,
                    314,
                    314,
                    314,
                    314,
                    314,
                    314,
                    314,
                    314,
                    314,
                    314,
                    314,
                    314,
                    314,
                    314,
                    314,
                    314,
                    314
                  ],
                  "xaxis": "x",
                  "y": [
                    11.41817072616057,
                    11.41817072616057,
                    11.41817072616057,
                    11.41817072616057,
                    11.41817072616057,
                    11.41817072616057,
                    11.41817072616057,
                    11.41817072616057,
                    11.41817072616057,
                    11.41817072616057,
                    11.41817072616057,
                    11.41817072616057,
                    11.41817072616057,
                    11.41817072616057,
                    11.41817072616057,
                    11.41817072616057,
                    11.41817072616057,
                    11.41817072616057,
                    11.41817072616057,
                    11.41817072616057
                  ],
                  "yaxis": "y"
                },
                {
                  "customdata": [
                    [
                      "Zambia",
                      23064722446
                    ],
                    [
                      "Zambia",
                      23064722446
                    ],
                    [
                      "Zambia",
                      23064722446
                    ],
                    [
                      "Zambia",
                      23064722446
                    ],
                    [
                      "Zambia",
                      23064722446
                    ],
                    [
                      "Zambia",
                      23064722446
                    ],
                    [
                      "Zambia",
                      23064722446
                    ],
                    [
                      "Zambia",
                      23064722446
                    ],
                    [
                      "Zambia",
                      23064722446
                    ],
                    [
                      "Zambia",
                      23064722446
                    ],
                    [
                      "Zambia",
                      23064722446
                    ],
                    [
                      "Zambia",
                      23064722446
                    ],
                    [
                      "Zambia",
                      23064722446
                    ],
                    [
                      "Zambia",
                      23064722446
                    ],
                    [
                      "Zambia",
                      23064722446
                    ],
                    [
                      "Zambia",
                      23064722446
                    ],
                    [
                      "Zambia",
                      23064722446
                    ],
                    [
                      "Zambia",
                      23064722446
                    ],
                    [
                      "Zambia",
                      23064722446
                    ],
                    [
                      "Zambia",
                      23064722446
                    ]
                  ],
                  "hovertemplate": "Country=%{customdata[0]}<br>Population Density=%{x}<br>Logarithmic GDP (base 10)=%{y}<br>GDP=%{customdata[1]}<extra></extra>",
                  "legendgroup": "Zambia",
                  "marker": {
                    "color": "#FECB52",
                    "opacity": 0.7,
                    "size": 10,
                    "symbol": "circle"
                  },
                  "mode": "markers",
                  "name": "Zambia",
                  "showlegend": true,
                  "type": "scattergl",
                  "x": [
                    25,
                    25,
                    25,
                    25,
                    25,
                    25,
                    25,
                    25,
                    25,
                    25,
                    25,
                    25,
                    25,
                    25,
                    25,
                    25,
                    25,
                    25,
                    25,
                    25
                  ],
                  "xaxis": "x",
                  "y": [
                    10.36294823280529,
                    10.36294823280529,
                    10.36294823280529,
                    10.36294823280529,
                    10.36294823280529,
                    10.36294823280529,
                    10.36294823280529,
                    10.36294823280529,
                    10.36294823280529,
                    10.36294823280529,
                    10.36294823280529,
                    10.36294823280529,
                    10.36294823280529,
                    10.36294823280529,
                    10.36294823280529,
                    10.36294823280529,
                    10.36294823280529,
                    10.36294823280529,
                    10.36294823280529,
                    10.36294823280529
                  ],
                  "yaxis": "y"
                }
              ],
              "layout": {
                "height": 600,
                "legend": {
                  "bgcolor": "white",
                  "bordercolor": "Black",
                  "borderwidth": 2,
                  "itemclick": "toggleothers",
                  "itemdoubleclick": "toggle",
                  "itemsizing": "trace",
                  "orientation": "v",
                  "title": {
                    "text": "Country"
                  },
                  "tracegroupgap": 0,
                  "traceorder": "normal",
                  "x": 0.99,
                  "xanchor": "right",
                  "y": 0.5,
                  "yanchor": "middle"
                },
                "margin": {
                  "b": 50,
                  "l": 50,
                  "r": 50,
                  "t": 50
                },
                "template": {
                  "data": {
                    "bar": [
                      {
                        "error_x": {
                          "color": "#2a3f5f"
                        },
                        "error_y": {
                          "color": "#2a3f5f"
                        },
                        "marker": {
                          "line": {
                            "color": "#E5ECF6",
                            "width": 0.5
                          },
                          "pattern": {
                            "fillmode": "overlay",
                            "size": 10,
                            "solidity": 0.2
                          }
                        },
                        "type": "bar"
                      }
                    ],
                    "barpolar": [
                      {
                        "marker": {
                          "line": {
                            "color": "#E5ECF6",
                            "width": 0.5
                          },
                          "pattern": {
                            "fillmode": "overlay",
                            "size": 10,
                            "solidity": 0.2
                          }
                        },
                        "type": "barpolar"
                      }
                    ],
                    "carpet": [
                      {
                        "aaxis": {
                          "endlinecolor": "#2a3f5f",
                          "gridcolor": "white",
                          "linecolor": "white",
                          "minorgridcolor": "white",
                          "startlinecolor": "#2a3f5f"
                        },
                        "baxis": {
                          "endlinecolor": "#2a3f5f",
                          "gridcolor": "white",
                          "linecolor": "white",
                          "minorgridcolor": "white",
                          "startlinecolor": "#2a3f5f"
                        },
                        "type": "carpet"
                      }
                    ],
                    "choropleth": [
                      {
                        "colorbar": {
                          "outlinewidth": 0,
                          "ticks": ""
                        },
                        "type": "choropleth"
                      }
                    ],
                    "contour": [
                      {
                        "colorbar": {
                          "outlinewidth": 0,
                          "ticks": ""
                        },
                        "colorscale": [
                          [
                            0,
                            "#0d0887"
                          ],
                          [
                            0.1111111111111111,
                            "#46039f"
                          ],
                          [
                            0.2222222222222222,
                            "#7201a8"
                          ],
                          [
                            0.3333333333333333,
                            "#9c179e"
                          ],
                          [
                            0.4444444444444444,
                            "#bd3786"
                          ],
                          [
                            0.5555555555555556,
                            "#d8576b"
                          ],
                          [
                            0.6666666666666666,
                            "#ed7953"
                          ],
                          [
                            0.7777777777777778,
                            "#fb9f3a"
                          ],
                          [
                            0.8888888888888888,
                            "#fdca26"
                          ],
                          [
                            1,
                            "#f0f921"
                          ]
                        ],
                        "type": "contour"
                      }
                    ],
                    "contourcarpet": [
                      {
                        "colorbar": {
                          "outlinewidth": 0,
                          "ticks": ""
                        },
                        "type": "contourcarpet"
                      }
                    ],
                    "heatmap": [
                      {
                        "colorbar": {
                          "outlinewidth": 0,
                          "ticks": ""
                        },
                        "colorscale": [
                          [
                            0,
                            "#0d0887"
                          ],
                          [
                            0.1111111111111111,
                            "#46039f"
                          ],
                          [
                            0.2222222222222222,
                            "#7201a8"
                          ],
                          [
                            0.3333333333333333,
                            "#9c179e"
                          ],
                          [
                            0.4444444444444444,
                            "#bd3786"
                          ],
                          [
                            0.5555555555555556,
                            "#d8576b"
                          ],
                          [
                            0.6666666666666666,
                            "#ed7953"
                          ],
                          [
                            0.7777777777777778,
                            "#fb9f3a"
                          ],
                          [
                            0.8888888888888888,
                            "#fdca26"
                          ],
                          [
                            1,
                            "#f0f921"
                          ]
                        ],
                        "type": "heatmap"
                      }
                    ],
                    "heatmapgl": [
                      {
                        "colorbar": {
                          "outlinewidth": 0,
                          "ticks": ""
                        },
                        "colorscale": [
                          [
                            0,
                            "#0d0887"
                          ],
                          [
                            0.1111111111111111,
                            "#46039f"
                          ],
                          [
                            0.2222222222222222,
                            "#7201a8"
                          ],
                          [
                            0.3333333333333333,
                            "#9c179e"
                          ],
                          [
                            0.4444444444444444,
                            "#bd3786"
                          ],
                          [
                            0.5555555555555556,
                            "#d8576b"
                          ],
                          [
                            0.6666666666666666,
                            "#ed7953"
                          ],
                          [
                            0.7777777777777778,
                            "#fb9f3a"
                          ],
                          [
                            0.8888888888888888,
                            "#fdca26"
                          ],
                          [
                            1,
                            "#f0f921"
                          ]
                        ],
                        "type": "heatmapgl"
                      }
                    ],
                    "histogram": [
                      {
                        "marker": {
                          "pattern": {
                            "fillmode": "overlay",
                            "size": 10,
                            "solidity": 0.2
                          }
                        },
                        "type": "histogram"
                      }
                    ],
                    "histogram2d": [
                      {
                        "colorbar": {
                          "outlinewidth": 0,
                          "ticks": ""
                        },
                        "colorscale": [
                          [
                            0,
                            "#0d0887"
                          ],
                          [
                            0.1111111111111111,
                            "#46039f"
                          ],
                          [
                            0.2222222222222222,
                            "#7201a8"
                          ],
                          [
                            0.3333333333333333,
                            "#9c179e"
                          ],
                          [
                            0.4444444444444444,
                            "#bd3786"
                          ],
                          [
                            0.5555555555555556,
                            "#d8576b"
                          ],
                          [
                            0.6666666666666666,
                            "#ed7953"
                          ],
                          [
                            0.7777777777777778,
                            "#fb9f3a"
                          ],
                          [
                            0.8888888888888888,
                            "#fdca26"
                          ],
                          [
                            1,
                            "#f0f921"
                          ]
                        ],
                        "type": "histogram2d"
                      }
                    ],
                    "histogram2dcontour": [
                      {
                        "colorbar": {
                          "outlinewidth": 0,
                          "ticks": ""
                        },
                        "colorscale": [
                          [
                            0,
                            "#0d0887"
                          ],
                          [
                            0.1111111111111111,
                            "#46039f"
                          ],
                          [
                            0.2222222222222222,
                            "#7201a8"
                          ],
                          [
                            0.3333333333333333,
                            "#9c179e"
                          ],
                          [
                            0.4444444444444444,
                            "#bd3786"
                          ],
                          [
                            0.5555555555555556,
                            "#d8576b"
                          ],
                          [
                            0.6666666666666666,
                            "#ed7953"
                          ],
                          [
                            0.7777777777777778,
                            "#fb9f3a"
                          ],
                          [
                            0.8888888888888888,
                            "#fdca26"
                          ],
                          [
                            1,
                            "#f0f921"
                          ]
                        ],
                        "type": "histogram2dcontour"
                      }
                    ],
                    "mesh3d": [
                      {
                        "colorbar": {
                          "outlinewidth": 0,
                          "ticks": ""
                        },
                        "type": "mesh3d"
                      }
                    ],
                    "parcoords": [
                      {
                        "line": {
                          "colorbar": {
                            "outlinewidth": 0,
                            "ticks": ""
                          }
                        },
                        "type": "parcoords"
                      }
                    ],
                    "pie": [
                      {
                        "automargin": true,
                        "type": "pie"
                      }
                    ],
                    "scatter": [
                      {
                        "fillpattern": {
                          "fillmode": "overlay",
                          "size": 10,
                          "solidity": 0.2
                        },
                        "type": "scatter"
                      }
                    ],
                    "scatter3d": [
                      {
                        "line": {
                          "colorbar": {
                            "outlinewidth": 0,
                            "ticks": ""
                          }
                        },
                        "marker": {
                          "colorbar": {
                            "outlinewidth": 0,
                            "ticks": ""
                          }
                        },
                        "type": "scatter3d"
                      }
                    ],
                    "scattercarpet": [
                      {
                        "marker": {
                          "colorbar": {
                            "outlinewidth": 0,
                            "ticks": ""
                          }
                        },
                        "type": "scattercarpet"
                      }
                    ],
                    "scattergeo": [
                      {
                        "marker": {
                          "colorbar": {
                            "outlinewidth": 0,
                            "ticks": ""
                          }
                        },
                        "type": "scattergeo"
                      }
                    ],
                    "scattergl": [
                      {
                        "marker": {
                          "colorbar": {
                            "outlinewidth": 0,
                            "ticks": ""
                          }
                        },
                        "type": "scattergl"
                      }
                    ],
                    "scattermapbox": [
                      {
                        "marker": {
                          "colorbar": {
                            "outlinewidth": 0,
                            "ticks": ""
                          }
                        },
                        "type": "scattermapbox"
                      }
                    ],
                    "scatterpolar": [
                      {
                        "marker": {
                          "colorbar": {
                            "outlinewidth": 0,
                            "ticks": ""
                          }
                        },
                        "type": "scatterpolar"
                      }
                    ],
                    "scatterpolargl": [
                      {
                        "marker": {
                          "colorbar": {
                            "outlinewidth": 0,
                            "ticks": ""
                          }
                        },
                        "type": "scatterpolargl"
                      }
                    ],
                    "scatterternary": [
                      {
                        "marker": {
                          "colorbar": {
                            "outlinewidth": 0,
                            "ticks": ""
                          }
                        },
                        "type": "scatterternary"
                      }
                    ],
                    "surface": [
                      {
                        "colorbar": {
                          "outlinewidth": 0,
                          "ticks": ""
                        },
                        "colorscale": [
                          [
                            0,
                            "#0d0887"
                          ],
                          [
                            0.1111111111111111,
                            "#46039f"
                          ],
                          [
                            0.2222222222222222,
                            "#7201a8"
                          ],
                          [
                            0.3333333333333333,
                            "#9c179e"
                          ],
                          [
                            0.4444444444444444,
                            "#bd3786"
                          ],
                          [
                            0.5555555555555556,
                            "#d8576b"
                          ],
                          [
                            0.6666666666666666,
                            "#ed7953"
                          ],
                          [
                            0.7777777777777778,
                            "#fb9f3a"
                          ],
                          [
                            0.8888888888888888,
                            "#fdca26"
                          ],
                          [
                            1,
                            "#f0f921"
                          ]
                        ],
                        "type": "surface"
                      }
                    ],
                    "table": [
                      {
                        "cells": {
                          "fill": {
                            "color": "#EBF0F8"
                          },
                          "line": {
                            "color": "white"
                          }
                        },
                        "header": {
                          "fill": {
                            "color": "#C8D4E3"
                          },
                          "line": {
                            "color": "white"
                          }
                        },
                        "type": "table"
                      }
                    ]
                  },
                  "layout": {
                    "annotationdefaults": {
                      "arrowcolor": "#2a3f5f",
                      "arrowhead": 0,
                      "arrowwidth": 1
                    },
                    "autotypenumbers": "strict",
                    "coloraxis": {
                      "colorbar": {
                        "outlinewidth": 0,
                        "ticks": ""
                      }
                    },
                    "colorscale": {
                      "diverging": [
                        [
                          0,
                          "#8e0152"
                        ],
                        [
                          0.1,
                          "#c51b7d"
                        ],
                        [
                          0.2,
                          "#de77ae"
                        ],
                        [
                          0.3,
                          "#f1b6da"
                        ],
                        [
                          0.4,
                          "#fde0ef"
                        ],
                        [
                          0.5,
                          "#f7f7f7"
                        ],
                        [
                          0.6,
                          "#e6f5d0"
                        ],
                        [
                          0.7,
                          "#b8e186"
                        ],
                        [
                          0.8,
                          "#7fbc41"
                        ],
                        [
                          0.9,
                          "#4d9221"
                        ],
                        [
                          1,
                          "#276419"
                        ]
                      ],
                      "sequential": [
                        [
                          0,
                          "#0d0887"
                        ],
                        [
                          0.1111111111111111,
                          "#46039f"
                        ],
                        [
                          0.2222222222222222,
                          "#7201a8"
                        ],
                        [
                          0.3333333333333333,
                          "#9c179e"
                        ],
                        [
                          0.4444444444444444,
                          "#bd3786"
                        ],
                        [
                          0.5555555555555556,
                          "#d8576b"
                        ],
                        [
                          0.6666666666666666,
                          "#ed7953"
                        ],
                        [
                          0.7777777777777778,
                          "#fb9f3a"
                        ],
                        [
                          0.8888888888888888,
                          "#fdca26"
                        ],
                        [
                          1,
                          "#f0f921"
                        ]
                      ],
                      "sequentialminus": [
                        [
                          0,
                          "#0d0887"
                        ],
                        [
                          0.1111111111111111,
                          "#46039f"
                        ],
                        [
                          0.2222222222222222,
                          "#7201a8"
                        ],
                        [
                          0.3333333333333333,
                          "#9c179e"
                        ],
                        [
                          0.4444444444444444,
                          "#bd3786"
                        ],
                        [
                          0.5555555555555556,
                          "#d8576b"
                        ],
                        [
                          0.6666666666666666,
                          "#ed7953"
                        ],
                        [
                          0.7777777777777778,
                          "#fb9f3a"
                        ],
                        [
                          0.8888888888888888,
                          "#fdca26"
                        ],
                        [
                          1,
                          "#f0f921"
                        ]
                      ]
                    },
                    "colorway": [
                      "#636efa",
                      "#EF553B",
                      "#00cc96",
                      "#ab63fa",
                      "#FFA15A",
                      "#19d3f3",
                      "#FF6692",
                      "#B6E880",
                      "#FF97FF",
                      "#FECB52"
                    ],
                    "font": {
                      "color": "#2a3f5f"
                    },
                    "geo": {
                      "bgcolor": "white",
                      "lakecolor": "white",
                      "landcolor": "#E5ECF6",
                      "showlakes": true,
                      "showland": true,
                      "subunitcolor": "white"
                    },
                    "hoverlabel": {
                      "align": "left"
                    },
                    "hovermode": "closest",
                    "mapbox": {
                      "style": "light"
                    },
                    "paper_bgcolor": "white",
                    "plot_bgcolor": "#E5ECF6",
                    "polar": {
                      "angularaxis": {
                        "gridcolor": "white",
                        "linecolor": "white",
                        "ticks": ""
                      },
                      "bgcolor": "#E5ECF6",
                      "radialaxis": {
                        "gridcolor": "white",
                        "linecolor": "white",
                        "ticks": ""
                      }
                    },
                    "scene": {
                      "xaxis": {
                        "backgroundcolor": "#E5ECF6",
                        "gridcolor": "white",
                        "gridwidth": 2,
                        "linecolor": "white",
                        "showbackground": true,
                        "ticks": "",
                        "zerolinecolor": "white"
                      },
                      "yaxis": {
                        "backgroundcolor": "#E5ECF6",
                        "gridcolor": "white",
                        "gridwidth": 2,
                        "linecolor": "white",
                        "showbackground": true,
                        "ticks": "",
                        "zerolinecolor": "white"
                      },
                      "zaxis": {
                        "backgroundcolor": "#E5ECF6",
                        "gridcolor": "white",
                        "gridwidth": 2,
                        "linecolor": "white",
                        "showbackground": true,
                        "ticks": "",
                        "zerolinecolor": "white"
                      }
                    },
                    "shapedefaults": {
                      "line": {
                        "color": "#2a3f5f"
                      }
                    },
                    "ternary": {
                      "aaxis": {
                        "gridcolor": "white",
                        "linecolor": "white",
                        "ticks": ""
                      },
                      "baxis": {
                        "gridcolor": "white",
                        "linecolor": "white",
                        "ticks": ""
                      },
                      "bgcolor": "#E5ECF6",
                      "caxis": {
                        "gridcolor": "white",
                        "linecolor": "white",
                        "ticks": ""
                      }
                    },
                    "title": {
                      "x": 0.05
                    },
                    "xaxis": {
                      "automargin": true,
                      "gridcolor": "white",
                      "linecolor": "white",
                      "ticks": "",
                      "title": {
                        "standoff": 15
                      },
                      "zerolinecolor": "white",
                      "zerolinewidth": 2
                    },
                    "yaxis": {
                      "automargin": true,
                      "gridcolor": "white",
                      "linecolor": "white",
                      "ticks": "",
                      "title": {
                        "standoff": 15
                      },
                      "zerolinecolor": "white",
                      "zerolinewidth": 2
                    }
                  }
                },
                "title": {
                  "text": "Logarithmic GDP vs. Population Density"
                },
                "width": 1200,
                "xaxis": {
                  "anchor": "y",
                  "domain": [
                    0,
                    1
                  ],
                  "title": {
                    "text": "Population Density"
                  }
                },
                "yaxis": {
                  "anchor": "x",
                  "domain": [
                    0,
                    1
                  ],
                  "title": {
                    "text": "Logarithmic GDP (base 10)"
                  }
                }
              }
            }
          },
          "metadata": {},
          "output_type": "display_data"
        }
      ],
      "source": [
        "import plotly.express as px\n",
        "\n",
        "# Sample data for visualization efficiency\n",
        "sampled_data = df.groupby('Country').apply(lambda x: x.sample(n=20, replace=True)).reset_index(drop=True)\n",
        "\n",
        "# Create scatter plot using Plotly\n",
        "fig = px.scatter(sampled_data, x='Density', y='Log_GDP', color='Country',\n",
        "                 hover_data={'Country': True, 'Density': True, 'GDP': True},\n",
        "                 labels={'Density': 'Population Density', 'Log_GDP': 'Logarithmic GDP (base 10)', 'Country': 'Country'},\n",
        "                 title='Logarithmic GDP vs. Population Density',\n",
        "                 width=1200, height=600)\n",
        "\n",
        "fig.update_traces(marker=dict(size=10, opacity=0.7))\n",
        "fig.update_layout(legend_title_text='Country', \n",
        "                  legend=dict(orientation=\"v\", yanchor=\"middle\", y=0.5, xanchor=\"right\", x=0.99,\n",
        "                              bordercolor=\"Black\", borderwidth=2, bgcolor=\"white\",\n",
        "                              traceorder=\"normal\", itemsizing='trace',\n",
        "                              itemclick=\"toggleothers\", itemdoubleclick=\"toggle\"),\n",
        "                  margin=dict(l=50, r=50, t=50, b=50),  # Adjust margins to avoid overlap\n",
        "                  )\n",
        "\n",
        "# Save plot as SVG file\n",
        "fig.write_image(\"scatter.svg\")\n",
        "\n",
        "fig.show()\n"
      ]
    }
  ],
  "metadata": {
    "colab": {
      "provenance": []
    },
    "kernelspec": {
      "display_name": "Python 3",
      "name": "python3"
    },
    "language_info": {
      "codemirror_mode": {
        "name": "ipython",
        "version": 3
      },
      "file_extension": ".py",
      "mimetype": "text/x-python",
      "name": "python",
      "nbconvert_exporter": "python",
      "pygments_lexer": "ipython3",
      "version": "3.11.5"
    }
  },
  "nbformat": 4,
  "nbformat_minor": 0
}
